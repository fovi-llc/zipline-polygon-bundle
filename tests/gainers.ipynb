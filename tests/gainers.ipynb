{
 "cells": [
  {
   "cell_type": "code",
   "execution_count": 1,
   "id": "b9e282f4-9311-465e-bb86-54075314c68f",
   "metadata": {},
   "outputs": [
    {
     "data": {
      "text/plain": [
       "True"
      ]
     },
     "execution_count": 1,
     "metadata": {},
     "output_type": "execute_result"
    }
   ],
   "source": [
    "%load_ext dotenv\n",
    "%dotenv -o\n",
    "\n",
    "import os\n",
    "not not os.environ[\"POLYGON_API_KEY\"]"
   ]
  },
  {
   "cell_type": "code",
   "execution_count": 2,
   "id": "e90fed78-7b98-4deb-8338-0126a3ca283a",
   "metadata": {},
   "outputs": [],
   "source": [
    "from zipline_polygon_bundle.config import PolygonConfig\n",
    "from zipline_polygon_bundle import date_to_path, trades_schema, cast_trades, custom_aggs_schema, custom_aggs_partitioning, generate_csv_trades_tables, trades_to_custom_aggs\n",
    "\n",
    "from typing import Iterator, Tuple\n",
    "\n",
    "import pandas as pd\n",
    "\n",
    "import pyarrow as pa\n",
    "from pyarrow import dataset as pa_ds\n",
    "from pyarrow import compute as pa_compute\n",
    "from pyarrow import parquet as pa_parquet\n",
    "\n",
    "from fsspec.implementations.arrow import ArrowFSWrapper\n",
    "\n",
    "import os\n",
    "\n",
    "import datetime\n",
    "import pandas_market_calendars\n",
    "import numpy as np\n",
    "\n",
    "import resource\n",
    "\n",
    "from itables import show"
   ]
  },
  {
   "cell_type": "code",
   "execution_count": 3,
   "id": "6ff4a656-7e96-4a64-b91d-58996bd88ab1",
   "metadata": {},
   "outputs": [
    {
     "data": {
      "text/plain": [
       "417616"
      ]
     },
     "execution_count": 3,
     "metadata": {},
     "output_type": "execute_result"
    }
   ],
   "source": [
    "resource.getrusage(resource.RUSAGE_SELF).ru_maxrss"
   ]
  },
  {
   "cell_type": "code",
   "execution_count": 4,
   "id": "b0ecdb38-89cf-4822-8f35-bf37edebcae3",
   "metadata": {},
   "outputs": [
    {
     "data": {
      "text/plain": [
       "resource.struct_rusage(ru_utime=3.373119, ru_stime=1.391889, ru_maxrss=417616, ru_ixrss=0, ru_idrss=0, ru_isrss=0, ru_minflt=68637, ru_majflt=0, ru_nswap=0, ru_inblock=116832, ru_oublock=312, ru_msgsnd=0, ru_msgrcv=0, ru_nsignals=0, ru_nvcsw=4679, ru_nivcsw=471)"
      ]
     },
     "execution_count": 4,
     "metadata": {},
     "output_type": "execute_result"
    }
   ],
   "source": [
    "resource.getrusage(resource.RUSAGE_SELF)"
   ]
  },
  {
   "cell_type": "code",
   "execution_count": 5,
   "id": "6af35027-80ca-49b1-bb6f-d62b9c8a9950",
   "metadata": {},
   "outputs": [
    {
     "name": "stdout",
     "output_type": "stream",
     "text": [
      "config.minute_aggs_dir='/media/mirror/files.polygon.io/flatfiles/us_stocks_sip/minute_aggs_v1'\n",
      "config.trades_dir='/media/mirror/files.polygon.io/flatfiles/us_stocks_sip/trades_v1'\n",
      "config.custom_aggs_dir='/home/jovyan/data/60sec_aggs'\n",
      "config.aggs_dir='/home/jovyan/data/60sec_aggs'\n",
      "config.by_ticker_dir='/home/jovyan/data/60sec_aggs_by_ticker'\n"
     ]
    }
   ],
   "source": [
    "if not \"CUSTOM_ASSET_FILES_DIR\" in os.environ:\n",
    "    os.environ[\"CUSTOM_ASSET_FILES_DIR\"]= \"/home/jovyan/data\"\n",
    "\n",
    "config = PolygonConfig(\n",
    "    environ=os.environ,\n",
    "    calendar_name=\"NYSE\",\n",
    "    start_date=\"2021-01-01\",\n",
    "    end_date=\"2021-01-08\",\n",
    "    agg_time=\"1min\",\n",
    ")\n",
    "\n",
    "pd.set_option('display.width', 250)\n",
    "\n",
    "print(f\"{config.minute_aggs_dir=}\")\n",
    "print(f\"{config.trades_dir=}\")\n",
    "print(f\"{config.custom_aggs_dir=}\")\n",
    "print(f\"{config.aggs_dir=}\")\n",
    "print(f\"{config.by_ticker_dir=}\")"
   ]
  },
  {
   "cell_type": "code",
   "execution_count": 4,
   "id": "314b00c7-69ee-46eb-ba9e-054052eea823",
   "metadata": {},
   "outputs": [
    {
     "data": {
      "text/plain": [
       "ticker: string not null\n",
       "volume: int64 not null\n",
       "open: double not null\n",
       "close: double not null\n",
       "high: double not null\n",
       "low: double not null\n",
       "window_start: timestamp[ns, tz=UTC] not null\n",
       "transactions: int64 not null\n",
       "date: date32[day] not null\n",
       "year: uint16 not null\n",
       "month: uint8 not null"
      ]
     },
     "execution_count": 4,
     "metadata": {},
     "output_type": "execute_result"
    }
   ],
   "source": [
    "aggs_ds = pa_ds.dataset(config.custom_aggs_dir, schema=custom_aggs_schema(), partitioning=custom_aggs_partitioning())\n",
    "aggs_ds.schema"
   ]
  },
  {
   "cell_type": "code",
   "execution_count": 6,
   "id": "d8da86f6-0eee-4aff-b5b6-e820064d4ebb",
   "metadata": {},
   "outputs": [
    {
     "data": {
      "text/plain": [
       "array([datetime.date(2020, 10, 20), datetime.date(2020, 10, 20),\n",
       "       datetime.date(2020, 10, 20), datetime.date(2020, 10, 20),\n",
       "       datetime.date(2020, 10, 20), datetime.date(2020, 10, 20),\n",
       "       datetime.date(2020, 10, 20), datetime.date(2020, 10, 20),\n",
       "       datetime.date(2020, 10, 20), datetime.date(2020, 10, 20)],\n",
       "      dtype=object)"
      ]
     },
     "execution_count": 6,
     "metadata": {},
     "output_type": "execute_result"
    }
   ],
   "source": [
    "np.full(10, datetime.date(2020, 10, 20))"
   ]
  },
  {
   "cell_type": "code",
   "execution_count": 7,
   "id": "4aab0ce6-bdd1-4d9c-ae21-ebd8ffe9a974",
   "metadata": {},
   "outputs": [
    {
     "data": {
      "text/plain": [
       "<pyarrow.lib.Date32Array object at 0x7e3c19d76020>\n",
       "[\n",
       "  2020-10-20,\n",
       "  2020-10-20,\n",
       "  2020-10-20,\n",
       "  2020-10-20,\n",
       "  2020-10-20,\n",
       "  2020-10-20,\n",
       "  2020-10-20,\n",
       "  2020-10-20,\n",
       "  2020-10-20,\n",
       "  2020-10-20\n",
       "]"
      ]
     },
     "execution_count": 7,
     "metadata": {},
     "output_type": "execute_result"
    }
   ],
   "source": [
    "pa.array(np.full(10, datetime.date(2020, 10, 20)))"
   ]
  },
  {
   "cell_type": "code",
   "execution_count": 5,
   "id": "29a1e198-e885-49a1-9115-80ac07555ef8",
   "metadata": {},
   "outputs": [
    {
     "data": {
      "text/plain": [
       "{}"
      ]
     },
     "execution_count": 5,
     "metadata": {},
     "output_type": "execute_result"
    }
   ],
   "source": [
    "pa_ds.get_partition_keys(aggs_ds.partition_expression)"
   ]
  },
  {
   "cell_type": "code",
   "execution_count": 9,
   "id": "a56b4776-09db-4d08-8e09-9ef6957165d8",
   "metadata": {},
   "outputs": [
    {
     "name": "stdout",
     "output_type": "stream",
     "text": [
      "fragment.partition_expression=<pyarrow.compute.Expression (((year == 2017) and (month == 1)) and (date == 2017-01-03))>\n",
      "pa_ds.get_partition_keys(fragment.partition_expression)={'date': datetime.date(2017, 1, 3), 'month': 1, 'year': 2017}\n",
      "fragment.partition_expression=<pyarrow.compute.Expression (((year == 2017) and (month == 1)) and (date == 2017-01-04))>\n",
      "pa_ds.get_partition_keys(fragment.partition_expression)={'date': datetime.date(2017, 1, 4), 'month': 1, 'year': 2017}\n",
      "fragment.partition_expression=<pyarrow.compute.Expression (((year == 2017) and (month == 1)) and (date == 2017-01-05))>\n",
      "pa_ds.get_partition_keys(fragment.partition_expression)={'date': datetime.date(2017, 1, 5), 'month': 1, 'year': 2017}\n",
      "fragment.partition_expression=<pyarrow.compute.Expression (((year == 2017) and (month == 1)) and (date == 2017-01-06))>\n",
      "pa_ds.get_partition_keys(fragment.partition_expression)={'date': datetime.date(2017, 1, 6), 'month': 1, 'year': 2017}\n"
     ]
    }
   ],
   "source": [
    "for fragment in aggs_ds.get_fragments():\n",
    "    print(f\"{fragment.partition_expression=}\")\n",
    "    print(f\"{pa_ds.get_partition_keys(fragment.partition_expression)=}\")\n",
    "    # print(f\"{fragment.partition_expression.get_partition_values()=}\")\n",
    "    # print(f\"{fragment.physical_schema=}\")\n"
   ]
  },
  {
   "cell_type": "code",
   "execution_count": 19,
   "id": "6964368c-2f0c-4925-a5bb-9e9fe21b3250",
   "metadata": {},
   "outputs": [
    {
     "name": "stdout",
     "output_type": "stream",
     "text": [
      "fragment.partition_expression=<pyarrow.compute.Expression (((year == 2017) and (month == 1)) and (date == 2017-01-03))>\n",
      "pa_ds.get_partition_keys(fragment.partition_expression)={'date': datetime.date(2017, 1, 3), 'month': 1, 'year': 2017}\n",
      "<class 'pandas.core.frame.DataFrame'>\n",
      "RangeIndex: 1545399 entries, 0 to 1545398\n",
      "Data columns (total 8 columns):\n",
      " #   Column        Non-Null Count    Dtype              \n",
      "---  ------        --------------    -----              \n",
      " 0   ticker        1545399 non-null  object             \n",
      " 1   volume        1545399 non-null  int64              \n",
      " 2   open          1545399 non-null  float64            \n",
      " 3   close         1545399 non-null  float64            \n",
      " 4   high          1545399 non-null  float64            \n",
      " 5   low           1545399 non-null  float64            \n",
      " 6   window_start  1545399 non-null  datetime64[ns, EST]\n",
      " 7   transactions  1545399 non-null  int64              \n",
      "dtypes: datetime64[ns, EST](1), float64(4), int64(2), object(1)\n",
      "memory usage: 94.3+ MB\n",
      "df['window_start'].min()=Timestamp('2017-01-03 04:00:00-0500', tz='EST')\n",
      "df['window_start'].max()=Timestamp('2017-01-03 20:00:00-0500', tz='EST')\n",
      "        ticker  volume      open     close      high       low              window_start  transactions\n",
      "0          AAL      82   46.6000   46.6000   46.6000   46.6000 2017-01-03 04:00:00-05:00             2\n",
      "1         AAPL      43  116.0000  115.9000  116.0000  115.9000 2017-01-03 04:00:00-05:00             4\n",
      "2          ABX     240   16.0900   16.0900   16.0900   16.0900 2017-01-03 04:00:00-05:00             1\n",
      "3         ADSK     900   74.0000   74.0000   74.0000   74.0000 2017-01-03 04:00:00-05:00             5\n",
      "4          AMD     100   11.4500   11.4500   11.4500   11.4500 2017-01-03 04:00:00-05:00             1\n",
      "...        ...     ...       ...       ...       ...       ...                       ...           ...\n",
      "1545394    YXI     100   26.6700   26.6700   26.6700   26.6700 2017-01-03 20:00:00-05:00             2\n",
      "1545395    YYY     131   18.6000   18.6000   18.6000   18.6000 2017-01-03 20:00:00-05:00             1\n",
      "1545396   ZMLP     125   19.1087   19.1087   19.1087   19.1087 2017-01-03 20:00:00-05:00             1\n",
      "1545397   ZROZ     141  109.4811  109.4811  109.4811  109.4811 2017-01-03 20:00:00-05:00             1\n",
      "1545398    ZSL     100   37.0100   37.0100   37.0100   37.0100 2017-01-03 20:00:00-05:00             1\n",
      "\n",
      "[1545399 rows x 8 columns]\n",
      "\n",
      "fragment.partition_expression=<pyarrow.compute.Expression (((year == 2017) and (month == 1)) and (date == 2017-01-04))>\n",
      "pa_ds.get_partition_keys(fragment.partition_expression)={'date': datetime.date(2017, 1, 4), 'month': 1, 'year': 2017}\n",
      "<class 'pandas.core.frame.DataFrame'>\n",
      "RangeIndex: 1512525 entries, 0 to 1512524\n",
      "Data columns (total 8 columns):\n",
      " #   Column        Non-Null Count    Dtype              \n",
      "---  ------        --------------    -----              \n",
      " 0   ticker        1512525 non-null  object             \n",
      " 1   volume        1512525 non-null  int64              \n",
      " 2   open          1512525 non-null  float64            \n",
      " 3   close         1512525 non-null  float64            \n",
      " 4   high          1512525 non-null  float64            \n",
      " 5   low           1512525 non-null  float64            \n",
      " 6   window_start  1512525 non-null  datetime64[ns, EST]\n",
      " 7   transactions  1512525 non-null  int64              \n",
      "dtypes: datetime64[ns, EST](1), float64(4), int64(2), object(1)\n",
      "memory usage: 92.3+ MB\n",
      "df['window_start'].min()=Timestamp('2017-01-04 04:00:00-0500', tz='EST')\n",
      "df['window_start'].max()=Timestamp('2017-01-04 20:00:00-0500', tz='EST')\n",
      "        ticker  volume      open     close      high       low              window_start  transactions\n",
      "0         AAPL      30  116.3700  116.3700  116.3700  116.3700 2017-01-04 04:00:00-05:00             1\n",
      "1          AAU     320    1.0000    1.0000    1.0000    1.0000 2017-01-04 04:00:00-05:00             1\n",
      "2           AU      32   11.1800   11.1800   11.1800   11.1800 2017-01-04 04:00:00-05:00             1\n",
      "3          BAC    2500   22.5700   22.6300   22.6300   22.5700 2017-01-04 04:00:00-05:00             9\n",
      "4         BIDU     300  170.0200  170.0200  170.0200  170.0200 2017-01-04 04:00:00-05:00             5\n",
      "...        ...     ...       ...       ...       ...       ...                       ...           ...\n",
      "1512520    YXI     100   26.3500   26.3500   26.3500   26.3500 2017-01-04 20:00:00-05:00             1\n",
      "1512521    YYY     270   18.6900   18.6900   18.6900   18.6900 2017-01-04 20:00:00-05:00             1\n",
      "1512522   ZMLP     200   19.3999   19.3999   19.3999   19.3999 2017-01-04 20:00:00-05:00             1\n",
      "1512523   ZROZ     100  109.9000  109.9000  109.9000  109.9000 2017-01-04 20:00:00-05:00             1\n",
      "1512524    ZSL     100   36.3400   36.3400   36.3400   36.3400 2017-01-04 20:00:00-05:00             1\n",
      "\n",
      "[1512525 rows x 8 columns]\n",
      "\n",
      "fragment.partition_expression=<pyarrow.compute.Expression (((year == 2017) and (month == 1)) and (date == 2017-01-05))>\n",
      "pa_ds.get_partition_keys(fragment.partition_expression)={'date': datetime.date(2017, 1, 5), 'month': 1, 'year': 2017}\n",
      "<class 'pandas.core.frame.DataFrame'>\n",
      "RangeIndex: 1477447 entries, 0 to 1477446\n",
      "Data columns (total 8 columns):\n",
      " #   Column        Non-Null Count    Dtype              \n",
      "---  ------        --------------    -----              \n",
      " 0   ticker        1477447 non-null  object             \n",
      " 1   volume        1477447 non-null  int64              \n",
      " 2   open          1477447 non-null  float64            \n",
      " 3   close         1477447 non-null  float64            \n",
      " 4   high          1477447 non-null  float64            \n",
      " 5   low           1477447 non-null  float64            \n",
      " 6   window_start  1477447 non-null  datetime64[ns, EST]\n",
      " 7   transactions  1477447 non-null  int64              \n",
      "dtypes: datetime64[ns, EST](1), float64(4), int64(2), object(1)\n",
      "memory usage: 90.2+ MB\n",
      "df['window_start'].min()=Timestamp('2017-01-05 04:00:00-0500', tz='EST')\n",
      "df['window_start'].max()=Timestamp('2017-01-05 20:00:00-0500', tz='EST')\n",
      "        ticker  volume      open     close      high       low              window_start  transactions\n",
      "0          ABB     130   21.2900   21.2900   21.2900   21.2900 2017-01-05 04:00:00-05:00             1\n",
      "1          ABX     200   16.6800   16.6900   16.6900   16.6800 2017-01-05 04:00:00-05:00             2\n",
      "2           AG     100    8.6200    8.6200    8.6200    8.6200 2017-01-05 04:00:00-05:00             1\n",
      "3          AUY     383    3.1100    3.1100    3.1100    3.1100 2017-01-05 04:00:00-05:00             3\n",
      "4          AXP     100   76.3700   76.3700   76.3700   76.3700 2017-01-05 04:00:00-05:00             1\n",
      "...        ...     ...       ...       ...       ...       ...                       ...           ...\n",
      "1477442    YYY     100   18.7000   18.7000   18.7000   18.7000 2017-01-05 20:00:00-05:00             1\n",
      "1477443   ZMLP     500   19.3845   19.3845   19.3845   19.3845 2017-01-05 20:00:00-05:00             1\n",
      "1477444   ZROZ     163  112.5901  112.5901  112.5901  112.5901 2017-01-05 20:00:00-05:00             1\n",
      "1477445    ZSL     100   35.5900   35.5900   35.5900   35.5900 2017-01-05 20:00:00-05:00             1\n",
      "1477446   ZSML     106   25.4500   25.4500   25.4500   25.4500 2017-01-05 20:00:00-05:00             1\n",
      "\n",
      "[1477447 rows x 8 columns]\n",
      "\n",
      "fragment.partition_expression=<pyarrow.compute.Expression (((year == 2017) and (month == 1)) and (date == 2017-01-06))>\n",
      "pa_ds.get_partition_keys(fragment.partition_expression)={'date': datetime.date(2017, 1, 6), 'month': 1, 'year': 2017}\n",
      "<class 'pandas.core.frame.DataFrame'>\n",
      "RangeIndex: 1422243 entries, 0 to 1422242\n",
      "Data columns (total 8 columns):\n",
      " #   Column        Non-Null Count    Dtype              \n",
      "---  ------        --------------    -----              \n",
      " 0   ticker        1422243 non-null  object             \n",
      " 1   volume        1422243 non-null  int64              \n",
      " 2   open          1422243 non-null  float64            \n",
      " 3   close         1422243 non-null  float64            \n",
      " 4   high          1422243 non-null  float64            \n",
      " 5   low           1422243 non-null  float64            \n",
      " 6   window_start  1422243 non-null  datetime64[ns, EST]\n",
      " 7   transactions  1422243 non-null  int64              \n",
      "dtypes: datetime64[ns, EST](1), float64(4), int64(2), object(1)\n",
      "memory usage: 86.8+ MB\n",
      "df['window_start'].min()=Timestamp('2017-01-06 04:00:00-0500', tz='EST')\n",
      "df['window_start'].max()=Timestamp('2017-01-06 20:00:00-0500', tz='EST')\n",
      "        ticker  volume    open   close    high     low              window_start  transactions\n",
      "0          ABX    3000   17.28   17.28   17.28   17.28 2017-01-06 04:00:00-05:00             4\n",
      "1          AUO     320    3.85    3.87    3.87    3.85 2017-01-06 04:00:00-05:00             2\n",
      "2          AXP       1   75.00   75.00   75.00   75.00 2017-01-06 04:00:00-05:00             1\n",
      "3         BABA     200   94.00   94.00   94.00   94.00 2017-01-06 04:00:00-05:00             3\n",
      "4          BAC     153   22.68   22.68   22.68   22.68 2017-01-06 04:00:00-05:00             1\n",
      "...        ...     ...     ...     ...     ...     ...                       ...           ...\n",
      "1422238    YXI     100   26.19   26.19   26.19   26.19 2017-01-06 20:00:00-05:00             1\n",
      "1422239    YYY     200   18.73   18.73   18.73   18.73 2017-01-06 20:00:00-05:00             1\n",
      "1422240   ZMLP     200   19.49   19.49   19.49   19.49 2017-01-06 20:00:00-05:00             1\n",
      "1422241   ZROZ     347  110.86  110.86  110.86  110.86 2017-01-06 20:00:00-05:00             2\n",
      "1422242    ZSL     100   36.05   36.05   36.05   36.05 2017-01-06 20:00:00-05:00             1\n",
      "\n",
      "[1422243 rows x 8 columns]\n",
      "\n"
     ]
    }
   ],
   "source": [
    "for fragment in aggs_ds.get_fragments():\n",
    "    print(f\"{fragment.partition_expression=}\")\n",
    "    print(f\"{pa_ds.get_partition_keys(fragment.partition_expression)=}\")\n",
    "    # print(f\"{fragment.physical_schema=}\")\n",
    "    table = fragment.to_table()\n",
    "    # print(f\"{table.slice(length=1)=}\")\n",
    "    # print(f\"{table.schema=}\")\n",
    "    # print(f\"{table=}\")\n",
    "    df = table.to_pandas()\n",
    "    df['window_start'] = df['window_start'].dt.tz_convert('EST')\n",
    "    df.info()\n",
    "    print(f\"{df['window_start'].min()=}\")\n",
    "    print(f\"{df['window_start'].max()=}\")\n",
    "    print(df)\n",
    "    print()"
   ]
  },
  {
   "cell_type": "code",
   "execution_count": 6,
   "id": "badc202b-9a92-41b9-a08b-50205409a4d6",
   "metadata": {},
   "outputs": [],
   "source": [
    "table_gen = generate_csv_trades_tables(config)"
   ]
  },
  {
   "cell_type": "code",
   "execution_count": 7,
   "id": "4de5403b-76a0-4f01-9a8a-7a856607dbf9",
   "metadata": {},
   "outputs": [
    {
     "data": {
      "text/plain": [
       "(datetime.date(2021, 1, 4),\n",
       " pyarrow.Table\n",
       " ticker: string not null\n",
       " conditions: string not null\n",
       " correction: string not null\n",
       " exchange: int8 not null\n",
       " id: string not null\n",
       " participant_timestamp: timestamp[ns, tz=UTC] not null\n",
       " price: double not null\n",
       " sequence_number: int64 not null\n",
       " sip_timestamp: timestamp[ns, tz=UTC] not null\n",
       " size: int64 not null\n",
       " tape: int8 not null\n",
       " trf_id: int64 not null\n",
       " trf_timestamp: timestamp[ns, tz=UTC] not null\n",
       " ----\n",
       " ticker: [[\"A\",\"A\",\"A\",\"A\",\"A\",...,\"A\",\"A\",\"A\",\"A\",\"A\"],[\"A\",\"A\",\"A\",\"A\",\"A\",...,\"AA\",\"AA\",\"AA\",\"AA\",\"AA\"],...,[\"ZVO\",\"ZVO\",\"ZVO\",\"ZVO\",\"ZVO\",...,\"ZYNE\",\"ZYNE\",\"ZYNE\",\"ZYNE\",\"ZYNE\"],[\"ZYNE\",\"ZYNE\",\"ZYNE\",\"ZYNE\",\"ZYNE\",...,\"ZYXI\",\"ZYXI\",\"ZYXI\",\"ZYXI\",\"ZYXI\"]]\n",
       " conditions: [[\"12,37\",\"12,37\",\"12,37\",\"12,37\",\"12,37\",...,\"37\",\"14,41\",\"14,37,41\",\"14,41\",\"14,37,41\"],[\"14,37,41\",\"14,37,41\",\"14,37,41\",\"14,37,41\",\"14,41\",...,\"\",\"\",\"14,41\",\"14,41\",\"14,37,41\"],...,[\"37\",\"37\",\"\",\"\",\"37\",...,\"37\",\"37\",\"37\",\"14,37,41\",\"37\"],[\"\",\"37\",\"37\",\"37\",\"37\",...,\"12,37\",\"12,37\",\"12,37\",\"12,37\",\"12,37\"]]\n",
       " correction: [[\"0\",\"0\",\"0\",\"0\",\"0\",...,\"0\",\"0\",\"0\",\"0\",\"0\"],[\"0\",\"0\",\"0\",\"0\",\"0\",...,\"0\",\"0\",\"0\",\"0\",\"0\"],...,[\"0\",\"0\",\"0\",\"0\",\"0\",...,\"0\",\"0\",\"0\",\"0\",\"0\"],[\"0\",\"0\",\"0\",\"0\",\"0\",...,\"0\",\"0\",\"0\",\"0\",\"0\"]]\n",
       " exchange: [[8,8,11,11,8,...,3,7,10,10,12],[12,12,12,19,18,...,4,4,10,10,19],...,[4,4,4,4,4,...,4,4,4,8,4],[4,4,4,4,4,...,4,4,4,12,4]]\n",
       " id: [[\"52983525027903\",\"52983525027904\",\"52983525097782\",\"52983525097783\",\"52983525028213\",...,\"52983526807125\",\"52983525170493\",\"52983543903537\",\"52983543903538\",\"62879752866388\"],[\"62879752866389\",\"62879752866390\",\"62879752866391\",\"52983525563969\",\"52983525162055\",...,\"71675274279239\",\"71675274279240\",\"52983525097796\",\"52983525097797\",\"52983525031743\"],...,[\"104\",\"105\",\"106\",\"244\",\"245\",...,\"602\",\"603\",\"604\",\"57\",\"605\"],[\"606\",\"607\",\"608\",\"214\",\"609\",...,\"1418\",\"1419\",\"1420\",\"1207\",\"1421\"]]\n",
       " participant_timestamp: [[2021-01-04 12:00:00.064978000Z,2021-01-04 12:00:00.064978000Z,2021-01-04 12:02:37.005064448Z,2021-01-04 12:02:37.005064448Z,2021-01-04 12:04:53.386710000Z,...,2021-01-04 18:00:56.738834432Z,2021-01-04 18:01:00.508083000Z,2021-01-04 18:01:05.577185536Z,2021-01-04 18:01:06.817933056Z,2021-01-04 18:01:06.817907556Z],[2021-01-04 18:01:06.817907556Z,2021-01-04 18:01:06.817907556Z,2021-01-04 18:01:06.817907556Z,2021-01-04 18:01:06.818018000Z,2021-01-04 18:01:06.818025000Z,...,2021-01-04 14:31:08.026000000Z,2021-01-04 14:31:08.015000000Z,2021-01-04 14:31:10.062005504Z,2021-01-04 14:31:10.062005504Z,2021-01-04 14:31:10.061808000Z],...,[2021-01-04 16:55:18.025000000Z,2021-01-04 16:55:18.025000000Z,2021-01-04 16:55:18.025000000Z,2021-01-04 16:55:18.025000000Z,2021-01-04 16:55:18.025000000Z,...,2021-01-04 15:36:35.622000000Z,2021-01-04 15:36:37.335000000Z,2021-01-04 15:36:37.484000000Z,2021-01-04 15:36:55.131373000Z,2021-01-04 15:37:11.665000000Z],[2021-01-04 15:37:11.665000000Z,2021-01-04 15:37:17.327000000Z,2021-01-04 15:37:17.965000000Z,2021-01-04 15:37:21.949000000Z,2021-01-04 15:37:45.405000000Z,...,2021-01-04 21:43:33.000000000Z,2021-01-04 21:43:33.000000000Z,2021-01-04 21:50:19.812000000Z,2021-01-04 22:40:39.474860343Z,2021-01-04 22:44:49.443000000Z]]\n",
       " price: [[122,122,118.5,118.5,118.56,...,117.64,117.64,117.66,117.68,117.68],[117.68,117.68,117.68,117.68,117.68,...,23.935,23.935,23.96,23.97,23.96],...,[4.55,4.55,4.55,4.55,4.55,...,3.32,3.32,3.325,3.32,3.32],[3.32,3.32,3.33,3.31,3.32,...,13.88,13.88,13.88,13.72,13.88]]\n",
       " sequence_number: [[4231,4232,4545,4546,4650,...,993868,994300,994521,994556,994559],[994560,994561,994562,994563,994564,...,35138,35139,35219,35220,35221],...,[2658193,2658194,2658195,2658203,2658204,...,1488382,1488655,1488715,1493078,1497772],[1497773,1499055,1499253,1500115,1505707,...,5950743,5950744,5955406,5966917,5967607]]\n",
       " sip_timestamp: [[2021-01-04 12:00:00.070650112Z,2021-01-04 12:00:00.070654976Z,2021-01-04 12:02:37.005111296Z,2021-01-04 12:02:37.005111296Z,2021-01-04 12:04:53.386980608Z,...,2021-01-04 18:00:56.738859520Z,2021-01-04 18:01:00.508328704Z,2021-01-04 18:01:05.577231104Z,2021-01-04 18:01:06.817980160Z,2021-01-04 18:01:06.818250240Z],[2021-01-04 18:01:06.818255104Z,2021-01-04 18:01:06.818260736Z,2021-01-04 18:01:06.818267136Z,2021-01-04 18:01:06.818267136Z,2021-01-04 18:01:06.818275328Z,...,2021-01-04 14:31:09.340456192Z,2021-01-04 14:31:09.340546048Z,2021-01-04 14:31:10.062031104Z,2021-01-04 14:31:10.062034688Z,2021-01-04 14:31:10.062049536Z],...,[2021-01-04 16:55:18.027713225Z,2021-01-04 16:55:18.027841263Z,2021-01-04 16:55:18.028120146Z,2021-01-04 16:55:18.134625612Z,2021-01-04 16:55:18.137225029Z,...,2021-01-04 15:36:35.624657456Z,2021-01-04 15:36:37.337438276Z,2021-01-04 15:36:37.486757783Z,2021-01-04 15:36:55.131580457Z,2021-01-04 15:37:11.666268257Z],[2021-01-04 15:37:11.666741865Z,2021-01-04 15:37:17.329773539Z,2021-01-04 15:37:17.967418714Z,2021-01-04 15:37:21.950376764Z,2021-01-04 15:37:45.407732458Z,...,2021-01-04 21:43:33.113982432Z,2021-01-04 21:43:33.114939017Z,2021-01-04 21:50:20.891800289Z,2021-01-04 22:40:39.474878692Z,2021-01-04 22:44:49.445641631Z]]\n",
       " size: [[5,3,1,2,69,...,27,100,20,102,16],[1,3,5,2,101,...,607,400,700,410,90],...,[24,80,100,108,24,...,1,1,1,13,16],[4984,25,1,9,1,...,3,3,84,1,20]]\n",
       " ...)"
      ]
     },
     "execution_count": 7,
     "metadata": {},
     "output_type": "execute_result"
    }
   ],
   "source": [
    "date, trades_table = next(table_gen)\n",
    "date, trades_table"
   ]
  },
  {
   "cell_type": "code",
   "execution_count": 8,
   "id": "bbaa7d5f-1d3c-4e80-be44-7c99d3dd29ac",
   "metadata": {},
   "outputs": [
    {
     "name": "stdout",
     "output_type": "stream",
     "text": [
      "date=datetime.date(2021, 1, 4) pa.total_allocated_bytes()=6924336192\n",
      "mp.backend_name='mimalloc' mp=<pyarrow.MemoryPool backend_name=mimalloc bytes_allocated=6924336192 max_memory=6931781696>\n",
      "resource.getrusage(resource.RUSAGE_SELF).ru_maxrss=7806996\n"
     ]
    },
    {
     "data": {
      "text/plain": [
       "pyarrow.Table\n",
       "ticker: string not null\n",
       "window_start: timestamp[ns, tz=UTC]\n",
       "open: double\n",
       "high: double\n",
       "low: double\n",
       "close: double\n",
       "size_sum: int64\n",
       "transactions: int64\n",
       "----\n",
       "ticker: [[\"CTEST.A\",\"MTEST.A\",\"PTEST.A\",\"ATEST.A\",\"CTEST.A\",...,\"ZOM\",\"ZROZ\",\"ZSL\",\"ZTEST\",\"ZTST\"]]\n",
       "window_start: [[2021-01-04 06:30:00.000000000Z,2021-01-04 06:30:00.000000000Z,2021-01-04 06:30:00.000000000Z,2021-01-04 06:31:00.000000000Z,2021-01-04 06:31:00.000000000Z,...,2021-01-05 01:00:00.000000000Z,2021-01-05 01:00:00.000000000Z,2021-01-05 01:00:00.000000000Z,2021-01-05 01:00:00.000000000Z,2021-01-05 01:00:00.000000000Z]]\n",
       "open: [[10.604894,14.720926,10.593358,12.645032,14.515077,...,0.35,162.67,6.41,10.1,40.17]]\n",
       "high: [[11.510764,14.720926,12.273018,14.552261,14.515077,...,0.35,162.67,6.41,10.1,40.17]]\n",
       "low: [[10.604894,14.720926,10.593358,10.854299,11.478276,...,0.35,162.67,6.41,10.1,40.17]]\n",
       "close: [[11.510764,14.720926,12.273018,10.854299,11.556036,...,0.35,162.67,6.41,10.1,40.17]]\n",
       "size_sum: [[222,111,222,666,444,...,61277,107,387,100,100]]\n",
       "transactions: [[2,1,2,6,4,...,1,1,1,1,1]]"
      ]
     },
     "execution_count": 8,
     "metadata": {},
     "output_type": "execute_result"
    }
   ],
   "source": [
    "aggs_table = trades_to_custom_aggs(config, date, trades_table)\n",
    "aggs_table"
   ]
  },
  {
   "cell_type": "code",
   "execution_count": 10,
   "id": "f01a183a-e9b7-4e43-9380-5aa961d9793d",
   "metadata": {},
   "outputs": [
    {
     "data": {
      "text/html": [
       "<table id=\"itables_9256434d_055b_44e8_94ab_6eab9968e55a\" class=\"display nowrap\" data-quarto-disable-processing=\"true\" style=\"table-layout:auto;width:auto;margin:auto;caption-side:bottom\">\n",
       "<thead>\n",
       "    <tr style=\"text-align: right;\">\n",
       "      \n",
       "      <th>ticker</th>\n",
       "      <th>window_start</th>\n",
       "      <th>open</th>\n",
       "      <th>high</th>\n",
       "      <th>low</th>\n",
       "      <th>close</th>\n",
       "      <th>size_sum</th>\n",
       "      <th>transactions</th>\n",
       "    </tr>\n",
       "  </thead><tbody><tr>\n",
       "<td style=\"vertical-align:middle; text-align:left\">\n",
       "<a href=https://mwouts.github.io/itables/><svg class=\"main-svg\" xmlns=\"http://www.w3.org/2000/svg\" xmlns:xlink=\"http://www.w3.org/1999/xlink\"\n",
       "width=\"64\" viewBox=\"0 0 500 400\" style=\"font-family: 'Droid Sans', sans-serif;\">\n",
       "    <g style=\"fill:#d9d7fc\">\n",
       "        <path d=\"M100,400H500V357H100Z\" />\n",
       "        <path d=\"M100,300H400V257H100Z\" />\n",
       "        <path d=\"M0,200H400V157H0Z\" />\n",
       "        <path d=\"M100,100H500V57H100Z\" />\n",
       "        <path d=\"M100,350H500V307H100Z\" />\n",
       "        <path d=\"M100,250H400V207H100Z\" />\n",
       "        <path d=\"M0,150H400V107H0Z\" />\n",
       "        <path d=\"M100,50H500V7H100Z\" />\n",
       "    </g>\n",
       "    <g style=\"fill:#1a1366;stroke:#1a1366;\">\n",
       "   <rect x=\"100\" y=\"7\" width=\"400\" height=\"43\">\n",
       "    <animate\n",
       "      attributeName=\"width\"\n",
       "      values=\"0;400;0\"\n",
       "      dur=\"5s\"\n",
       "      repeatCount=\"indefinite\" />\n",
       "      <animate\n",
       "      attributeName=\"x\"\n",
       "      values=\"100;100;500\"\n",
       "      dur=\"5s\"\n",
       "      repeatCount=\"indefinite\" />\n",
       "  </rect>\n",
       "        <rect x=\"0\" y=\"107\" width=\"400\" height=\"43\">\n",
       "    <animate\n",
       "      attributeName=\"width\"\n",
       "      values=\"0;400;0\"\n",
       "      dur=\"3.5s\"\n",
       "      repeatCount=\"indefinite\" />\n",
       "    <animate\n",
       "      attributeName=\"x\"\n",
       "      values=\"0;0;400\"\n",
       "      dur=\"3.5s\"\n",
       "      repeatCount=\"indefinite\" />\n",
       "  </rect>\n",
       "        <rect x=\"100\" y=\"207\" width=\"300\" height=\"43\">\n",
       "    <animate\n",
       "      attributeName=\"width\"\n",
       "      values=\"0;300;0\"\n",
       "      dur=\"3s\"\n",
       "      repeatCount=\"indefinite\" />\n",
       "    <animate\n",
       "      attributeName=\"x\"\n",
       "      values=\"100;100;400\"\n",
       "      dur=\"3s\"\n",
       "      repeatCount=\"indefinite\" />\n",
       "  </rect>\n",
       "        <rect x=\"100\" y=\"307\" width=\"400\" height=\"43\">\n",
       "    <animate\n",
       "      attributeName=\"width\"\n",
       "      values=\"0;400;0\"\n",
       "      dur=\"4s\"\n",
       "      repeatCount=\"indefinite\" />\n",
       "      <animate\n",
       "      attributeName=\"x\"\n",
       "      values=\"100;100;500\"\n",
       "      dur=\"4s\"\n",
       "      repeatCount=\"indefinite\" />\n",
       "  </rect>\n",
       "        <g style=\"fill:transparent;stroke-width:8; stroke-linejoin:round\" rx=\"5\">\n",
       "            <g transform=\"translate(45 50) rotate(-45)\">\n",
       "                <circle r=\"33\" cx=\"0\" cy=\"0\" />\n",
       "                <rect x=\"-8\" y=\"32\" width=\"16\" height=\"30\" />\n",
       "            </g>\n",
       "\n",
       "            <g transform=\"translate(450 152)\">\n",
       "                <polyline points=\"-15,-20 -35,-20 -35,40 25,40 25,20\" />\n",
       "                <rect x=\"-15\" y=\"-40\" width=\"60\" height=\"60\" />\n",
       "            </g>\n",
       "\n",
       "            <g transform=\"translate(50 352)\">\n",
       "                <polygon points=\"-35,-5 0,-40 35,-5\" />\n",
       "                <polygon points=\"-35,10 0,45 35,10\" />\n",
       "            </g>\n",
       "\n",
       "            <g transform=\"translate(75 250)\">\n",
       "                <polyline points=\"-30,30 -60,0 -30,-30\" />\n",
       "                <polyline points=\"0,30 -30,0 0,-30\" />\n",
       "            </g>\n",
       "\n",
       "            <g transform=\"translate(425 250) rotate(180)\">\n",
       "                <polyline points=\"-30,30 -60,0 -30,-30\" />\n",
       "                <polyline points=\"0,30 -30,0 0,-30\" />\n",
       "            </g>\n",
       "        </g>\n",
       "    </g>\n",
       "</svg>\n",
       "</a>\n",
       "Loading ITables v2.2.4 from the internet...\n",
       "(need <a href=https://mwouts.github.io/itables/troubleshooting.html>help</a>?)</td>\n",
       "</tr></tbody>\n",
       "</table>\n",
       "<link href=\"https://www.unpkg.com/dt_for_itables@2.0.13/dt_bundle.css\" rel=\"stylesheet\">\n",
       "<script type=\"module\">\n",
       "    import {DataTable, jQuery as $} from 'https://www.unpkg.com/dt_for_itables@2.0.13/dt_bundle.js';\n",
       "\n",
       "    document.querySelectorAll(\"#itables_9256434d_055b_44e8_94ab_6eab9968e55a:not(.dataTable)\").forEach(table => {\n",
       "        if (!(table instanceof HTMLTableElement))\n",
       "            return;\n",
       "\n",
       "        // Define the table data\n",
       "        const data = [[\"CTEST.A\", \"2021-01-04 06:30:00+00:00\", 10.604894, 11.510764, 10.604894, 11.510764, 222, 2], [\"MTEST.A\", \"2021-01-04 06:30:00+00:00\", 14.720926, 14.720926, 14.720926, 14.720926, 111, 1], [\"PTEST.A\", \"2021-01-04 06:30:00+00:00\", 10.593358, 12.273018, 10.593358, 12.273018, 222, 2], [\"ATEST.A\", \"2021-01-04 06:31:00+00:00\", 12.645032, 14.552261, 10.854299, 10.854299, 666, 6], [\"CTEST.A\", \"2021-01-04 06:31:00+00:00\", 14.515077, 14.515077, 11.478276, 11.556036, 444, 4], [\"MTEST.A\", \"2021-01-04 06:31:00+00:00\", 11.597999, 13.447429, 10.012197, 13.005311, 666, 6], [\"PTEST.A\", \"2021-01-04 06:31:00+00:00\", 10.8771, 14.730552, 10.8771, 14.118285, 555, 5], [\"ATEST.A\", \"2021-01-04 06:32:00+00:00\", 13.976489, 14.533651, 10.507785, 14.038263, 555, 5], [\"CTEST.A\", \"2021-01-04 06:32:00+00:00\", 10.180399, 13.61614, 10.180399, 13.61614, 666, 6], [\"MTEST.A\", \"2021-01-04 06:32:00+00:00\", 14.410574, 14.598244, 10.082016, 14.292215, 555, 5], [\"PTEST.A\", \"2021-01-04 06:32:00+00:00\", 14.938359, 14.938359, 12.372631, 13.709607, 555, 5], [\"ATEST.A\", \"2021-01-04 06:33:00+00:00\", 10.259911, 13.659324, 10.259911, 12.073451, 555, 5], [\"CTEST.A\", \"2021-01-04 06:33:00+00:00\", 13.472536, 13.621454, 10.775914, 11.602024, 555, 5], [\"MTEST.A\", \"2021-01-04 06:33:00+00:00\", 13.49722, 14.07631, 10.019862, 14.07631, 777, 7], [\"PTEST.A\", \"2021-01-04 06:33:00+00:00\", 10.233675, 12.407985, 10.233675, 12.407985, 666, 6], [\"ATEST.A\", \"2021-01-04 06:34:00+00:00\", 10.700589, 14.801667, 10.700589, 12.456982, 888, 8], [\"CTEST.A\", \"2021-01-04 06:34:00+00:00\", 10.864363, 14.847049, 10.864363, 11.686137, 777, 7], [\"MTEST.A\", \"2021-01-04 06:34:00+00:00\", 11.542784, 14.572779, 10.714845, 10.714845, 555, 5], [\"PTEST.A\", \"2021-01-04 06:34:00+00:00\", 13.81045, 13.81045, 11.060759, 12.130635, 666, 6], [\"ATEST.A\", \"2021-01-04 06:35:00+00:00\", 11.923656, 14.953499, 11.072056, 14.944137, 555, 5], [\"CTEST.A\", \"2021-01-04 06:35:00+00:00\", 11.885336, 14.986852, 11.885336, 14.986852, 666, 6], [\"MTEST.A\", \"2021-01-04 06:35:00+00:00\", 11.780496, 14.410229, 10.741632, 10.928008, 666, 6], [\"PTEST.A\", \"2021-01-04 06:35:00+00:00\", 12.780059, 14.471391, 11.413718, 14.471391, 555, 5], [\"ATEST.A\", \"2021-01-04 06:36:00+00:00\", 14.496783, 14.496783, 10.257278, 12.487866, 555, 5], [\"CTEST.A\", \"2021-01-04 06:36:00+00:00\", 12.12078, 14.913987, 11.622654, 11.705856, 666, 6], [\"MTEST.A\", \"2021-01-04 06:36:00+00:00\", 14.249097, 14.520037, 10.315191, 10.315191, 444, 4], [\"PTEST.A\", \"2021-01-04 06:36:00+00:00\", 10.391825, 13.130586, 10.390643, 12.865864, 666, 6], [\"ATEST.A\", \"2021-01-04 06:37:00+00:00\", 14.898115, 14.898115, 10.245559, 10.770731, 333, 3], [\"CTEST.A\", \"2021-01-04 06:37:00+00:00\", 12.251391, 14.89512, 10.515103, 13.446454, 666, 6], [\"MTEST.A\", \"2021-01-04 06:37:00+00:00\", 12.808514, 14.290927, 10.708255, 10.708255, 777, 7], [\"PTEST.A\", \"2021-01-04 06:37:00+00:00\", 13.801187, 14.558423, 10.3688, 14.558423, 666, 6], [\"ATEST.A\", \"2021-01-04 06:38:00+00:00\", 11.182062, 12.664557, 11.182062, 11.473755, 333, 3], [\"CTEST.A\", \"2021-01-04 06:38:00+00:00\", 10.18618, 14.428694, 10.18618, 13.490744, 777, 7], [\"MTEST.A\", \"2021-01-04 06:38:00+00:00\", 13.623271, 13.623271, 10.274399, 11.894188, 555, 5], [\"PTEST.A\", \"2021-01-04 06:38:00+00:00\", 11.745595, 13.795806, 10.442395, 13.795806, 555, 5], [\"ATEST.A\", \"2021-01-04 06:39:00+00:00\", 10.960796, 14.811329, 10.063547, 10.504268, 777, 7], [\"CTEST.A\", \"2021-01-04 06:39:00+00:00\", 12.67239, 14.745028, 10.806554, 12.481529, 666, 6], [\"MTEST.A\", \"2021-01-04 06:39:00+00:00\", 11.860806, 13.973688, 10.376316, 13.973688, 555, 5], [\"PTEST.A\", \"2021-01-04 06:39:00+00:00\", 13.694718, 13.694718, 10.552546, 13.400107, 555, 5], [\"ATEST.A\", \"2021-01-04 06:40:00+00:00\", 11.549969, 14.944944, 10.811029, 10.811029, 555, 5], [\"CTEST.A\", \"2021-01-04 06:40:00+00:00\", 14.08865, 14.769262, 11.946764, 11.946764, 555, 5], [\"MTEST.A\", \"2021-01-04 06:40:00+00:00\", 14.781484, 14.930149, 10.335714, 10.761309, 777, 7], [\"PTEST.A\", \"2021-01-04 06:40:00+00:00\", 13.470875, 13.470875, 12.120928, 12.912842, 666, 6], [\"ATEST.A\", \"2021-01-04 06:41:00+00:00\", 14.717159, 14.987342, 10.196074, 12.839057, 888, 8], [\"CTEST.A\", \"2021-01-04 06:41:00+00:00\", 11.950662, 14.502476, 11.095881, 14.502476, 666, 6], [\"MTEST.A\", \"2021-01-04 06:41:00+00:00\", 10.684394, 12.254098, 10.624182, 10.624182, 444, 4], [\"PTEST.A\", \"2021-01-04 06:41:00+00:00\", 10.950691, 14.611552, 10.950691, 12.613, 444, 4], [\"ATEST.A\", \"2021-01-04 06:42:00+00:00\", 11.083921, 14.562084, 10.351185, 13.556149, 555, 5], [\"CTEST.A\", \"2021-01-04 06:42:00+00:00\", 10.348095, 14.382779, 10.348095, 12.772271, 777, 7], [\"MTEST.A\", \"2021-01-04 06:42:00+00:00\", 11.606558, 13.540231, 10.666902, 11.268126, 555, 5], [\"PTEST.A\", \"2021-01-04 06:42:00+00:00\", 13.59881, 14.718409, 10.485238, 14.718409, 777, 7], [\"ATEST.A\", \"2021-01-04 06:43:00+00:00\", 10.124828, 14.682962, 10.124828, 10.991689, 555, 5], [\"CTEST.A\", \"2021-01-04 06:43:00+00:00\", 14.748401, 14.748401, 10.519604, 10.519604, 444, 4], [\"MTEST.A\", \"2021-01-04 06:43:00+00:00\", 12.535809, 14.136675, 10.560612, 12.359877, 666, 6], [\"PTEST.A\", \"2021-01-04 06:43:00+00:00\", 14.311726, 14.311726, 10.058742, 10.058742, 333, 3], [\"ATEST.A\", \"2021-01-04 06:44:00+00:00\", 15.009493, 15.009493, 10.125379, 10.274026, 555, 5], [\"CTEST.A\", \"2021-01-04 06:44:00+00:00\", 10.683865, 11.597246, 10.417423, 10.417423, 444, 4], [\"MTEST.A\", \"2021-01-04 06:44:00+00:00\", 11.838376, 14.623231, 10.038888, 10.038888, 555, 5], [\"PTEST.A\", \"2021-01-04 06:44:00+00:00\", 10.094448, 12.215629, 10.094448, 12.107014, 777, 7], [\"ATEST.A\", \"2021-01-04 06:45:00+00:00\", 11.6073, 14.350573, 10.138739, 10.978812, 777, 7], [\"CTEST.A\", \"2021-01-04 06:45:00+00:00\", 10.45844, 14.825132, 10.45844, 12.864991, 555, 5], [\"MTEST.A\", \"2021-01-04 06:45:00+00:00\", 11.139769, 13.521676, 10.123202, 10.303419, 666, 6], [\"PTEST.A\", \"2021-01-04 06:45:00+00:00\", 12.837069, 14.466545, 12.206527, 13.711583, 555, 5], [\"ATEST.A\", \"2021-01-04 06:46:00+00:00\", 10.100293, 14.611697, 10.053597, 10.053597, 666, 6], [\"CTEST.A\", \"2021-01-04 06:46:00+00:00\", 14.266306, 14.399235, 10.822565, 14.399235, 777, 7], [\"MTEST.A\", \"2021-01-04 06:46:00+00:00\", 14.086709, 14.086709, 10.691709, 11.69576, 555, 5], [\"PTEST.A\", \"2021-01-04 06:46:00+00:00\", 14.008136, 14.010248, 10.396812, 10.396812, 777, 7], [\"ATEST.A\", \"2021-01-04 06:47:00+00:00\", 10.86759, 14.903341, 10.86759, 12.415404, 666, 6], [\"CTEST.A\", \"2021-01-04 06:47:00+00:00\", 14.470761, 14.470761, 10.007192, 11.693633, 666, 6], [\"MTEST.A\", \"2021-01-04 06:47:00+00:00\", 11.184589, 14.569733, 10.226837, 10.226837, 777, 7], [\"PTEST.A\", \"2021-01-04 06:47:00+00:00\", 12.067268, 13.608928, 12.067268, 13.232953, 555, 5], [\"ATEST.A\", \"2021-01-04 06:48:00+00:00\", 14.224254, 14.224254, 10.538087, 10.538087, 444, 4], [\"CTEST.A\", \"2021-01-04 06:48:00+00:00\", 14.322776, 14.862632, 13.209904, 13.209904, 444, 4], [\"MTEST.A\", \"2021-01-04 06:48:00+00:00\", 13.810479, 13.955148, 10.640945, 12.337562, 444, 4], [\"PTEST.A\", \"2021-01-04 06:48:00+00:00\", 14.808222, 14.808222, 11.487381, 11.487381, 555, 5], [\"ATEST.A\", \"2021-01-04 06:49:00+00:00\", 11.047548, 14.191277, 10.096959, 10.707944, 555, 5], [\"CTEST.A\", \"2021-01-04 06:49:00+00:00\", 13.001536, 14.968914, 11.474967, 13.941586, 777, 7], [\"MTEST.A\", \"2021-01-04 06:49:00+00:00\", 12.312338, 14.783919, 11.916227, 14.783919, 666, 6], [\"PTEST.A\", \"2021-01-04 06:49:00+00:00\", 10.615815, 14.60033, 10.615815, 11.534231, 777, 7], [\"ATEST.A\", \"2021-01-04 06:50:00+00:00\", 14.502384, 14.502384, 10.776037, 12.840198, 777, 7], [\"CTEST.A\", \"2021-01-04 06:50:00+00:00\", 12.468869, 14.999496, 10.796466, 14.281768, 555, 5], [\"MTEST.A\", \"2021-01-04 06:50:00+00:00\", 10.048733, 14.938396, 10.048733, 10.058011, 777, 7], [\"PTEST.A\", \"2021-01-04 06:50:00+00:00\", 11.992775, 14.496849, 11.23685, 14.496849, 555, 5], [\"ATEST.A\", \"2021-01-04 06:51:00+00:00\", 10.771911, 13.629777, 10.542972, 10.542972, 555, 5], [\"CTEST.A\", \"2021-01-04 06:51:00+00:00\", 12.729961, 14.035061, 11.310051, 11.310051, 666, 6], [\"MTEST.A\", \"2021-01-04 06:51:00+00:00\", 14.931537, 14.931537, 13.799226, 13.799226, 444, 4], [\"PTEST.A\", \"2021-01-04 06:51:00+00:00\", 10.718644, 14.220472, 10.718644, 11.144659, 666, 6], [\"ATEST.A\", \"2021-01-04 06:52:00+00:00\", 10.507252, 14.462419, 10.507252, 13.528994, 444, 4], [\"CTEST.A\", \"2021-01-04 06:52:00+00:00\", 11.970285, 14.206055, 10.52508, 14.206055, 666, 6], [\"MTEST.A\", \"2021-01-04 06:52:00+00:00\", 10.582634, 14.835076, 10.582634, 14.835076, 777, 7], [\"PTEST.A\", \"2021-01-04 06:52:00+00:00\", 10.337277, 14.99171, 10.075349, 10.082886, 666, 6], [\"ATEST.A\", \"2021-01-04 06:53:00+00:00\", 10.41301, 14.730071, 10.41301, 11.900163, 777, 7], [\"CTEST.A\", \"2021-01-04 06:53:00+00:00\", 13.650303, 14.068482, 10.032944, 13.767247, 555, 5], [\"MTEST.A\", \"2021-01-04 06:53:00+00:00\", 11.990459, 12.39413, 11.169171, 12.390519, 666, 6], [\"PTEST.A\", \"2021-01-04 06:53:00+00:00\", 12.221897, 14.95245, 11.137639, 14.25293, 555, 5], [\"ATEST.A\", \"2021-01-04 06:54:00+00:00\", 13.030367, 13.954023, 10.31212, 13.035031, 666, 6], [\"CTEST.A\", \"2021-01-04 06:54:00+00:00\", 11.051656, 14.328369, 10.955567, 13.025607, 777, 7], [\"MTEST.A\", \"2021-01-04 06:54:00+00:00\", 10.671628, 13.36457, 10.671628, 13.059125, 555, 5], [\"PTEST.A\", \"2021-01-04 06:54:00+00:00\", 10.463195, 13.747963, 10.421798, 13.030222, 666, 6], [\"ATEST.A\", \"2021-01-04 06:55:00+00:00\", 10.046905, 11.84733, 10.046905, 10.90943, 444, 4], [\"CTEST.A\", \"2021-01-04 06:55:00+00:00\", 10.620684, 13.254884, 10.620684, 12.509297, 555, 5], [\"MTEST.A\", \"2021-01-04 06:55:00+00:00\", 10.481157, 14.55408, 10.334664, 10.334664, 555, 5], [\"PTEST.A\", \"2021-01-04 06:55:00+00:00\", 14.287382, 14.287382, 10.177418, 11.084768, 777, 7], [\"ATEST.A\", \"2021-01-04 06:56:00+00:00\", 14.004309, 14.269743, 10.176088, 10.314965, 666, 6], [\"CTEST.A\", \"2021-01-04 06:56:00+00:00\", 12.2291, 12.370844, 10.856288, 11.423942, 666, 6], [\"MTEST.A\", \"2021-01-04 06:56:00+00:00\", 12.009002, 13.089061, 10.473328, 12.556147, 777, 7], [\"PTEST.A\", \"2021-01-04 06:56:00+00:00\", 10.051385, 14.980689, 10.051385, 11.57407, 444, 4], [\"ATEST.A\", \"2021-01-04 06:57:00+00:00\", 12.840987, 14.455319, 11.415709, 14.455319, 555, 5], [\"CTEST.A\", \"2021-01-04 06:57:00+00:00\", 12.92654, 14.416348, 11.650015, 13.742335, 666, 6], [\"MTEST.A\", \"2021-01-04 06:57:00+00:00\", 11.454432, 11.454432, 10.197476, 10.197476, 444, 4], [\"PTEST.A\", \"2021-01-04 06:57:00+00:00\", 10.605832, 13.983837, 10.605832, 12.949084, 777, 7], [\"ATEST.A\", \"2021-01-04 06:58:00+00:00\", 12.248594, 14.957234, 10.03905, 14.334543, 666, 6], [\"CTEST.A\", \"2021-01-04 06:58:00+00:00\", 12.981301, 13.11723, 11.400515, 13.117031, 666, 6], [\"MTEST.A\", \"2021-01-04 06:58:00+00:00\", 13.505106, 13.505106, 11.981912, 12.810833, 555, 5], [\"PTEST.A\", \"2021-01-04 06:58:00+00:00\", 14.01091, 14.01091, 10.503673, 12.981582, 666, 6], [\"ATEST.A\", \"2021-01-04 06:59:00+00:00\", 10.120246, 14.233001, 10.120246, 12.198172, 444, 4], [\"CTEST.A\", \"2021-01-04 06:59:00+00:00\", 10.794524, 14.680483, 10.43424, 10.830208, 777, 7], [\"MTEST.A\", \"2021-01-04 06:59:00+00:00\", 10.901812, 14.63384, 10.901812, 13.624299, 666, 6], [\"PTEST.A\", \"2021-01-04 06:59:00+00:00\", 10.46166, 13.464079, 10.46166, 13.464079, 444, 4], [\"ATEST.A\", \"2021-01-04 07:00:00+00:00\", 14.879164, 14.879164, 11.660389, 14.57175, 555, 5], [\"CTEST.A\", \"2021-01-04 07:00:00+00:00\", 10.711236, 12.554263, 10.230543, 11.064782, 555, 5], [\"MTEST.A\", \"2021-01-04 07:00:00+00:00\", 10.840178, 14.717875, 10.840178, 11.496921, 777, 7], [\"PTEST.A\", \"2021-01-04 07:00:00+00:00\", 11.328712, 14.311818, 10.524639, 10.524639, 666, 6], [\"ATEST.A\", \"2021-01-04 07:01:00+00:00\", 13.470248, 14.001184, 10.575375, 10.791511, 777, 7], [\"CTEST.A\", \"2021-01-04 07:01:00+00:00\", 13.835041, 14.935484, 11.507693, 11.507693, 555, 5], [\"MTEST.A\", \"2021-01-04 07:01:00+00:00\", 10.636579, 13.266597, 10.636579, 12.147708, 666, 6], [\"PTEST.A\", \"2021-01-04 07:01:00+00:00\", 12.36133, 14.930589, 10.624518, 12.252335, 666, 6], [\"ATEST.A\", \"2021-01-04 07:02:00+00:00\", 11.411616, 14.225945, 11.411616, 13.524519, 666, 6], [\"CTEST.A\", \"2021-01-04 07:02:00+00:00\", 11.089882, 14.606412, 11.089882, 12.829855, 777, 7], [\"MTEST.A\", \"2021-01-04 07:02:00+00:00\", 10.939057, 14.786778, 10.939057, 12.606583, 555, 5], [\"PTEST.A\", \"2021-01-04 07:02:00+00:00\", 10.896711, 14.164885, 10.887435, 14.164885, 666, 6], [\"ATEST.A\", \"2021-01-04 07:03:00+00:00\", 12.991458, 14.48811, 11.536189, 13.531923, 666, 6], [\"CTEST.A\", \"2021-01-04 07:03:00+00:00\", 10.158036, 13.161383, 10.158036, 11.495519, 555, 5], [\"MTEST.A\", \"2021-01-04 07:03:00+00:00\", 13.622875, 14.390405, 12.013072, 14.189578, 777, 7], [\"PTEST.A\", \"2021-01-04 07:03:00+00:00\", 11.361829, 14.920674, 11.361829, 14.915836, 555, 5], [\"ATEST.A\", \"2021-01-04 07:04:00+00:00\", 12.058678, 13.26302, 11.596649, 11.884937, 444, 4], [\"CTEST.A\", \"2021-01-04 07:04:00+00:00\", 10.185279, 14.843917, 10.185279, 13.281523, 555, 5], [\"MTEST.A\", \"2021-01-04 07:04:00+00:00\", 12.941893, 12.941893, 10.764838, 11.744516, 555, 5], [\"PTEST.A\", \"2021-01-04 07:04:00+00:00\", 13.914363, 14.71351, 10.028755, 11.057814, 666, 6], [\"ATEST.A\", \"2021-01-04 07:05:00+00:00\", 11.780479, 13.438631, 11.353809, 11.61384, 777, 7], [\"CTEST.A\", \"2021-01-04 07:05:00+00:00\", 11.109883, 14.503168, 10.382767, 11.883128, 555, 5], [\"MTEST.A\", \"2021-01-04 07:05:00+00:00\", 11.054894, 13.000565, 11.054894, 13.000565, 333, 3], [\"PTEST.A\", \"2021-01-04 07:05:00+00:00\", 10.799873, 14.477831, 10.799873, 14.477831, 777, 7], [\"ATEST.A\", \"2021-01-04 07:06:00+00:00\", 11.011642, 14.813903, 11.011642, 14.813903, 555, 5], [\"CTEST.A\", \"2021-01-04 07:06:00+00:00\", 11.307994, 14.124149, 10.007419, 10.007419, 666, 6], [\"MTEST.A\", \"2021-01-04 07:06:00+00:00\", 11.21546, 14.957286, 11.21546, 14.501336, 777, 7], [\"PTEST.A\", \"2021-01-04 07:06:00+00:00\", 11.627603, 14.089072, 11.388873, 14.089072, 666, 6], [\"ATEST.A\", \"2021-01-04 07:07:00+00:00\", 10.262668, 13.599359, 10.262668, 11.767738, 555, 5], [\"CTEST.A\", \"2021-01-04 07:07:00+00:00\", 12.854945, 12.854945, 10.922426, 11.128483, 555, 5], [\"MTEST.A\", \"2021-01-04 07:07:00+00:00\", 11.475451, 14.771568, 10.787662, 13.548506, 666, 6], [\"PTEST.A\", \"2021-01-04 07:07:00+00:00\", 12.840054, 13.558992, 9.997841, 9.997841, 666, 6], [\"ATEST.A\", \"2021-01-04 07:08:00+00:00\", 12.953518, 12.953518, 10.486382, 10.486382, 333, 3], [\"CTEST.A\", \"2021-01-04 07:08:00+00:00\", 11.431254, 14.932308, 11.431254, 14.932308, 555, 5], [\"MTEST.A\", \"2021-01-04 07:08:00+00:00\", 11.96365, 12.707098, 10.650012, 11.843108, 555, 5], [\"PTEST.A\", \"2021-01-04 07:08:00+00:00\", 11.987609, 14.307991, 11.702534, 13.002721, 666, 6], [\"ATEST.A\", \"2021-01-04 07:09:00+00:00\", 12.482524, 13.771137, 10.769936, 10.769936, 666, 6], [\"CTEST.A\", \"2021-01-04 07:09:00+00:00\", 10.677248, 14.108194, 10.462581, 14.108194, 666, 6], [\"MTEST.A\", \"2021-01-04 07:09:00+00:00\", 10.707925, 14.067303, 10.707925, 12.441164, 888, 8], [\"PTEST.A\", \"2021-01-04 07:09:00+00:00\", 12.288678, 14.724563, 10.381562, 14.626414, 444, 4], [\"ATEST.A\", \"2021-01-04 07:10:00+00:00\", 13.267268, 14.816764, 10.274305, 13.405037, 666, 6], [\"CTEST.A\", \"2021-01-04 07:10:00+00:00\", 11.67471, 14.78046, 11.521468, 14.78046, 777, 7], [\"MTEST.A\", \"2021-01-04 07:10:00+00:00\", 14.707393, 14.707393, 10.008529, 10.192887, 555, 5], [\"PTEST.A\", \"2021-01-04 07:10:00+00:00\", 12.297126, 14.949798, 10.180844, 12.517551, 777, 7], [\"ATEST.A\", \"2021-01-04 07:11:00+00:00\", 10.172815, 14.687693, 10.172815, 13.978458, 666, 6], [\"CTEST.A\", \"2021-01-04 07:11:00+00:00\", 10.68421, 11.09392, 10.68421, 11.09392, 222, 2], [\"MTEST.A\", \"2021-01-04 07:11:00+00:00\", 12.300893, 14.818412, 10.16409, 14.818412, 777, 7], [\"PTEST.A\", \"2021-01-04 07:11:00+00:00\", 14.346626, 14.346626, 10.191005, 14.244609, 555, 5], [\"ATEST.A\", \"2021-01-04 07:12:00+00:00\", 11.692212, 14.036305, 11.692212, 14.036305, 333, 3], [\"CTEST.A\", \"2021-01-04 07:12:00+00:00\", 11.825304, 14.983642, 10.471979, 14.983642, 888, 8], [\"MTEST.A\", \"2021-01-04 07:12:00+00:00\", 11.552512, 14.716255, 11.109236, 14.716255, 555, 5], [\"PTEST.A\", \"2021-01-04 07:12:00+00:00\", 13.41415, 14.434806, 12.52138, 12.952521, 444, 4], [\"ATEST.A\", \"2021-01-04 07:13:00+00:00\", 12.288298, 14.243935, 10.230743, 12.096101, 555, 5], [\"CTEST.A\", \"2021-01-04 07:13:00+00:00\", 10.555395, 13.822843, 10.555395, 13.168789, 555, 5], [\"MTEST.A\", \"2021-01-04 07:13:00+00:00\", 14.890549, 14.890549, 11.111694, 12.625024, 777, 7], [\"PTEST.A\", \"2021-01-04 07:13:00+00:00\", 10.594379, 14.184855, 10.594379, 11.115554, 555, 5], [\"ATEST.A\", \"2021-01-04 07:14:00+00:00\", 13.584749, 14.601141, 10.981398, 11.617034, 666, 6], [\"CTEST.A\", \"2021-01-04 07:14:00+00:00\", 11.738099, 13.790903, 11.134944, 13.715777, 666, 6], [\"MTEST.A\", \"2021-01-04 07:14:00+00:00\", 12.671696, 14.890401, 11.960564, 11.960564, 444, 4], [\"PTEST.A\", \"2021-01-04 07:14:00+00:00\", 14.949312, 14.949312, 10.454355, 12.938681, 777, 7], [\"ATEST.A\", \"2021-01-04 07:15:00+00:00\", 12.929211, 12.929211, 12.173456, 12.173456, 333, 3], [\"CTEST.A\", \"2021-01-04 07:15:00+00:00\", 12.460116, 14.097745, 10.131355, 14.090377, 666, 6], [\"MTEST.A\", \"2021-01-04 07:15:00+00:00\", 12.263406, 14.503028, 10.454496, 12.96715, 777, 7], [\"PTEST.A\", \"2021-01-04 07:15:00+00:00\", 13.243194, 13.385696, 10.665092, 13.10688, 666, 6], [\"ATEST.A\", \"2021-01-04 07:16:00+00:00\", 10.495778, 13.850898, 10.495778, 13.38046, 444, 4], [\"CTEST.A\", \"2021-01-04 07:16:00+00:00\", 10.626841, 12.420964, 10.626841, 12.420964, 555, 5], [\"MTEST.A\", \"2021-01-04 07:16:00+00:00\", 12.075701, 13.208228, 11.159788, 13.208228, 666, 6], [\"PTEST.A\", \"2021-01-04 07:16:00+00:00\", 11.453729, 14.278227, 10.142337, 10.896591, 777, 7], [\"ATEST.A\", \"2021-01-04 07:17:00+00:00\", 10.14911, 13.98471, 10.14911, 11.683885, 999, 9], [\"CTEST.A\", \"2021-01-04 07:17:00+00:00\", 11.051261, 15.004696, 11.051261, 12.773346, 555, 5], [\"MTEST.A\", \"2021-01-04 07:17:00+00:00\", 11.338775, 13.817444, 11.039546, 11.601429, 555, 5], [\"PTEST.A\", \"2021-01-04 07:17:00+00:00\", 11.091764, 12.841266, 10.318991, 10.318991, 555, 5], [\"ATEST.A\", \"2021-01-04 07:18:00+00:00\", 10.067747, 14.19765, 10.067747, 10.348793, 555, 5], [\"CTEST.A\", \"2021-01-04 07:18:00+00:00\", 12.115169, 14.499679, 11.273141, 13.220139, 777, 7], [\"MTEST.A\", \"2021-01-04 07:18:00+00:00\", 11.197518, 14.849872, 10.174374, 10.174374, 777, 7], [\"PTEST.A\", \"2021-01-04 07:18:00+00:00\", 13.18219, 13.18219, 11.331275, 11.331275, 555, 5], [\"ATEST.A\", \"2021-01-04 07:19:00+00:00\", 14.468566, 14.468566, 10.678907, 10.678907, 555, 5], [\"CTEST.A\", \"2021-01-04 07:19:00+00:00\", 14.461528, 14.461528, 11.041049, 13.243423, 666, 6], [\"MTEST.A\", \"2021-01-04 07:19:00+00:00\", 10.019291, 14.301441, 10.019291, 13.640187, 555, 5], [\"PTEST.A\", \"2021-01-04 07:19:00+00:00\", 10.838992, 14.719068, 10.838992, 14.459316, 666, 6], [\"ATEST.A\", \"2021-01-04 07:20:00+00:00\", 14.183297, 14.289068, 10.692363, 14.048372, 555, 5], [\"CTEST.A\", \"2021-01-04 07:20:00+00:00\", 12.382637, 14.132186, 11.435366, 13.243778, 444, 4], [\"MTEST.A\", \"2021-01-04 07:20:00+00:00\", 13.420418, 13.420418, 10.251289, 12.025178, 666, 6], [\"PTEST.A\", \"2021-01-04 07:20:00+00:00\", 11.612512, 14.399604, 11.612512, 12.96569, 777, 7], [\"ATEST.A\", \"2021-01-04 07:21:00+00:00\", 12.82819, 14.72473, 11.263961, 14.72473, 777, 7], [\"CTEST.A\", \"2021-01-04 07:21:00+00:00\", 10.691302, 14.307105, 10.140402, 10.140402, 555, 5], [\"MTEST.A\", \"2021-01-04 07:21:00+00:00\", 12.095569, 13.738009, 11.033637, 11.033637, 444, 4], [\"PTEST.A\", \"2021-01-04 07:21:00+00:00\", 11.27663, 14.179374, 10.418854, 10.418854, 666, 6], [\"ATEST.A\", \"2021-01-04 07:22:00+00:00\", 10.887054, 14.768944, 10.121852, 14.768944, 555, 5], [\"CTEST.A\", \"2021-01-04 07:22:00+00:00\", 10.740445, 13.115156, 10.740445, 11.883712, 777, 7], [\"MTEST.A\", \"2021-01-04 07:22:00+00:00\", 10.446423, 15.018196, 10.248662, 12.697207, 777, 7], [\"PTEST.A\", \"2021-01-04 07:22:00+00:00\", 15.009511, 15.009511, 11.081914, 11.081914, 444, 4], [\"ATEST.A\", \"2021-01-04 07:23:00+00:00\", 13.468091, 14.464656, 10.864515, 10.864515, 555, 5], [\"CTEST.A\", \"2021-01-04 07:23:00+00:00\", 11.830454, 14.260143, 11.320577, 11.320577, 444, 4], [\"MTEST.A\", \"2021-01-04 07:23:00+00:00\", 12.65797, 14.62277, 10.540882, 10.540882, 555, 5], [\"PTEST.A\", \"2021-01-04 07:23:00+00:00\", 13.848407, 13.848407, 10.555809, 13.234157, 666, 6], [\"ATEST.A\", \"2021-01-04 07:24:00+00:00\", 10.519468, 13.370631, 10.519468, 13.370631, 555, 5], [\"CTEST.A\", \"2021-01-04 07:24:00+00:00\", 13.258692, 14.951666, 12.272728, 14.596899, 777, 7], [\"MTEST.A\", \"2021-01-04 07:24:00+00:00\", 14.684517, 14.818266, 10.542978, 11.542259, 555, 5], [\"PTEST.A\", \"2021-01-04 07:24:00+00:00\", 15.011585, 15.011585, 10.967148, 11.173647, 666, 6], [\"ATEST.A\", \"2021-01-04 07:25:00+00:00\", 14.734537, 14.924905, 10.320382, 11.36881, 777, 7], [\"CTEST.A\", \"2021-01-04 07:25:00+00:00\", 10.857025, 14.658606, 10.857025, 12.974804, 666, 6], [\"MTEST.A\", \"2021-01-04 07:25:00+00:00\", 13.568421, 13.568421, 10.687987, 10.687987, 555, 5], [\"PTEST.A\", \"2021-01-04 07:25:00+00:00\", 11.759274, 12.792788, 11.124805, 11.635698, 444, 4], [\"ATEST.A\", \"2021-01-04 07:26:00+00:00\", 11.413483, 14.561287, 11.413483, 14.334861, 666, 6], [\"CTEST.A\", \"2021-01-04 07:26:00+00:00\", 12.508076, 14.626562, 10.180108, 10.180108, 555, 5], [\"MTEST.A\", \"2021-01-04 07:26:00+00:00\", 13.908105, 13.992111, 12.546762, 13.308705, 666, 6], [\"PTEST.A\", \"2021-01-04 07:26:00+00:00\", 13.826202, 14.240453, 10.521687, 11.891775, 888, 8], [\"ATEST.A\", \"2021-01-04 07:27:00+00:00\", 13.870305, 14.784299, 10.312063, 10.583634, 555, 5], [\"CTEST.A\", \"2021-01-04 07:27:00+00:00\", 10.983018, 13.541129, 10.300585, 12.563244, 666, 6], [\"MTEST.A\", \"2021-01-04 07:27:00+00:00\", 10.918317, 14.480853, 10.379681, 13.217978, 555, 5], [\"PTEST.A\", \"2021-01-04 07:27:00+00:00\", 11.129288, 14.508156, 11.129288, 13.421176, 444, 4], [\"ATEST.A\", \"2021-01-04 07:28:00+00:00\", 12.549384, 13.200888, 10.69132, 11.85093, 666, 6], [\"CTEST.A\", \"2021-01-04 07:28:00+00:00\", 14.563516, 14.765927, 11.350608, 14.628053, 888, 8], [\"MTEST.A\", \"2021-01-04 07:28:00+00:00\", 12.577879, 14.166652, 10.495618, 14.166652, 555, 5], [\"PTEST.A\", \"2021-01-04 07:28:00+00:00\", 14.197892, 14.197892, 10.156728, 11.124585, 666, 6], [\"ATEST.A\", \"2021-01-04 07:29:00+00:00\", 10.665331, 13.391168, 10.33946, 13.143479, 666, 6], [\"CTEST.A\", \"2021-01-04 07:29:00+00:00\", 14.555933, 14.555933, 11.116415, 11.877807, 555, 5], [\"MTEST.A\", \"2021-01-04 07:29:00+00:00\", 14.008954, 14.622506, 10.151534, 14.622506, 666, 6], [\"PTEST.A\", \"2021-01-04 07:29:00+00:00\", 11.00272, 14.234484, 10.735186, 11.043346, 777, 7], [\"ATEST.A\", \"2021-01-04 07:30:00+00:00\", 13.759401, 13.759401, 10.120831, 11.406099, 555, 5], [\"CTEST.A\", \"2021-01-04 07:30:00+00:00\", 12.96617, 14.971638, 11.891912, 11.891912, 666, 6], [\"MTEST.A\", \"2021-01-04 07:30:00+00:00\", 12.745567, 12.745567, 11.094795, 11.908571, 555, 5], [\"PTEST.A\", \"2021-01-04 07:30:00+00:00\", 10.299315, 12.990052, 10.299315, 10.865429, 555, 5], [\"ATEST.A\", \"2021-01-04 07:31:00+00:00\", 12.915765, 14.650263, 12.748911, 13.27074, 666, 6], [\"CTEST.A\", \"2021-01-04 07:31:00+00:00\", 14.989457, 14.989457, 10.068533, 11.543014, 666, 6], [\"MTEST.A\", \"2021-01-04 07:31:00+00:00\", 10.20521, 14.698249, 10.20521, 11.795642, 666, 6], [\"PTEST.A\", \"2021-01-04 07:31:00+00:00\", 11.45229, 14.305404, 11.45229, 14.305404, 444, 4], [\"ATEST.A\", \"2021-01-04 07:32:00+00:00\", 11.361197, 14.657528, 10.155333, 12.55709, 666, 6], [\"CTEST.A\", \"2021-01-04 07:32:00+00:00\", 11.322971, 14.176483, 10.277513, 14.176483, 555, 5], [\"MTEST.A\", \"2021-01-04 07:32:00+00:00\", 10.820549, 14.611159, 10.820549, 14.479417, 555, 5], [\"PTEST.A\", \"2021-01-04 07:32:00+00:00\", 13.390895, 14.541426, 12.007763, 12.354718, 777, 7], [\"ATEST.A\", \"2021-01-04 07:33:00+00:00\", 11.678964, 14.100015, 10.732598, 14.100015, 666, 6], [\"CTEST.A\", \"2021-01-04 07:33:00+00:00\", 14.951833, 14.951833, 9.987739, 13.106326, 777, 7], [\"MTEST.A\", \"2021-01-04 07:33:00+00:00\", 14.061452, 14.135167, 10.076159, 13.587494, 888, 8], [\"PTEST.A\", \"2021-01-04 07:33:00+00:00\", 14.066129, 14.410554, 10.203381, 11.03816, 555, 5], [\"ATEST.A\", \"2021-01-04 07:34:00+00:00\", 10.816786, 13.862524, 10.816786, 13.4623, 666, 6], [\"CTEST.A\", \"2021-01-04 07:34:00+00:00\", 12.269351, 14.819239, 10.653582, 14.819239, 666, 6], [\"MTEST.A\", \"2021-01-04 07:34:00+00:00\", 11.058374, 13.167196, 10.074247, 13.167196, 555, 5], [\"PTEST.A\", \"2021-01-04 07:34:00+00:00\", 13.349742, 14.798766, 11.035555, 14.798766, 444, 4], [\"ATEST.A\", \"2021-01-04 07:35:00+00:00\", 11.396414, 14.86854, 11.175683, 14.86854, 555, 5], [\"CTEST.A\", \"2021-01-04 07:35:00+00:00\", 14.078033, 14.078033, 10.157627, 12.856035, 444, 4], [\"MTEST.A\", \"2021-01-04 07:35:00+00:00\", 11.150614, 14.909921, 10.66524, 13.511537, 555, 5], [\"PTEST.A\", \"2021-01-04 07:35:00+00:00\", 13.114865, 13.893461, 10.335085, 11.144617, 888, 8], [\"ATEST.A\", \"2021-01-04 07:36:00+00:00\", 14.926014, 14.926014, 11.255572, 12.261988, 777, 7], [\"CTEST.A\", \"2021-01-04 07:36:00+00:00\", 13.088557, 13.088557, 10.555652, 12.234152, 666, 6], [\"MTEST.A\", \"2021-01-04 07:36:00+00:00\", 14.512435, 14.610401, 12.549227, 12.792795, 666, 6], [\"PTEST.A\", \"2021-01-04 07:36:00+00:00\", 13.910897, 13.910897, 12.126289, 12.126289, 333, 3], [\"ATEST.A\", \"2021-01-04 07:37:00+00:00\", 12.070933, 13.456173, 10.16367, 10.192113, 444, 4], [\"CTEST.A\", \"2021-01-04 07:37:00+00:00\", 11.335605, 13.146693, 10.433034, 10.915999, 777, 7], [\"MTEST.A\", \"2021-01-04 07:37:00+00:00\", 10.660022, 13.159109, 10.660022, 11.171312, 666, 6], [\"PTEST.A\", \"2021-01-04 07:37:00+00:00\", 13.396098, 14.316702, 10.54012, 10.718524, 777, 7], [\"ATEST.A\", \"2021-01-04 07:38:00+00:00\", 12.101912, 14.661246, 11.907474, 11.907474, 555, 5], [\"CTEST.A\", \"2021-01-04 07:38:00+00:00\", 14.051967, 14.133523, 10.546519, 10.83681, 666, 6], [\"MTEST.A\", \"2021-01-04 07:38:00+00:00\", 13.595787, 13.833805, 10.268609, 13.32019, 555, 5], [\"PTEST.A\", \"2021-01-04 07:38:00+00:00\", 10.042014, 14.284966, 10.042014, 11.756733, 666, 6], [\"ATEST.A\", \"2021-01-04 07:39:00+00:00\", 12.703062, 14.458503, 11.430491, 12.49724, 555, 5], [\"CTEST.A\", \"2021-01-04 07:39:00+00:00\", 13.158785, 13.158785, 10.243611, 12.183497, 555, 5], [\"MTEST.A\", \"2021-01-04 07:39:00+00:00\", 13.013649, 14.035402, 10.044611, 12.08013, 555, 5], [\"PTEST.A\", \"2021-01-04 07:39:00+00:00\", 11.350804, 14.956277, 11.350804, 12.246227, 777, 7], [\"ATEST.A\", \"2021-01-04 07:40:00+00:00\", 10.984129, 13.222899, 10.984129, 10.986988, 666, 6], [\"CTEST.A\", \"2021-01-04 07:40:00+00:00\", 14.939378, 14.939378, 10.581396, 12.960631, 666, 6], [\"MTEST.A\", \"2021-01-04 07:40:00+00:00\", 14.951484, 14.951484, 10.591736, 12.528624, 444, 4], [\"PTEST.A\", \"2021-01-04 07:40:00+00:00\", 12.560235, 14.687607, 10.497644, 10.497644, 666, 6], [\"ATEST.A\", \"2021-01-04 07:41:00+00:00\", 13.066453, 13.784039, 11.388615, 11.560727, 666, 6], [\"CTEST.A\", \"2021-01-04 07:41:00+00:00\", 10.854597, 14.585317, 10.854597, 11.026565, 555, 5], [\"MTEST.A\", \"2021-01-04 07:41:00+00:00\", 10.390189, 14.642088, 10.186054, 10.81699, 888, 8], [\"PTEST.A\", \"2021-01-04 07:41:00+00:00\", 14.436589, 14.436589, 10.052828, 10.052828, 555, 5], [\"ATEST.A\", \"2021-01-04 07:42:00+00:00\", 13.896472, 14.801504, 10.603197, 14.547589, 666, 6], [\"CTEST.A\", \"2021-01-04 07:42:00+00:00\", 14.146181, 14.146181, 10.233372, 12.816268, 888, 8], [\"MTEST.A\", \"2021-01-04 07:42:00+00:00\", 13.802173, 14.578792, 10.651503, 13.649616, 555, 5], [\"PTEST.A\", \"2021-01-04 07:42:00+00:00\", 10.925465, 12.670573, 10.685441, 12.670573, 555, 5], [\"ATEST.A\", \"2021-01-04 07:43:00+00:00\", 10.419297, 14.495953, 10.419297, 13.835598, 555, 5], [\"CTEST.A\", \"2021-01-04 07:43:00+00:00\", 13.611733, 14.273013, 11.17009, 11.17009, 555, 5], [\"MTEST.A\", \"2021-01-04 07:43:00+00:00\", 14.501535, 14.501535, 10.072508, 12.981796, 666, 6], [\"PTEST.A\", \"2021-01-04 07:43:00+00:00\", 14.370031, 14.370031, 10.460575, 10.460575, 666, 6], [\"ATEST.A\", \"2021-01-04 07:44:00+00:00\", 13.397776, 14.931927, 10.119651, 13.147289, 777, 7], [\"CTEST.A\", \"2021-01-04 07:44:00+00:00\", 12.273561, 14.408379, 10.578519, 10.578519, 666, 6], [\"MTEST.A\", \"2021-01-04 07:44:00+00:00\", 13.691399, 13.691399, 10.408075, 12.764346, 555, 5], [\"PTEST.A\", \"2021-01-04 07:44:00+00:00\", 13.425666, 13.425666, 10.677069, 13.409429, 555, 5], [\"ATEST.A\", \"2021-01-04 07:45:00+00:00\", 14.101368, 14.101368, 10.206238, 11.447778, 666, 6], [\"CTEST.A\", \"2021-01-04 07:45:00+00:00\", 10.125006, 13.573082, 10.125006, 12.992794, 666, 6], [\"MTEST.A\", \"2021-01-04 07:45:00+00:00\", 14.017511, 14.017511, 10.247644, 12.67596, 666, 6], [\"PTEST.A\", \"2021-01-04 07:45:00+00:00\", 13.626895, 14.268729, 11.52894, 13.403953, 666, 6], [\"ATEST.A\", \"2021-01-04 07:46:00+00:00\", 13.55688, 13.986336, 10.205201, 10.205201, 555, 5], [\"CTEST.A\", \"2021-01-04 07:46:00+00:00\", 10.860726, 14.08705, 10.860726, 11.444207, 555, 5], [\"MTEST.A\", \"2021-01-04 07:46:00+00:00\", 13.998058, 14.968901, 10.748665, 10.748665, 666, 6], [\"PTEST.A\", \"2021-01-04 07:46:00+00:00\", 10.427066, 11.669814, 9.982596, 11.669814, 555, 5], [\"ATEST.A\", \"2021-01-04 07:47:00+00:00\", 14.671271, 14.671271, 10.305401, 13.858095, 666, 6], [\"CTEST.A\", \"2021-01-04 07:47:00+00:00\", 10.313669, 13.981365, 10.313669, 12.402416, 444, 4], [\"MTEST.A\", \"2021-01-04 07:47:00+00:00\", 14.551314, 14.551314, 10.145617, 10.789236, 777, 7], [\"PTEST.A\", \"2021-01-04 07:47:00+00:00\", 10.595336, 14.737988, 10.595336, 13.660645, 777, 7], [\"ATEST.A\", \"2021-01-04 07:48:00+00:00\", 11.352178, 14.514697, 10.475099, 10.948735, 666, 6], [\"CTEST.A\", \"2021-01-04 07:48:00+00:00\", 14.060562, 14.439469, 11.884632, 11.884632, 666, 6], [\"MTEST.A\", \"2021-01-04 07:48:00+00:00\", 11.341758, 14.950157, 10.557584, 12.119277, 777, 7], [\"PTEST.A\", \"2021-01-04 07:48:00+00:00\", 12.316448, 14.544171, 10.079391, 14.544171, 444, 4], [\"ATEST.A\", \"2021-01-04 07:49:00+00:00\", 10.461326, 12.759677, 10.356185, 11.922071, 555, 5], [\"CTEST.A\", \"2021-01-04 07:49:00+00:00\", 12.156116, 14.541495, 10.509559, 14.541495, 666, 6], [\"MTEST.A\", \"2021-01-04 07:49:00+00:00\", 14.029704, 14.931986, 11.471897, 11.471897, 444, 4], [\"PTEST.A\", \"2021-01-04 07:49:00+00:00\", 11.795069, 13.802854, 10.222132, 12.300517, 777, 7], [\"ATEST.A\", \"2021-01-04 07:50:00+00:00\", 11.402424, 13.361834, 10.200639, 10.519522, 444, 4], [\"CTEST.A\", \"2021-01-04 07:50:00+00:00\", 14.623836, 14.623836, 10.616077, 11.23099, 666, 6], [\"MTEST.A\", \"2021-01-04 07:50:00+00:00\", 14.425725, 14.425725, 10.148525, 13.527204, 777, 7], [\"PTEST.A\", \"2021-01-04 07:50:00+00:00\", 10.974325, 13.426713, 10.470082, 11.61709, 555, 5], [\"ATEST.A\", \"2021-01-04 07:51:00+00:00\", 14.785891, 14.785891, 10.758448, 12.007603, 666, 6], [\"CTEST.A\", \"2021-01-04 07:51:00+00:00\", 13.349504, 13.903958, 12.328145, 13.903958, 555, 5], [\"MTEST.A\", \"2021-01-04 07:51:00+00:00\", 12.770806, 14.147035, 12.770806, 13.501723, 555, 5], [\"PTEST.A\", \"2021-01-04 07:51:00+00:00\", 12.148751, 13.450196, 10.782206, 12.170736, 666, 6], [\"ATEST.A\", \"2021-01-04 07:52:00+00:00\", 12.347074, 13.29784, 11.788384, 11.788384, 555, 5], [\"CTEST.A\", \"2021-01-04 07:52:00+00:00\", 14.144563, 14.466077, 11.309699, 14.390589, 666, 6], [\"MTEST.A\", \"2021-01-04 07:52:00+00:00\", 12.802228, 13.576012, 11.120871, 11.120871, 555, 5], [\"PTEST.A\", \"2021-01-04 07:52:00+00:00\", 14.367941, 14.626585, 10.711671, 14.154604, 555, 5], [\"ATEST.A\", \"2021-01-04 07:53:00+00:00\", 10.517104, 14.484963, 10.517104, 11.021374, 666, 6], [\"CTEST.A\", \"2021-01-04 07:53:00+00:00\", 12.574581, 14.743358, 11.570712, 14.743358, 555, 5], [\"MTEST.A\", \"2021-01-04 07:53:00+00:00\", 10.125366, 11.542582, 10.125366, 10.135708, 555, 5], [\"PTEST.A\", \"2021-01-04 07:53:00+00:00\", 10.206347, 14.683832, 10.206347, 14.683832, 888, 8], [\"ATEST.A\", \"2021-01-04 07:54:00+00:00\", 12.25843, 14.382662, 10.669956, 10.669956, 777, 7], [\"CTEST.A\", \"2021-01-04 07:54:00+00:00\", 13.697133, 14.980236, 10.910265, 12.177888, 666, 6], [\"MTEST.A\", \"2021-01-04 07:54:00+00:00\", 14.169862, 14.493651, 10.154923, 10.154923, 444, 4], [\"PTEST.A\", \"2021-01-04 07:54:00+00:00\", 10.889293, 14.51788, 10.855734, 14.51788, 555, 5], [\"ATEST.A\", \"2021-01-04 07:55:00+00:00\", 12.822555, 13.526534, 11.274032, 13.526534, 666, 6], [\"CTEST.A\", \"2021-01-04 07:55:00+00:00\", 13.443928, 13.443928, 10.30253, 13.258736, 555, 5], [\"MTEST.A\", \"2021-01-04 07:55:00+00:00\", 13.105287, 14.561397, 10.382776, 13.511763, 666, 6], [\"PTEST.A\", \"2021-01-04 07:55:00+00:00\", 12.220469, 14.597009, 10.562683, 13.862143, 666, 6], [\"ATEST.A\", \"2021-01-04 07:56:00+00:00\", 10.464118, 11.648541, 10.165809, 11.62305, 555, 5], [\"CTEST.A\", \"2021-01-04 07:56:00+00:00\", 14.413232, 14.413232, 10.479816, 10.479816, 666, 6], [\"MTEST.A\", \"2021-01-04 07:56:00+00:00\", 13.764379, 14.993565, 10.771334, 12.444795, 777, 7], [\"PTEST.A\", \"2021-01-04 07:56:00+00:00\", 10.941913, 14.099207, 10.624707, 13.69642, 666, 6], [\"ATEST.A\", \"2021-01-04 07:57:00+00:00\", 10.111564, 14.062228, 10.111564, 12.472963, 777, 7], [\"CTEST.A\", \"2021-01-04 07:57:00+00:00\", 11.564697, 13.593277, 10.721315, 11.853839, 555, 5], [\"MTEST.A\", \"2021-01-04 07:57:00+00:00\", 12.639212, 13.5121, 10.78828, 12.892018, 555, 5], [\"PTEST.A\", \"2021-01-04 07:57:00+00:00\", 14.625214, 14.98326, 11.207989, 12.639389, 777, 7], [\"ATEST.A\", \"2021-01-04 07:58:00+00:00\", 12.413012, 14.581819, 11.998812, 11.998812, 555, 5], [\"CTEST.A\", \"2021-01-04 07:58:00+00:00\", 11.582687, 14.329335, 10.440567, 13.625409, 888, 8], [\"MTEST.A\", \"2021-01-04 07:58:00+00:00\", 13.576573, 14.764511, 10.0476, 14.764511, 666, 6], [\"PTEST.A\", \"2021-01-04 07:58:00+00:00\", 12.602334, 13.586679, 10.75853, 13.586679, 555, 5], [\"ATEST.A\", \"2021-01-04 07:59:00+00:00\", 13.685457, 14.338606, 12.256066, 14.02545, 777, 7], [\"CTEST.A\", \"2021-01-04 07:59:00+00:00\", 13.402343, 13.402343, 10.069495, 10.069495, 444, 4], [\"MTEST.A\", \"2021-01-04 07:59:00+00:00\", 13.488427, 14.940552, 10.508932, 10.508932, 555, 5], [\"PTEST.A\", \"2021-01-04 07:59:00+00:00\", 13.514079, 14.815393, 13.514079, 14.393051, 444, 4], [\"ATEST.A\", \"2021-01-04 08:00:00+00:00\", 13.979084, 13.979084, 12.0913, 13.227322, 444, 4], [\"CTEST.A\", \"2021-01-04 08:00:00+00:00\", 11.862322, 14.890218, 10.931992, 13.050264, 666, 6], [\"MTEST.A\", \"2021-01-04 08:00:00+00:00\", 10.210052, 12.888733, 10.210052, 10.777812, 555, 5], [\"PTEST.A\", \"2021-01-04 08:00:00+00:00\", 14.386565, 14.913914, 10.251419, 10.251419, 555, 5], [\"ATEST.A\", \"2021-01-04 08:01:00+00:00\", 11.993171, 13.246227, 10.69292, 11.306773, 666, 6], [\"CTEST.A\", \"2021-01-04 08:01:00+00:00\", 14.270815, 14.501161, 10.09738, 10.648128, 666, 6], [\"MTEST.A\", \"2021-01-04 08:01:00+00:00\", 10.075294, 14.321775, 10.075294, 14.321775, 666, 6], [\"PTEST.A\", \"2021-01-04 08:01:00+00:00\", 13.516628, 14.86595, 12.255338, 14.86595, 444, 4], [\"ATEST.A\", \"2021-01-04 08:02:00+00:00\", 13.145521, 14.791146, 10.559834, 14.791146, 555, 5], [\"CTEST.A\", \"2021-01-04 08:02:00+00:00\", 12.706432, 14.7795, 12.396731, 12.471173, 777, 7], [\"MTEST.A\", \"2021-01-04 08:02:00+00:00\", 12.854308, 13.276045, 11.521045, 12.225271, 555, 5], [\"PTEST.A\", \"2021-01-04 08:02:00+00:00\", 10.752755, 14.792794, 10.752755, 14.792794, 777, 7], [\"ATEST.A\", \"2021-01-04 08:03:00+00:00\", 10.208752, 14.46537, 10.208752, 10.462688, 666, 6], [\"CTEST.A\", \"2021-01-04 08:03:00+00:00\", 13.29234, 13.29234, 10.96879, 10.96879, 333, 3], [\"MTEST.A\", \"2021-01-04 08:03:00+00:00\", 12.9652, 14.979945, 11.420934, 13.343524, 777, 7], [\"PTEST.A\", \"2021-01-04 08:03:00+00:00\", 10.810178, 13.629554, 10.77908, 13.487292, 666, 6], [\"ATEST.A\", \"2021-01-04 08:04:00+00:00\", 14.856092, 14.856092, 11.293666, 14.723415, 444, 4], [\"CTEST.A\", \"2021-01-04 08:04:00+00:00\", 14.299612, 14.299612, 11.436703, 12.632125, 777, 7], [\"MTEST.A\", \"2021-01-04 08:04:00+00:00\", 11.098031, 14.238758, 10.969971, 13.450663, 444, 4], [\"PTEST.A\", \"2021-01-04 08:04:00+00:00\", 13.888333, 14.474944, 10.933719, 14.395888, 777, 7], [\"ATEST.A\", \"2021-01-04 08:05:00+00:00\", 13.319361, 13.319361, 10.379916, 12.32884, 555, 5], [\"CTEST.A\", \"2021-01-04 08:05:00+00:00\", 11.06128, 14.696975, 10.986572, 11.196338, 777, 7], [\"MTEST.A\", \"2021-01-04 08:05:00+00:00\", 12.277481, 13.280416, 10.080513, 10.732066, 777, 7], [\"PTEST.A\", \"2021-01-04 08:05:00+00:00\", 13.112739, 14.879006, 13.112739, 13.117304, 333, 3], [\"ATEST.A\", \"2021-01-04 08:06:00+00:00\", 13.625078, 14.267102, 11.916729, 11.916729, 444, 4], [\"CTEST.A\", \"2021-01-04 08:06:00+00:00\", 14.492935, 14.492935, 10.888659, 12.50798, 555, 5], [\"MTEST.A\", \"2021-01-04 08:06:00+00:00\", 13.373944, 14.455003, 11.604947, 14.455003, 555, 5], [\"PTEST.A\", \"2021-01-04 08:06:00+00:00\", 13.513111, 14.513663, 11.277173, 11.277173, 777, 7], [\"ATEST.A\", \"2021-01-04 08:07:00+00:00\", 10.084121, 13.776438, 10.084121, 11.408166, 666, 6], [\"CTEST.A\", \"2021-01-04 08:07:00+00:00\", 14.227216, 14.457534, 10.755042, 10.755042, 777, 7], [\"MTEST.A\", \"2021-01-04 08:07:00+00:00\", 14.044816, 14.501005, 10.052296, 14.501005, 777, 7], [\"PTEST.A\", \"2021-01-04 08:07:00+00:00\", 10.641914, 14.977237, 10.09724, 13.287651, 666, 6], [\"ATEST.A\", \"2021-01-04 08:08:00+00:00\", 10.572735, 14.156322, 10.367649, 10.367649, 777, 7], [\"CTEST.A\", \"2021-01-04 08:08:00+00:00\", 13.672685, 13.672685, 10.247285, 13.064829, 555, 5], [\"MTEST.A\", \"2021-01-04 08:08:00+00:00\", 14.970448, 14.970448, 11.487734, 12.523769, 555, 5], [\"PTEST.A\", \"2021-01-04 08:08:00+00:00\", 13.587504, 13.587504, 10.522035, 12.496657, 444, 4], [\"ATEST.A\", \"2021-01-04 08:09:00+00:00\", 13.842038, 14.295185, 11.070079, 13.720333, 555, 5], [\"CTEST.A\", \"2021-01-04 08:09:00+00:00\", 13.685504, 14.471675, 10.767759, 11.063132, 666, 6], [\"MTEST.A\", \"2021-01-04 08:09:00+00:00\", 10.346654, 14.827449, 10.346654, 14.827449, 555, 5], [\"PTEST.A\", \"2021-01-04 08:09:00+00:00\", 11.578441, 14.96272, 10.336555, 14.96272, 666, 6], [\"ATEST.A\", \"2021-01-04 08:10:00+00:00\", 13.115034, 14.894348, 10.132095, 11.669455, 444, 4], [\"CTEST.A\", \"2021-01-04 08:10:00+00:00\", 10.282937, 14.86445, 10.282937, 13.375663, 666, 6], [\"MTEST.A\", \"2021-01-04 08:10:00+00:00\", 11.64702, 11.65401, 10.057131, 10.057131, 444, 4], [\"PTEST.A\", \"2021-01-04 08:10:00+00:00\", 10.767114, 14.349001, 10.595731, 14.349001, 666, 6], [\"ATEST.A\", \"2021-01-04 08:11:00+00:00\", 10.420064, 13.244653, 10.320953, 10.320953, 888, 8], [\"CTEST.A\", \"2021-01-04 08:11:00+00:00\", 12.40155, 14.60686, 11.117822, 14.60686, 777, 7], [\"MTEST.A\", \"2021-01-04 08:11:00+00:00\", 11.893538, 13.297084, 10.42787, 13.297084, 666, 6], [\"PTEST.A\", \"2021-01-04 08:11:00+00:00\", 12.186001, 13.741368, 11.618756, 11.618756, 555, 5], [\"ATEST.A\", \"2021-01-04 08:12:00+00:00\", 13.006978, 14.360642, 11.374151, 13.599446, 555, 5], [\"CTEST.A\", \"2021-01-04 08:12:00+00:00\", 10.37297, 13.569589, 10.37297, 11.495348, 555, 5], [\"MTEST.A\", \"2021-01-04 08:12:00+00:00\", 13.552752, 14.867388, 11.033341, 14.867388, 777, 7], [\"PTEST.A\", \"2021-01-04 08:12:00+00:00\", 14.566955, 14.566955, 10.296945, 10.296945, 666, 6], [\"ATEST.A\", \"2021-01-04 08:13:00+00:00\", 14.409241, 14.611845, 11.536911, 12.668927, 666, 6], [\"CTEST.A\", \"2021-01-04 08:13:00+00:00\", 11.590433, 14.579777, 11.025618, 14.420121, 666, 6], [\"MTEST.A\", \"2021-01-04 08:13:00+00:00\", 14.520154, 15.002634, 10.590613, 10.590613, 555, 5], [\"PTEST.A\", \"2021-01-04 08:13:00+00:00\", 12.326624, 14.564513, 11.335727, 13.09555, 777, 7], [\"ATEST.A\", \"2021-01-04 08:14:00+00:00\", 10.644826, 12.846401, 10.644826, 12.670271, 666, 6], [\"CTEST.A\", \"2021-01-04 08:14:00+00:00\", 14.08381, 14.08381, 10.861352, 13.244898, 555, 5], [\"MTEST.A\", \"2021-01-04 08:14:00+00:00\", 12.491463, 14.391849, 10.141817, 14.391849, 666, 6], [\"PTEST.A\", \"2021-01-04 08:14:00+00:00\", 12.215672, 12.934354, 10.533529, 11.152002, 666, 6], [\"ATEST.A\", \"2021-01-04 08:15:00+00:00\", 12.179615, 14.478634, 12.179615, 14.478634, 444, 4], [\"CTEST.A\", \"2021-01-04 08:15:00+00:00\", 13.219063, 14.427715, 10.506294, 12.513179, 777, 7], [\"MTEST.A\", \"2021-01-04 08:15:00+00:00\", 11.418401, 12.879238, 10.28908, 12.741093, 666, 6], [\"PTEST.A\", \"2021-01-04 08:15:00+00:00\", 14.971411, 14.971411, 10.342078, 10.405258, 666, 6], [\"ATEST.A\", \"2021-01-04 08:16:00+00:00\", 10.134153, 13.195133, 10.134153, 13.108758, 666, 6], [\"CTEST.A\", \"2021-01-04 08:16:00+00:00\", 10.330519, 14.649221, 10.330519, 11.838217, 555, 5], [\"MTEST.A\", \"2021-01-04 08:16:00+00:00\", 14.477552, 14.477552, 10.338802, 13.867733, 666, 6], [\"PTEST.A\", \"2021-01-04 08:16:00+00:00\", 12.496181, 14.961794, 10.256948, 13.059431, 555, 5], [\"ATEST.A\", \"2021-01-04 08:17:00+00:00\", 10.746612, 12.705787, 10.27132, 12.33433, 555, 5], [\"CTEST.A\", \"2021-01-04 08:17:00+00:00\", 11.711313, 13.232428, 10.676078, 13.232428, 555, 5], [\"MTEST.A\", \"2021-01-04 08:17:00+00:00\", 14.559661, 14.559661, 11.338066, 13.586936, 666, 6], [\"PTEST.A\", \"2021-01-04 08:17:00+00:00\", 13.063951, 14.512899, 11.757837, 12.693168, 777, 7], [\"ATEST.A\", \"2021-01-04 08:18:00+00:00\", 14.377474, 14.377474, 11.547786, 13.807413, 555, 5], [\"CTEST.A\", \"2021-01-04 08:18:00+00:00\", 15.020091, 15.020091, 10.26675, 13.189585, 777, 7], [\"MTEST.A\", \"2021-01-04 08:18:00+00:00\", 14.221398, 14.645099, 11.214258, 12.851371, 666, 6], [\"PTEST.A\", \"2021-01-04 08:18:00+00:00\", 11.457735, 13.360272, 10.166984, 10.686913, 555, 5], [\"ATEST.A\", \"2021-01-04 08:19:00+00:00\", 14.749481, 14.749481, 10.245514, 10.330137, 666, 6], [\"CTEST.A\", \"2021-01-04 08:19:00+00:00\", 12.095816, 13.654231, 10.74917, 11.970675, 777, 7], [\"MTEST.A\", \"2021-01-04 08:19:00+00:00\", 11.83978, 14.378226, 10.021986, 12.155475, 666, 6], [\"PTEST.A\", \"2021-01-04 08:19:00+00:00\", 13.930733, 14.374527, 12.833943, 14.374527, 444, 4], [\"ATEST.A\", \"2021-01-04 08:20:00+00:00\", 11.899461, 13.834933, 10.196817, 10.901744, 777, 7], [\"CTEST.A\", \"2021-01-04 08:20:00+00:00\", 10.220656, 13.24468, 10.220656, 12.986618, 444, 4], [\"MTEST.A\", \"2021-01-04 08:20:00+00:00\", 12.202086, 14.2508, 10.25707, 14.2508, 555, 5], [\"PTEST.A\", \"2021-01-04 08:20:00+00:00\", 10.004981, 12.591937, 10.004981, 12.591937, 444, 4], [\"ATEST.A\", \"2021-01-04 08:21:00+00:00\", 13.619049, 13.619049, 10.433313, 11.368355, 555, 5], [\"CTEST.A\", \"2021-01-04 08:21:00+00:00\", 13.93558, 13.93558, 10.694002, 12.308938, 555, 5], [\"MTEST.A\", \"2021-01-04 08:21:00+00:00\", 11.746971, 13.991182, 10.247759, 13.991182, 777, 7], [\"PTEST.A\", \"2021-01-04 08:21:00+00:00\", 10.457351, 13.912976, 10.313253, 13.912976, 888, 8], [\"ATEST.A\", \"2021-01-04 08:22:00+00:00\", 10.86833, 13.35386, 10.86833, 12.22649, 666, 6], [\"CTEST.A\", \"2021-01-04 08:22:00+00:00\", 14.474973, 14.798785, 11.765616, 11.765616, 777, 7], [\"MTEST.A\", \"2021-01-04 08:22:00+00:00\", 11.298942, 12.327268, 10.373687, 12.327268, 666, 6], [\"PTEST.A\", \"2021-01-04 08:22:00+00:00\", 10.910568, 11.245202, 10.767775, 11.245202, 333, 3], [\"ATEST.A\", \"2021-01-04 08:23:00+00:00\", 11.874313, 14.555816, 11.317195, 13.458478, 666, 6], [\"CTEST.A\", \"2021-01-04 08:23:00+00:00\", 14.176145, 14.189114, 11.184864, 13.745544, 555, 5], [\"MTEST.A\", \"2021-01-04 08:23:00+00:00\", 12.674044, 14.497353, 10.148248, 10.148248, 444, 4], [\"PTEST.A\", \"2021-01-04 08:23:00+00:00\", 13.781436, 14.715989, 10.829872, 13.256713, 666, 6], [\"ATEST.A\", \"2021-01-04 08:24:00+00:00\", 13.837627, 14.979658, 12.190981, 14.391751, 666, 6], [\"CTEST.A\", \"2021-01-04 08:24:00+00:00\", 10.261753, 13.231165, 10.261753, 10.480124, 555, 5], [\"MTEST.A\", \"2021-01-04 08:24:00+00:00\", 14.132383, 14.132383, 10.914559, 12.182476, 444, 4], [\"PTEST.A\", \"2021-01-04 08:24:00+00:00\", 13.522891, 14.309149, 10.602837, 14.309149, 777, 7], [\"ATEST.A\", \"2021-01-04 08:25:00+00:00\", 10.580105, 14.034439, 10.580105, 10.81144, 666, 6], [\"CTEST.A\", \"2021-01-04 08:25:00+00:00\", 14.034674, 14.383619, 10.436828, 12.838491, 777, 7], [\"MTEST.A\", \"2021-01-04 08:25:00+00:00\", 10.091802, 14.824238, 10.091802, 11.797657, 555, 5], [\"PTEST.A\", \"2021-01-04 08:25:00+00:00\", 13.559, 14.977418, 11.023966, 14.977418, 444, 4], [\"ATEST.A\", \"2021-01-04 08:26:00+00:00\", 14.682368, 14.682368, 11.756752, 11.756752, 555, 5], [\"CTEST.A\", \"2021-01-04 08:26:00+00:00\", 14.872266, 14.872266, 10.554666, 10.554666, 555, 5], [\"MTEST.A\", \"2021-01-04 08:26:00+00:00\", 12.788085, 14.44397, 12.788085, 13.159953, 555, 5], [\"PTEST.A\", \"2021-01-04 08:26:00+00:00\", 13.325931, 13.325931, 10.113586, 12.427001, 666, 6], [\"ATEST.A\", \"2021-01-04 08:27:00+00:00\", 12.841987, 14.342975, 10.113651, 14.342975, 777, 7], [\"CTEST.A\", \"2021-01-04 08:27:00+00:00\", 14.641115, 14.747354, 12.348949, 14.390733, 666, 6], [\"MTEST.A\", \"2021-01-04 08:27:00+00:00\", 14.232846, 14.232846, 10.720767, 11.406907, 777, 7], [\"PTEST.A\", \"2021-01-04 08:27:00+00:00\", 14.763572, 14.763572, 10.016038, 10.866572, 444, 4], [\"ATEST.A\", \"2021-01-04 08:28:00+00:00\", 11.170328, 14.116863, 10.537992, 12.59871, 555, 5], [\"CTEST.A\", \"2021-01-04 08:28:00+00:00\", 14.504388, 14.504388, 10.73877, 12.802008, 666, 6], [\"MTEST.A\", \"2021-01-04 08:28:00+00:00\", 10.186063, 13.553089, 10.186063, 13.553089, 666, 6], [\"PTEST.A\", \"2021-01-04 08:28:00+00:00\", 11.959463, 14.738913, 11.959463, 14.738913, 777, 7], [\"ATEST.A\", \"2021-01-04 08:29:00+00:00\", 13.373962, 13.393352, 10.044081, 11.89712, 555, 5], [\"CTEST.A\", \"2021-01-04 08:29:00+00:00\", 10.791244, 14.973783, 10.791244, 11.345062, 777, 7], [\"MTEST.A\", \"2021-01-04 08:29:00+00:00\", 11.50919, 13.171628, 11.50919, 12.166694, 555, 5], [\"PTEST.A\", \"2021-01-04 08:29:00+00:00\", 12.057199, 14.665113, 10.173455, 14.665113, 666, 6], [\"ATEST.A\", \"2021-01-04 08:30:00+00:00\", 14.668377, 14.668377, 10.693494, 14.652755, 555, 5], [\"CTEST.A\", \"2021-01-04 08:30:00+00:00\", 10.659383, 14.422331, 10.659383, 11.030864, 555, 5], [\"MTEST.A\", \"2021-01-04 08:30:00+00:00\", 14.653791, 14.653791, 10.339734, 10.339734, 555, 5], [\"PTEST.A\", \"2021-01-04 08:30:00+00:00\", 10.271319, 14.742163, 10.271319, 12.672251, 666, 6], [\"ATEST.A\", \"2021-01-04 08:31:00+00:00\", 11.144642, 13.252116, 10.817454, 11.979014, 666, 6], [\"CTEST.A\", \"2021-01-04 08:31:00+00:00\", 12.916552, 15.007676, 10.406857, 12.164844, 666, 6], [\"MTEST.A\", \"2021-01-04 08:31:00+00:00\", 14.005079, 14.760062, 13.636569, 13.636569, 666, 6], [\"PTEST.A\", \"2021-01-04 08:31:00+00:00\", 10.617772, 14.89055, 10.617772, 14.89055, 555, 5], [\"ATEST.A\", \"2021-01-04 08:32:00+00:00\", 14.604137, 14.604137, 10.101649, 13.874653, 666, 6], [\"CTEST.A\", \"2021-01-04 08:32:00+00:00\", 12.863997, 13.876039, 11.868273, 11.868273, 555, 5], [\"MTEST.A\", \"2021-01-04 08:32:00+00:00\", 14.475847, 14.615942, 12.423334, 13.006502, 666, 6], [\"PTEST.A\", \"2021-01-04 08:32:00+00:00\", 10.856595, 14.3439, 10.493057, 14.3439, 555, 5], [\"ATEST.A\", \"2021-01-04 08:33:00+00:00\", 11.457121, 13.992092, 11.457121, 13.079411, 777, 7], [\"CTEST.A\", \"2021-01-04 08:33:00+00:00\", 13.540402, 14.764795, 10.186569, 12.570525, 555, 5], [\"MTEST.A\", \"2021-01-04 08:33:00+00:00\", 13.759157, 14.89424, 11.052556, 11.052556, 555, 5], [\"PTEST.A\", \"2021-01-04 08:33:00+00:00\", 14.867261, 14.867261, 11.304776, 11.304776, 666, 6], [\"ATEST.A\", \"2021-01-04 08:34:00+00:00\", 14.285375, 14.684474, 11.046489, 11.046489, 666, 6], [\"CTEST.A\", \"2021-01-04 08:34:00+00:00\", 13.649187, 13.649187, 10.589302, 10.589302, 555, 5], [\"MTEST.A\", \"2021-01-04 08:34:00+00:00\", 11.540573, 14.762936, 10.461749, 14.762936, 444, 4], [\"PTEST.A\", \"2021-01-04 08:34:00+00:00\", 12.44978, 14.562896, 10.436858, 10.848988, 777, 7], [\"ATEST.A\", \"2021-01-04 08:35:00+00:00\", 10.357992, 12.764888, 10.357992, 12.764888, 222, 2], [\"CTEST.A\", \"2021-01-04 08:35:00+00:00\", 13.033894, 13.416548, 11.362782, 13.416548, 555, 5], [\"MTEST.A\", \"2021-01-04 08:35:00+00:00\", 14.789925, 14.789925, 10.893196, 12.255935, 777, 7], [\"PTEST.A\", \"2021-01-04 08:35:00+00:00\", 13.337812, 14.524387, 10.877122, 12.328235, 555, 5], [\"ATEST.A\", \"2021-01-04 08:36:00+00:00\", 11.381353, 14.546219, 10.327111, 11.523784, 777, 7], [\"CTEST.A\", \"2021-01-04 08:36:00+00:00\", 10.53875, 14.258145, 10.174935, 12.469384, 777, 7], [\"MTEST.A\", \"2021-01-04 08:36:00+00:00\", 11.001826, 15.009181, 11.001826, 15.009181, 555, 5], [\"PTEST.A\", \"2021-01-04 08:36:00+00:00\", 11.383929, 14.801467, 11.383929, 14.673071, 666, 6], [\"ATEST.A\", \"2021-01-04 08:37:00+00:00\", 10.320062, 13.039426, 10.320062, 13.039426, 666, 6], [\"CTEST.A\", \"2021-01-04 08:37:00+00:00\", 10.065967, 14.760439, 10.065967, 13.650463, 666, 6], [\"MTEST.A\", \"2021-01-04 08:37:00+00:00\", 10.880966, 14.41563, 10.880966, 14.41563, 555, 5], [\"PTEST.A\", \"2021-01-04 08:37:00+00:00\", 11.384782, 13.595399, 10.850343, 13.556827, 444, 4], [\"ATEST.A\", \"2021-01-04 08:38:00+00:00\", 12.619566, 14.265899, 10.279747, 12.460846, 666, 6], [\"CTEST.A\", \"2021-01-04 08:38:00+00:00\", 12.537014, 14.885736, 11.652924, 11.652924, 444, 4], [\"MTEST.A\", \"2021-01-04 08:38:00+00:00\", 10.843609, 14.922362, 10.843609, 12.264877, 666, 6], [\"PTEST.A\", \"2021-01-04 08:38:00+00:00\", 11.987525, 14.048612, 10.534558, 14.048612, 777, 7], [\"ATEST.A\", \"2021-01-04 08:39:00+00:00\", 15.033243, 15.033243, 12.014695, 13.797453, 666, 6], [\"CTEST.A\", \"2021-01-04 08:39:00+00:00\", 13.431883, 13.431883, 10.23684, 10.23684, 777, 7], [\"MTEST.A\", \"2021-01-04 08:39:00+00:00\", 11.265925, 14.781971, 11.265925, 12.353133, 555, 5], [\"PTEST.A\", \"2021-01-04 08:39:00+00:00\", 13.021387, 13.786946, 10.712423, 13.407189, 555, 5], [\"ATEST.A\", \"2021-01-04 08:40:00+00:00\", 14.24324, 14.24324, 10.26376, 11.210225, 444, 4], [\"CTEST.A\", \"2021-01-04 08:40:00+00:00\", 11.878394, 13.281509, 10.899051, 13.281509, 666, 6], [\"MTEST.A\", \"2021-01-04 08:40:00+00:00\", 10.639704, 14.474652, 10.639704, 11.553418, 888, 8], [\"PTEST.A\", \"2021-01-04 08:40:00+00:00\", 10.668711, 14.542826, 10.668711, 12.485412, 555, 5], [\"ATEST.A\", \"2021-01-04 08:41:00+00:00\", 10.229398, 14.223922, 10.200565, 14.009406, 888, 8], [\"CTEST.A\", \"2021-01-04 08:41:00+00:00\", 11.160254, 14.408275, 10.715332, 10.715332, 444, 4], [\"MTEST.A\", \"2021-01-04 08:41:00+00:00\", 11.217726, 11.515495, 10.339054, 10.801523, 555, 5], [\"PTEST.A\", \"2021-01-04 08:41:00+00:00\", 11.34022, 12.486778, 10.756106, 11.398343, 666, 6], [\"ATEST.A\", \"2021-01-04 08:42:00+00:00\", 11.271023, 14.870323, 10.144181, 11.125086, 666, 6], [\"CTEST.A\", \"2021-01-04 08:42:00+00:00\", 13.233397, 14.976681, 10.06424, 10.06424, 777, 7], [\"MTEST.A\", \"2021-01-04 08:42:00+00:00\", 14.67786, 14.67786, 12.218468, 12.218468, 444, 4], [\"PTEST.A\", \"2021-01-04 08:42:00+00:00\", 11.170042, 14.786879, 10.074875, 14.786879, 666, 6], [\"ATEST.A\", \"2021-01-04 08:43:00+00:00\", 10.625623, 12.791994, 10.548295, 11.241172, 555, 5], [\"CTEST.A\", \"2021-01-04 08:43:00+00:00\", 12.799446, 14.614469, 10.270497, 12.418689, 666, 6], [\"MTEST.A\", \"2021-01-04 08:43:00+00:00\", 14.435089, 14.605248, 10.440678, 12.005494, 666, 6], [\"PTEST.A\", \"2021-01-04 08:43:00+00:00\", 10.778176, 14.256976, 10.778176, 11.968111, 555, 5], [\"ATEST.A\", \"2021-01-04 08:44:00+00:00\", 10.951285, 14.355587, 10.541353, 11.546973, 555, 5], [\"CTEST.A\", \"2021-01-04 08:44:00+00:00\", 14.893064, 14.893064, 10.79975, 10.79975, 666, 6], [\"MTEST.A\", \"2021-01-04 08:44:00+00:00\", 10.140619, 14.700836, 10.140619, 10.516864, 777, 7], [\"PTEST.A\", \"2021-01-04 08:44:00+00:00\", 11.171938, 14.919282, 11.171938, 11.686776, 555, 5], [\"ATEST.A\", \"2021-01-04 08:45:00+00:00\", 14.723904, 14.723904, 10.072375, 10.072375, 555, 5], [\"CTEST.A\", \"2021-01-04 08:45:00+00:00\", 13.510228, 14.882483, 10.223302, 14.882483, 555, 5], [\"MTEST.A\", \"2021-01-04 08:45:00+00:00\", 14.74417, 14.74417, 10.482951, 11.341699, 777, 7], [\"PTEST.A\", \"2021-01-04 08:45:00+00:00\", 11.383299, 14.127191, 10.114133, 10.114133, 777, 7], [\"ATEST.A\", \"2021-01-04 08:46:00+00:00\", 14.776452, 14.776452, 10.920869, 10.920869, 666, 6], [\"CTEST.A\", \"2021-01-04 08:46:00+00:00\", 12.280595, 14.016612, 10.203362, 10.203362, 777, 7], [\"MTEST.A\", \"2021-01-04 08:46:00+00:00\", 10.555246, 14.582375, 10.555246, 12.175478, 444, 4], [\"PTEST.A\", \"2021-01-04 08:46:00+00:00\", 10.883188, 14.266359, 10.883188, 11.652239, 555, 5], [\"ATEST.A\", \"2021-01-04 08:47:00+00:00\", 10.049406, 14.467226, 10.049406, 11.422681, 666, 6], [\"CTEST.A\", \"2021-01-04 08:47:00+00:00\", 14.811147, 14.872885, 12.755796, 14.872885, 555, 5], [\"MTEST.A\", \"2021-01-04 08:47:00+00:00\", 12.546491, 14.836901, 10.372431, 14.836901, 666, 6], [\"PTEST.A\", \"2021-01-04 08:47:00+00:00\", 12.23333, 13.667879, 11.948822, 13.645922, 555, 5], [\"ATEST.A\", \"2021-01-04 08:48:00+00:00\", 10.633705, 14.385985, 10.263471, 13.060008, 666, 6], [\"CTEST.A\", \"2021-01-04 08:48:00+00:00\", 10.618973, 12.653896, 10.618973, 10.837816, 555, 5], [\"MTEST.A\", \"2021-01-04 08:48:00+00:00\", 13.886642, 14.496444, 10.607814, 11.5613, 777, 7], [\"PTEST.A\", \"2021-01-04 08:48:00+00:00\", 12.738368, 14.069801, 12.009056, 14.053885, 777, 7], [\"ATEST.A\", \"2021-01-04 08:49:00+00:00\", 10.991585, 13.976145, 10.991585, 12.694173, 444, 4], [\"CTEST.A\", \"2021-01-04 08:49:00+00:00\", 13.094781, 13.905714, 10.071876, 13.807276, 888, 8], [\"MTEST.A\", \"2021-01-04 08:49:00+00:00\", 14.150242, 14.150242, 11.917291, 13.152035, 666, 6], [\"PTEST.A\", \"2021-01-04 08:49:00+00:00\", 11.606686, 14.147681, 11.387028, 11.387028, 555, 5], [\"ATEST.A\", \"2021-01-04 08:50:00+00:00\", 10.642859, 13.193464, 10.642859, 12.457458, 555, 5], [\"CTEST.A\", \"2021-01-04 08:50:00+00:00\", 11.064044, 13.53432, 11.064044, 11.88146, 444, 4], [\"MTEST.A\", \"2021-01-04 08:50:00+00:00\", 11.919434, 14.42272, 10.755362, 11.168702, 666, 6], [\"PTEST.A\", \"2021-01-04 08:50:00+00:00\", 13.904417, 13.904417, 11.458928, 11.573882, 666, 6], [\"ATEST.A\", \"2021-01-04 08:51:00+00:00\", 11.04959, 12.946773, 10.830189, 12.946773, 444, 4], [\"CTEST.A\", \"2021-01-04 08:51:00+00:00\", 12.16015, 14.979402, 10.980148, 12.226406, 777, 7], [\"MTEST.A\", \"2021-01-04 08:51:00+00:00\", 12.867396, 14.615959, 10.576379, 13.034573, 555, 5], [\"PTEST.A\", \"2021-01-04 08:51:00+00:00\", 14.672382, 14.672382, 13.465606, 14.582741, 666, 6], [\"ATEST.A\", \"2021-01-04 08:52:00+00:00\", 14.154018, 14.705737, 10.551106, 11.380983, 555, 5], [\"CTEST.A\", \"2021-01-04 08:52:00+00:00\", 12.506753, 14.365787, 10.289713, 12.480564, 666, 6], [\"MTEST.A\", \"2021-01-04 08:52:00+00:00\", 13.946824, 13.946824, 10.601168, 10.601168, 666, 6], [\"PTEST.A\", \"2021-01-04 08:52:00+00:00\", 14.787097, 14.787097, 10.985642, 11.208802, 777, 7], [\"ATEST.A\", \"2021-01-04 08:53:00+00:00\", 14.518176, 14.518176, 10.918125, 10.918125, 444, 4], [\"CTEST.A\", \"2021-01-04 08:53:00+00:00\", 10.97806, 14.97726, 10.309857, 10.309857, 555, 5], [\"MTEST.A\", \"2021-01-04 08:53:00+00:00\", 14.821299, 14.821299, 10.605758, 13.039978, 444, 4], [\"PTEST.A\", \"2021-01-04 08:53:00+00:00\", 14.67788, 14.67788, 10.047842, 11.730705, 666, 6], [\"ATEST.A\", \"2021-01-04 08:54:00+00:00\", 13.304175, 14.295674, 10.395772, 12.540747, 777, 7], [\"CTEST.A\", \"2021-01-04 08:54:00+00:00\", 10.251393, 13.458705, 10.251393, 11.976486, 666, 6], [\"MTEST.A\", \"2021-01-04 08:54:00+00:00\", 13.536879, 14.637356, 10.277673, 10.277673, 777, 7], [\"PTEST.A\", \"2021-01-04 08:54:00+00:00\", 13.941619, 14.524477, 10.423914, 10.423914, 444, 4], [\"ATEST.A\", \"2021-01-04 08:55:00+00:00\", 11.015263, 13.949219, 10.8024, 13.949219, 777, 7], [\"CTEST.A\", \"2021-01-04 08:55:00+00:00\", 12.751289, 13.710019, 11.005241, 11.005241, 555, 5], [\"MTEST.A\", \"2021-01-04 08:55:00+00:00\", 13.408759, 13.914834, 11.362616, 13.469885, 555, 5], [\"PTEST.A\", \"2021-01-04 08:55:00+00:00\", 11.664124, 14.237653, 10.964667, 12.648328, 888, 8], [\"ATEST.A\", \"2021-01-04 08:56:00+00:00\", 10.986688, 13.954617, 10.986688, 11.441624, 555, 5], [\"CTEST.A\", \"2021-01-04 08:56:00+00:00\", 14.221207, 14.821671, 10.540525, 10.540525, 555, 5], [\"MTEST.A\", \"2021-01-04 08:56:00+00:00\", 13.808917, 14.90163, 11.664162, 11.664162, 666, 6], [\"PTEST.A\", \"2021-01-04 08:56:00+00:00\", 14.597789, 14.79979, 10.22537, 14.79979, 666, 6], [\"ATEST.A\", \"2021-01-04 08:57:00+00:00\", 11.82153, 14.872157, 11.310172, 11.310172, 666, 6], [\"CTEST.A\", \"2021-01-04 08:57:00+00:00\", 11.19889, 13.791519, 10.170848, 13.791519, 777, 7], [\"MTEST.A\", \"2021-01-04 08:57:00+00:00\", 14.943741, 14.943741, 11.775422, 11.775422, 555, 5], [\"PTEST.A\", \"2021-01-04 08:57:00+00:00\", 14.840708, 14.840708, 10.572964, 11.330024, 666, 6], [\"ATEST.A\", \"2021-01-04 08:58:00+00:00\", 11.004379, 14.923649, 11.004379, 14.923649, 555, 5], [\"CTEST.A\", \"2021-01-04 08:58:00+00:00\", 11.357977, 13.990934, 11.357977, 11.697425, 444, 4], [\"MTEST.A\", \"2021-01-04 08:58:00+00:00\", 13.0373, 13.0373, 11.614983, 12.742626, 666, 6], [\"PTEST.A\", \"2021-01-04 08:58:00+00:00\", 12.003829, 14.291275, 10.433012, 12.860608, 555, 5], [\"ATEST.A\", \"2021-01-04 08:59:00+00:00\", 10.101275, 14.29711, 10.084164, 14.29711, 777, 7], [\"CTEST.A\", \"2021-01-04 08:59:00+00:00\", 13.103657, 14.042162, 10.572376, 12.685046, 777, 7], [\"MTEST.A\", \"2021-01-04 08:59:00+00:00\", 11.645738, 13.811209, 11.645738, 11.711541, 444, 4], [\"PTEST.A\", \"2021-01-04 08:59:00+00:00\", 14.841588, 14.841588, 10.539583, 13.289029, 666, 6], [\"AAL\", \"2021-01-04 09:00:00+00:00\", 15.84, 16.01, 15.8, 15.85, 5487, 22], [\"AAPL\", \"2021-01-04 09:00:00+00:00\", 133.31, 133.8, 133.0, 133.24, 26666, 87], [\"ABBV\", \"2021-01-04 09:00:00+00:00\", 107.6, 108.0, 107.6, 108.0, 122, 3], [\"ABNB\", \"2021-01-04 09:00:00+00:00\", 148.0, 148.0, 147.75, 148.0, 144, 6], [\"ABR\", \"2021-01-04 09:00:00+00:00\", 14.25, 14.25, 14.25, 14.25, 2, 1], [\"ACAM\", \"2021-01-04 09:00:00+00:00\", 11.4, 11.4, 11.4, 11.4, 100, 1], [\"ACB\", \"2021-01-04 09:00:00+00:00\", 8.35, 8.65, 8.35, 8.65, 924, 8], [\"ACN\", \"2021-01-04 09:00:00+00:00\", 262.0, 262.0, 262.0, 262.0, 22, 1], [\"ACST\", \"2021-01-04 09:00:00+00:00\", 0.32, 0.3201, 0.31, 0.31, 8761, 12], [\"ACY\", \"2021-01-04 09:00:00+00:00\", 9.23, 9.23, 9.21, 9.22, 572, 4], [\"ADBE\", \"2021-01-04 09:00:00+00:00\", 500.16, 500.16, 500.16, 500.16, 10, 1], [\"ADM\", \"2021-01-04 09:00:00+00:00\", 50.41, 50.41, 50.41, 50.41, 10, 1], [\"ADMA\", \"2021-01-04 09:00:00+00:00\", 1.95, 1.95, 1.95, 1.95, 5, 2], [\"ADXS\", \"2021-01-04 09:00:00+00:00\", 0.36, 0.36, 0.36, 0.36, 1000, 1], [\"AEP\", \"2021-01-04 09:00:00+00:00\", 83.37, 83.37, 83.37, 83.37, 1, 1], [\"AFINP\", \"2021-01-04 09:00:00+00:00\", 25.29, 25.29, 25.29, 25.29, 200, 2], [\"AGI\", \"2021-01-04 09:00:00+00:00\", 8.88, 8.88, 8.88, 8.88, 11, 6], [\"AGQ\", \"2021-01-04 09:00:00+00:00\", 54.35, 54.35, 54.35, 54.35, 565, 10], [\"AIKI\", \"2021-01-04 09:00:00+00:00\", 0.85, 0.85, 0.83, 0.83, 363, 6], [\"AIM\", \"2021-01-04 09:00:00+00:00\", 1.79, 1.79, 1.79, 1.79, 12, 1], [\"AINC\", \"2021-01-04 09:00:00+00:00\", 8.45, 8.58, 8.45, 8.58, 63, 3], [\"AIRI\", \"2021-01-04 09:00:00+00:00\", 1.2, 1.2, 1.2, 1.2, 100, 2], [\"AIRT\", \"2021-01-04 09:00:00+00:00\", 23.6, 23.6, 23.6, 23.6, 32, 1], [\"ALACW\", \"2021-01-04 09:00:00+00:00\", 1.3, 1.3, 1.3, 1.3, 1050, 1], [\"ALINpE\", \"2021-01-04 09:00:00+00:00\", 22.35, 22.35, 22.35, 22.35, 10, 1], [\"ALT\", \"2021-01-04 09:00:00+00:00\", 11.1, 11.1, 11.1, 11.1, 30, 1], [\"AMC\", \"2021-01-04 09:00:00+00:00\", 2.15, 2.15, 2.15, 2.15, 512, 4], [\"AMCI\", \"2021-01-04 09:00:00+00:00\", 15.05, 15.05, 15.05, 15.05, 4, 2], [\"AMD\", \"2021-01-04 09:00:00+00:00\", 92.12, 92.49, 92.01, 92.18, 623, 16], [\"AMGN\", \"2021-01-04 09:00:00+00:00\", 230.53, 231.0, 230.53, 231.0, 31, 2], [\"AMPE\", \"2021-01-04 09:00:00+00:00\", 1.67, 1.67, 1.67, 1.67, 1, 1], [\"AMZN\", \"2021-01-04 09:00:00+00:00\", 3271.69, 3278.49, 3271.69, 3276.55, 90, 13], [\"ANTE\", \"2021-01-04 09:00:00+00:00\", 2.14, 2.14, 2.14, 2.14, 84, 2], [\"APDN\", \"2021-01-04 09:00:00+00:00\", 5.13, 5.13, 5.13, 5.13, 199, 1], [\"APHA\", \"2021-01-04 09:00:00+00:00\", 6.89, 6.89, 6.89, 6.89, 1, 1], [\"APPS\", \"2021-01-04 09:00:00+00:00\", 58.0, 58.0, 58.0, 58.0, 22, 1], [\"APRE\", \"2021-01-04 09:00:00+00:00\", 4.92, 4.92, 4.92, 4.92, 51, 2], [\"APT\", \"2021-01-04 09:00:00+00:00\", 11.18, 11.18, 11.18, 11.18, 70, 1], [\"APXT\", \"2021-01-04 09:00:00+00:00\", 15.3, 15.3, 15.3, 15.3, 193, 5], [\"AQMS\", \"2021-01-04 09:00:00+00:00\", 2.95, 2.95, 2.95, 2.95, 165, 3], [\"ARI\", \"2021-01-04 09:00:00+00:00\", 11.2, 11.2, 11.2, 11.2, 25, 1], [\"ARKF\", \"2021-01-04 09:00:00+00:00\", 50.0, 50.0, 49.71, 49.71, 349, 10], [\"ARKG\", \"2021-01-04 09:00:00+00:00\", 93.62, 93.62, 93.62, 93.62, 506, 2], [\"ARKK\", \"2021-01-04 09:00:00+00:00\", 125.92, 125.92, 125.0, 125.0, 233, 7], [\"ARKQ\", \"2021-01-04 09:00:00+00:00\", 76.3, 76.3, 76.29, 76.29, 207, 4], [\"ARKW\", \"2021-01-04 09:00:00+00:00\", 147.0, 147.0, 147.0, 147.0, 55, 3], [\"ARRY\", \"2021-01-04 09:00:00+00:00\", 43.1, 43.1, 43.1, 43.1, 8, 1], [\"ASAN\", \"2021-01-04 09:00:00+00:00\", 30.0, 30.0, 30.0, 30.0, 10, 1], [\"ASHR\", \"2021-01-04 09:00:00+00:00\", 40.67, 40.67, 40.67, 40.67, 235, 1], [\"ASML\", \"2021-01-04 09:00:00+00:00\", 492.0, 494.88, 492.0, 494.88, 13, 5], [\"ATEST\", \"2021-01-04 09:00:00+00:00\", 25.02, 25.07, 25.02, 25.07, 240, 2], [\"ATEST.A\", \"2021-01-04 09:00:00+00:00\", 10.611866, 14.622187, 10.611866, 14.622187, 555, 5], [\"ATEST.G\", \"2021-01-04 09:00:00+00:00\", 25.0, 25.0, 25.0, 25.0, 180, 1], [\"ATOM\", \"2021-01-04 09:00:00+00:00\", 17.0, 17.0, 16.56, 16.56, 151, 4], [\"ATOS\", \"2021-01-04 09:00:00+00:00\", 0.95, 0.95, 0.95, 0.95, 847, 2], [\"ATVI\", \"2021-01-04 09:00:00+00:00\", 92.99, 92.99, 92.99, 92.99, 5, 1], [\"AU\", \"2021-01-04 09:00:00+00:00\", 24.27, 24.5, 24.27, 24.5, 710, 2], [\"AUVI\", \"2021-01-04 09:00:00+00:00\", 4.66, 4.66, 4.66, 4.66, 10, 1], [\"AVGO\", \"2021-01-04 09:00:00+00:00\", 439.0, 441.5, 439.0, 441.5, 31, 5], [\"AVGR\", \"2021-01-04 09:00:00+00:00\", 0.446, 0.499, 0.446, 0.4815, 2368, 6], [\"AVTR\", \"2021-01-04 09:00:00+00:00\", 28.85, 28.85, 28.85, 28.85, 4, 1], [\"AXU\", \"2021-01-04 09:00:00+00:00\", 3.2, 3.2, 3.2, 3.2, 58, 2], [\"AYRO\", \"2021-01-04 09:00:00+00:00\", 6.06, 6.06, 6.06, 6.06, 1, 1], [\"AYX\", \"2021-01-04 09:00:00+00:00\", 122.0, 122.0, 122.0, 122.0, 25, 1], [\"AZN\", \"2021-01-04 09:00:00+00:00\", 51.0, 51.0, 50.88, 50.98, 2522, 13], [\"BA\", \"2021-01-04 09:00:00+00:00\", 213.92, 213.92, 213.87, 213.89, 188, 6], [\"BABA\", \"2021-01-04 09:00:00+00:00\", 232.7, 232.7, 231.98, 232.48, 8281, 131], [\"BB\", \"2021-01-04 09:00:00+00:00\", 6.67, 6.67, 6.67, 6.67, 2, 2], [\"BBBY\", \"2021-01-04 09:00:00+00:00\", 17.8, 17.8, 17.8, 17.8, 10, 1], [\"BBL\", \"2021-01-04 09:00:00+00:00\", 53.32, 55.3, 53.32, 55.22, 3204, 18], [\"BEEM\", \"2021-01-04 09:00:00+00:00\", 69.0, 69.0, 69.0, 69.0, 20, 1], [\"BEKE\", \"2021-01-04 09:00:00+00:00\", 63.08, 63.08, 62.45, 62.45, 520, 4], [\"BEP\", \"2021-01-04 09:00:00+00:00\", 42.46, 42.46, 42.46, 42.46, 35, 1], [\"BFT\", \"2021-01-04 09:00:00+00:00\", 15.25, 15.25, 15.1, 15.19, 1410, 20], [\"BIDU\", \"2021-01-04 09:00:00+00:00\", 216.18, 219.0, 215.5, 216.0, 2652, 33], [\"BIG\", \"2021-01-04 09:00:00+00:00\", 42.93, 42.93, 42.93, 42.93, 2, 1], [\"BIIB\", \"2021-01-04 09:00:00+00:00\", 246.68, 246.68, 246.68, 246.68, 98, 1], [\"BILI\", \"2021-01-04 09:00:00+00:00\", 87.5, 87.5, 87.0, 87.0, 2175, 7], [\"BIMI\", \"2021-01-04 09:00:00+00:00\", 1.68, 1.68, 1.68, 1.68, 10, 1], [\"BIOL\", \"2021-01-04 09:00:00+00:00\", 0.4167, 0.42, 0.4167, 0.4167, 1315, 3], [\"BKNG\", \"2021-01-04 09:00:00+00:00\", 2225.0, 2234.45, 2225.0, 2234.45, 5, 2], [\"BLCN\", \"2021-01-04 09:00:00+00:00\", 41.79, 41.79, 41.79, 41.79, 100, 1], [\"BLDP\", \"2021-01-04 09:00:00+00:00\", 23.4, 23.4, 23.4, 23.4, 4000, 3], [\"BLNK\", \"2021-01-04 09:00:00+00:00\", 42.87, 42.87, 42.87, 42.87, 6, 1], [\"BLRX\", \"2021-01-04 09:00:00+00:00\", 2.52, 2.52, 2.52, 2.52, 10, 1], [\"BMY\", \"2021-01-04 09:00:00+00:00\", 62.06, 62.06, 62.06, 62.06, 100, 1], [\"BNGO\", \"2021-01-04 09:00:00+00:00\", 4.5, 5.0, 4.3, 4.6, 163310, 426], [\"BNS\", \"2021-01-04 09:00:00+00:00\", 54.22, 54.35, 53.8, 54.35, 1100, 6], [\"BNSO\", \"2021-01-04 09:00:00+00:00\", 7.88, 7.88, 7.69, 7.69, 200, 4], [\"BNTX\", \"2021-01-04 09:00:00+00:00\", 85.21, 85.35, 84.5, 84.7, 1298, 15], [\"BOIL\", \"2021-01-04 09:00:00+00:00\", 21.93, 22.02, 21.58, 22.02, 717, 9], [\"BORR\", \"2021-01-04 09:00:00+00:00\", 0.8301, 0.8301, 0.749, 0.749, 103797, 23], [\"BP\", \"2021-01-04 09:00:00+00:00\", 20.97, 21.59, 20.97, 21.58, 19496, 65], [\"BPY\", \"2021-01-04 09:00:00+00:00\", 14.5, 14.5, 14.5, 14.5, 20, 1], [\"BREZW\", \"2021-01-04 09:00:00+00:00\", 1.06, 1.06, 1.06, 1.06, 500, 1], [\"BRK.B\", \"2021-01-04 09:00:00+00:00\", 232.84, 233.0, 232.41, 232.41, 242, 10], [\"BTAQ\", \"2021-01-04 09:00:00+00:00\", 11.5, 11.5, 11.5, 11.5, 100, 2], [\"BTBT\", \"2021-01-04 09:00:00+00:00\", 22.35, 28.0, 22.15, 28.0, 7179, 59], [\"BYD\", \"2021-01-04 09:00:00+00:00\", 43.0, 43.0, 43.0, 43.0, 4, 1], [\"BYND\", \"2021-01-04 09:00:00+00:00\", 125.0, 126.81, 124.9, 124.9, 117, 10], [\"BZQ\", \"2021-01-04 09:00:00+00:00\", 8.38, 8.38, 8.38, 8.38, 20, 1], [\"BZUN\", \"2021-01-04 09:00:00+00:00\", 35.3, 35.3, 35.3, 35.3, 1080, 2], [\"C\", \"2021-01-04 09:00:00+00:00\", 61.8, 61.8, 61.8, 61.8, 70, 2], [\"CAMT\", \"2021-01-04 09:00:00+00:00\", 22.27, 22.27, 22.0, 22.0, 500, 5], [\"CAN\", \"2021-01-04 09:00:00+00:00\", 6.26, 7.1, 6.26, 7.1, 14248, 61], [\"CBAT\", \"2021-01-04 09:00:00+00:00\", 5.06, 5.06, 5.05, 5.05, 167, 3], [\"CCAC\", \"2021-01-04 09:00:00+00:00\", 10.4, 10.4, 10.4, 10.4, 50, 1], [\"CCJ\", \"2021-01-04 09:00:00+00:00\", 14.0, 14.0, 14.0, 14.0, 35, 1], [\"CCL\", \"2021-01-04 09:00:00+00:00\", 22.0, 22.0, 22.0, 22.0, 550, 2], [\"CD\", \"2021-01-04 09:00:00+00:00\", 23.01, 23.01, 23.01, 23.01, 10, 1], [\"CDE\", \"2021-01-04 09:00:00+00:00\", 10.52, 10.52, 10.52, 10.52, 200, 1], [\"CDNA\", \"2021-01-04 09:00:00+00:00\", 72.45, 72.45, 72.45, 72.45, 1, 1], [\"CEF\", \"2021-01-04 09:00:00+00:00\", 19.5, 19.5, 19.5, 19.5, 30, 1], [\"CELH\", \"2021-01-04 09:00:00+00:00\", 50.63, 50.63, 50.62, 50.62, 3, 2], [\"CEMI\", \"2021-01-04 09:00:00+00:00\", 4.75, 4.75, 4.75, 4.75, 10, 1], [\"CGEN\", \"2021-01-04 09:00:00+00:00\", 12.32, 12.32, 12.32, 12.32, 67, 1], [\"CGRO\", \"2021-01-04 09:00:00+00:00\", 14.3, 14.3, 14.29, 14.29, 125, 2], [\"CHA\", \"2021-01-04 09:00:00+00:00\", 26.0, 26.29, 26.0, 26.29, 275, 8], [\"CHAD\", \"2021-01-04 09:00:00+00:00\", 17.49, 17.49, 17.34, 17.34, 675, 2], [\"CHAU\", \"2021-01-04 09:00:00+00:00\", 43.1, 43.1, 43.1, 43.1, 150, 1], [\"CHD\", \"2021-01-04 09:00:00+00:00\", 90.0, 90.0, 90.0, 90.0, 100, 1], [\"CHEK\", \"2021-01-04 09:00:00+00:00\", 0.55, 0.6, 0.55, 0.59, 18290, 36], [\"CHFS\", \"2021-01-04 09:00:00+00:00\", 7.0, 7.0, 7.0, 7.0, 10, 1], [\"CHL\", \"2021-01-04 09:00:00+00:00\", 26.0, 27.57, 26.0, 27.57, 6065, 45], [\"CHU\", \"2021-01-04 09:00:00+00:00\", 5.62, 5.62, 5.62, 5.62, 1010, 7], [\"CHWY\", \"2021-01-04 09:00:00+00:00\", 90.0, 90.06, 90.0, 90.06, 16, 2], [\"CIDM\", \"2021-01-04 09:00:00+00:00\", 0.6489, 0.6489, 0.6489, 0.6489, 500, 1], [\"CLA\", \"2021-01-04 09:00:00+00:00\", 13.8, 13.86, 13.8, 13.86, 105, 3], [\"CLLS\", \"2021-01-04 09:00:00+00:00\", 29.0, 29.0, 28.88, 28.88, 700, 7], [\"CLNE\", \"2021-01-04 09:00:00+00:00\", 7.98, 7.98, 7.88, 7.88, 70, 2], [\"CLNY\", \"2021-01-04 09:00:00+00:00\", 4.77, 4.77, 4.77, 4.77, 5, 1], [\"CLR\", \"2021-01-04 09:00:00+00:00\", 16.49, 16.49, 16.49, 16.49, 50, 1], [\"CLRB\", \"2021-01-04 09:00:00+00:00\", 2.1, 2.1, 2.1, 2.1, 1, 1], [\"CLSD\", \"2021-01-04 09:00:00+00:00\", 3.1, 3.1, 3.1, 3.1, 449, 1], [\"CLSK\", \"2021-01-04 09:00:00+00:00\", 30.88, 32.0, 30.88, 32.0, 481, 12], [\"CLVS\", \"2021-01-04 09:00:00+00:00\", 4.8, 4.8, 4.8, 4.8, 15, 1], [\"CMCM\", \"2021-01-04 09:00:00+00:00\", 1.8, 1.8, 1.8, 1.8, 60, 1], [\"CME\", \"2021-01-04 09:00:00+00:00\", 178.0, 178.0, 178.0, 178.0, 20, 2], [\"CNFR\", \"2021-01-04 09:00:00+00:00\", 3.2, 3.2, 3.2, 3.2, 19, 2], [\"CNK\", \"2021-01-04 09:00:00+00:00\", 17.49, 17.49, 17.49, 17.49, 4, 1], [\"CODX\", \"2021-01-04 09:00:00+00:00\", 9.21, 9.21, 9.21, 9.21, 23, 1], [\"COUP\", \"2021-01-04 09:00:00+00:00\", 339.05, 339.05, 339.05, 339.05, 10, 1], [\"CPRX\", \"2021-01-04 09:00:00+00:00\", 3.35, 3.35, 3.34, 3.34, 329, 2], [\"CQP\", \"2021-01-04 09:00:00+00:00\", 33.75, 33.75, 33.75, 33.75, 5, 5], [\"CRBP\", \"2021-01-04 09:00:00+00:00\", 1.24, 1.24, 1.24, 1.24, 120, 1], [\"CREX\", \"2021-01-04 09:00:00+00:00\", 1.3, 1.3, 1.3, 1.3, 50, 1], [\"CRM\", \"2021-01-04 09:00:00+00:00\", 222.57, 223.5, 222.57, 222.6, 108, 7], [\"CRSP\", \"2021-01-04 09:00:00+00:00\", 157.0, 157.0, 157.0, 157.0, 15, 1], [\"CRWD\", \"2021-01-04 09:00:00+00:00\", 212.91, 212.91, 212.91, 212.91, 2, 1], [\"CSCO\", \"2021-01-04 09:00:00+00:00\", 44.5, 44.5, 44.5, 44.5, 100, 1], [\"CSCW\", \"2021-01-04 09:00:00+00:00\", 0.6899, 0.6899, 0.6599, 0.6599, 3675, 6], [\"CSIQ\", \"2021-01-04 09:00:00+00:00\", 51.6, 51.6, 51.6, 51.6, 5, 1], [\"CSWC\", \"2021-01-04 09:00:00+00:00\", 18.0, 18.0, 18.0, 18.0, 75, 2], [\"CTEST.A\", \"2021-01-04 09:00:00+00:00\", 12.216714, 13.699347, 10.052588, 11.172271, 666, 6], [\"CTRM\", \"2021-01-04 09:00:00+00:00\", 0.1897, 0.19, 0.189, 0.189, 11459, 19], [\"CUK\", \"2021-01-04 09:00:00+00:00\", 18.86, 18.9, 18.86, 18.9, 6900, 12], [\"CURI\", \"2021-01-04 09:00:00+00:00\", 14.94, 15.1, 14.94, 15.1, 143, 3], [\"CVAC\", \"2021-01-04 09:00:00+00:00\", 83.29, 83.5, 83.29, 83.5, 30, 2], [\"CVNA\", \"2021-01-04 09:00:00+00:00\", 240.05, 240.05, 240.05, 240.05, 100, 1], [\"CVS\", \"2021-01-04 09:00:00+00:00\", 68.3, 68.3, 68.3, 68.3, 10, 1], [\"CVX\", \"2021-01-04 09:00:00+00:00\", 85.0, 85.76, 85.0, 85.76, 84, 4], [\"CYTH\", \"2021-01-04 09:00:00+00:00\", 4.49, 4.49, 4.49, 4.49, 20, 1], [\"DADA\", \"2021-01-04 09:00:00+00:00\", 36.6, 36.6, 36.6, 36.6, 10, 1], [\"DAL\", \"2021-01-04 09:00:00+00:00\", 40.21, 40.21, 40.21, 40.21, 1029, 7], [\"DB\", \"2021-01-04 09:00:00+00:00\", 10.8, 10.8, 10.8, 10.8, 1280, 2], [\"DBA\", \"2021-01-04 09:00:00+00:00\", 16.25, 16.25, 16.25, 16.25, 1172, 2], [\"DBVT\", \"2021-01-04 09:00:00+00:00\", 2.65, 2.66, 2.65, 2.66, 3400, 10], [\"DBX\", \"2021-01-04 09:00:00+00:00\", 22.13, 22.13, 22.08, 22.08, 10, 2], [\"DDM\", \"2021-01-04 09:00:00+00:00\", 56.93, 56.93, 56.93, 56.93, 1015, 1], [\"DEO\", \"2021-01-04 09:00:00+00:00\", 162.5, 162.5, 162.5, 162.5, 1, 1], [\"DFS\", \"2021-01-04 09:00:00+00:00\", 90.0, 90.0, 90.0, 90.0, 5, 1], [\"DIS\", \"2021-01-04 09:00:00+00:00\", 182.0, 182.0, 182.0, 182.0, 13, 3], [\"DKNG\", \"2021-01-04 09:00:00+00:00\", 46.56, 46.56, 46.56, 46.56, 1, 1], [\"DM\", \"2021-01-04 09:00:00+00:00\", 17.4, 17.4, 17.4, 17.4, 20, 1], [\"DNMR\", \"2021-01-04 09:00:00+00:00\", 23.97, 23.97, 23.97, 23.97, 50, 1], [\"DOCU\", \"2021-01-04 09:00:00+00:00\", 222.59, 222.59, 222.33, 222.33, 9, 2], [\"DOG\", \"2021-01-04 09:00:00+00:00\", 39.05, 39.14, 39.05, 39.14, 135, 3], [\"DPW\", \"2021-01-04 09:00:00+00:00\", 4.35, 4.5, 4.35, 4.5, 236, 3], [\"DQ\", \"2021-01-04 09:00:00+00:00\", 58.0, 58.0, 58.0, 58.0, 8, 1], [\"DRIP\", \"2021-01-04 09:00:00+00:00\", 25.85, 25.85, 25.5, 25.77, 151, 5], [\"DUST\", \"2021-01-04 09:00:00+00:00\", 18.44, 18.44, 18.39, 18.39, 914, 14], [\"EARS\", \"2021-01-04 09:00:00+00:00\", 2.58, 2.58, 2.58, 2.58, 43, 1], [\"EBON\", \"2021-01-04 09:00:00+00:00\", 6.75, 7.69, 6.71, 7.69, 22760, 141], [\"EBS\", \"2021-01-04 09:00:00+00:00\", 89.06, 89.06, 88.11, 88.11, 136, 2], [\"ECOR\", \"2021-01-04 09:00:00+00:00\", 1.65, 1.65, 1.65, 1.65, 72, 5], [\"EDIT\", \"2021-01-04 09:00:00+00:00\", 70.7, 70.7, 70.7, 70.7, 1, 1], [\"EDZ\", \"2021-01-04 09:00:00+00:00\", 9.84, 9.84, 9.84, 9.84, 410, 1], [\"EEM\", \"2021-01-04 09:00:00+00:00\", 52.73, 52.76, 52.7, 52.7, 1073, 3], [\"EEV\", \"2021-01-04 09:00:00+00:00\", 17.31, 17.31, 17.31, 17.31, 100, 1], [\"EFU\", \"2021-01-04 09:00:00+00:00\", 12.53, 12.53, 12.53, 12.53, 175, 1], [\"EFZ\", \"2021-01-04 09:00:00+00:00\", 20.05, 20.05, 20.05, 20.05, 50, 1], [\"ELSE\", \"2021-01-04 09:00:00+00:00\", 4.25, 4.25, 4.25, 4.25, 9, 1], [\"ELYS\", \"2021-01-04 09:00:00+00:00\", 5.86, 5.89, 5.86, 5.89, 19, 2], [\"ENB\", \"2021-01-04 09:00:00+00:00\", 32.49, 32.49, 32.49, 32.49, 2, 1], [\"ENPH\", \"2021-01-04 09:00:00+00:00\", 178.0, 178.0, 178.0, 178.0, 3, 1], [\"ENSV\", \"2021-01-04 09:00:00+00:00\", 1.86, 1.86, 1.86, 1.86, 87, 1], [\"EPV\", \"2021-01-04 09:00:00+00:00\", 16.01, 16.01, 15.9, 15.9, 205, 2], [\"EQ\", \"2021-01-04 09:00:00+00:00\", 5.44, 5.44, 5.44, 5.44, 24, 1], [\"EQOS\", \"2021-01-04 09:00:00+00:00\", 16.7, 17.18, 16.7, 17.18, 126, 4], [\"ERIC\", \"2021-01-04 09:00:00+00:00\", 12.07, 12.07, 12.07, 12.07, 1, 1], [\"ETN\", \"2021-01-04 09:00:00+00:00\", 122.5, 122.5, 122.5, 122.5, 8, 1], [\"ETSY\", \"2021-01-04 09:00:00+00:00\", 180.0, 180.0, 180.0, 180.0, 12, 1], [\"EUM\", \"2021-01-04 09:00:00+00:00\", 12.63, 12.63, 12.63, 12.63, 25, 1], [\"EVGN\", \"2021-01-04 09:00:00+00:00\", 4.8, 4.8, 4.7, 4.7, 775, 9], [\"EWU\", \"2021-01-04 09:00:00+00:00\", 30.11, 30.11, 30.0, 30.0, 200, 2], [\"EXPC\", \"2021-01-04 09:00:00+00:00\", 10.95, 11.17, 10.95, 11.17, 101, 2], [\"EYES\", \"2021-01-04 09:00:00+00:00\", 1.89, 1.89, 1.89, 1.89, 9, 1], [\"EYPT\", \"2021-01-04 09:00:00+00:00\", 6.85, 6.85, 6.85, 6.85, 125, 1], [\"F\", \"2021-01-04 09:00:00+00:00\", 8.8, 8.8, 8.8, 8.8, 20, 1], [\"FAS\", \"2021-01-04 09:00:00+00:00\", 60.99, 60.99, 60.99, 60.99, 200, 1], [\"FB\", \"2021-01-04 09:00:00+00:00\", 274.24, 274.5, 274.24, 274.5, 737, 5], [\"FCEL\", \"2021-01-04 09:00:00+00:00\", 11.42, 11.5, 11.4, 11.45, 958, 20], [\"FCX\", \"2021-01-04 09:00:00+00:00\", 26.3, 26.3, 26.08, 26.08, 1474, 3], [\"FDX\", \"2021-01-04 09:00:00+00:00\", 260.0, 260.0, 260.0, 260.0, 9, 1], [\"FGF\", \"2021-01-04 09:00:00+00:00\", 3.82, 3.89, 3.82, 3.89, 10, 2], [\"FGNA\", \"2021-01-04 09:00:00+00:00\", 10.17, 10.17, 10.17, 10.17, 400, 1], [\"FIII\", \"2021-01-04 09:00:00+00:00\", 13.9, 13.9, 13.8, 13.8, 123, 2], [\"FIIIW\", \"2021-01-04 09:00:00+00:00\", 3.72, 3.72, 3.72, 3.72, 10, 1], [\"FINX\", \"2021-01-04 09:00:00+00:00\", 46.7, 46.7, 46.7, 46.7, 20, 1], [\"FRO\", \"2021-01-04 09:00:00+00:00\", 6.44, 6.49, 6.44, 6.49, 2100, 3], [\"FRSX\", \"2021-01-04 09:00:00+00:00\", 4.0, 4.0, 3.85, 3.85, 1386, 10], [\"FSLR\", \"2021-01-04 09:00:00+00:00\", 100.11, 100.11, 100.11, 100.11, 4, 1], [\"FSLY\", \"2021-01-04 09:00:00+00:00\", 87.37, 87.37, 86.18, 86.18, 144, 6], [\"FSM\", \"2021-01-04 09:00:00+00:00\", 8.36, 8.39, 8.36, 8.39, 300, 2], [\"FSR\", \"2021-01-04 09:00:00+00:00\", 14.97, 14.97, 14.81, 14.81, 132, 3], [\"FSRV\", \"2021-01-04 09:00:00+00:00\", 12.75, 12.75, 12.75, 12.75, 39, 1], [\"FTEK\", \"2021-01-04 09:00:00+00:00\", 3.88, 3.88, 3.88, 3.88, 16, 1], [\"FTFT\", \"2021-01-04 09:00:00+00:00\", 1.91, 1.97, 1.91, 1.97, 300, 3], [\"FTI\", \"2021-01-04 09:00:00+00:00\", 9.93, 9.93, 9.93, 9.93, 110, 1], [\"FTOC\", \"2021-01-04 09:00:00+00:00\", 10.5, 10.5, 10.5, 10.5, 170, 1], [\"FUBO\", \"2021-01-04 09:00:00+00:00\", 28.5, 29.0, 28.45, 29.0, 2739, 25], [\"FUSE\", \"2021-01-04 09:00:00+00:00\", 11.5, 11.5, 11.47, 11.47, 405, 3], [\"FUTU\", \"2021-01-04 09:00:00+00:00\", 46.66, 47.49, 46.55, 47.49, 1337, 13], [\"FVRR\", \"2021-01-04 09:00:00+00:00\", 195.99, 195.99, 195.99, 195.99, 5, 1], [\"FXP\", \"2021-01-04 09:00:00+00:00\", 32.19, 32.19, 32.19, 32.19, 25, 1], [\"GBS\", \"2021-01-04 09:00:00+00:00\", 7.6, 7.6, 7.6, 7.6, 20, 1], [\"GDX\", \"2021-01-04 09:00:00+00:00\", 37.57, 37.57, 37.3, 37.42, 2504, 4], [\"GDXJ\", \"2021-01-04 09:00:00+00:00\", 56.78, 56.93, 55.73, 55.73, 1920, 6], [\"GEO\", \"2021-01-04 09:00:00+00:00\", 8.9, 8.9, 8.9, 8.9, 1000, 1], [\"GERN\", \"2021-01-04 09:00:00+00:00\", 1.6, 1.6, 1.6, 1.6, 49, 1], [\"GEVO\", \"2021-01-04 09:00:00+00:00\", 4.5, 4.5, 4.5, 4.5, 1762, 7], [\"GFI\", \"2021-01-04 09:00:00+00:00\", 10.0, 10.25, 10.0, 10.25, 5553, 10], [\"GHIV\", \"2021-01-04 09:00:00+00:00\", 13.5, 13.5, 13.13, 13.15, 963, 19], [\"GHSI\", \"2021-01-04 09:00:00+00:00\", 0.4079, 0.4079, 0.4, 0.4005, 14487, 9], [\"GIK\", \"2021-01-04 09:00:00+00:00\", 13.97, 13.97, 13.97, 13.97, 961, 9], [\"GILD\", \"2021-01-04 09:00:00+00:00\", 58.27, 58.27, 58.27, 58.27, 14, 4], [\"GIX\", \"2021-01-04 09:00:00+00:00\", 10.94, 10.94, 10.94, 10.94, 11, 2], [\"GLD\", \"2021-01-04 09:00:00+00:00\", 181.11, 181.22, 181.11, 181.22, 19867, 24], [\"GM\", \"2021-01-04 09:00:00+00:00\", 41.75, 41.75, 41.75, 41.75, 40, 2], [\"GME\", \"2021-01-04 09:00:00+00:00\", 19.05, 19.1, 19.05, 19.1, 195, 3], [\"GNOG\", \"2021-01-04 09:00:00+00:00\", 20.5, 20.5, 20.4, 20.5, 169, 6], [\"GNTX\", \"2021-01-04 09:00:00+00:00\", 34.5, 34.5, 34.5, 34.5, 30, 1], [\"GNUS\", \"2021-01-04 09:00:00+00:00\", 1.35, 1.35, 1.35, 1.35, 1307, 3], [\"GOEV\", \"2021-01-04 09:00:00+00:00\", 13.96, 13.96, 13.96, 13.96, 15, 1], [\"GOLD\", \"2021-01-04 09:00:00+00:00\", 23.52, 23.74, 23.52, 23.74, 1900, 11], [\"GOOG\", \"2021-01-04 09:00:00+00:00\", 1760.42, 1760.42, 1759.0, 1759.5, 23, 6], [\"GOOGL\", \"2021-01-04 09:00:00+00:00\", 1760.02, 1765.0, 1760.02, 1765.0, 7, 2], [\"GRIN\", \"2021-01-04 09:00:00+00:00\", 4.13, 4.13, 4.13, 4.13, 24, 1], [\"GRNQ\", \"2021-01-04 09:00:00+00:00\", 2.05, 2.05, 2.05, 2.05, 71, 3], [\"GRNVW\", \"2021-01-04 09:00:00+00:00\", 0.87, 0.87, 0.87, 0.87, 200, 1], [\"GROW\", \"2021-01-04 09:00:00+00:00\", 5.5, 5.5, 5.44, 5.44, 375, 2], [\"GRWG\", \"2021-01-04 09:00:00+00:00\", 41.0, 41.0, 41.0, 41.0, 70, 1], [\"GS\", \"2021-01-04 09:00:00+00:00\", 264.64, 264.64, 264.62, 264.62, 27, 2], [\"GUSH\", \"2021-01-04 09:00:00+00:00\", 40.0, 40.0, 40.0, 40.0, 128, 3], [\"HBI\", \"2021-01-04 09:00:00+00:00\", 14.4, 14.4, 14.4, 14.4, 41, 1], [\"HD\", \"2021-01-04 09:00:00+00:00\", 266.0, 266.0, 266.0, 266.0, 1, 1], [\"HEPA\", \"2021-01-04 09:00:00+00:00\", 2.15, 2.15, 2.15, 2.15, 60, 3], [\"HEXO\", \"2021-01-04 09:00:00+00:00\", 3.65, 3.65, 3.6, 3.6, 406, 6], [\"HII\", \"2021-01-04 09:00:00+00:00\", 170.48, 170.48, 170.48, 170.48, 2, 1], [\"HL\", \"2021-01-04 09:00:00+00:00\", 6.7, 6.7, 6.7, 6.7, 15, 1], [\"HMY\", \"2021-01-04 09:00:00+00:00\", 5.02, 5.13, 5.02, 5.13, 2217, 4], [\"HOFV\", \"2021-01-04 09:00:00+00:00\", 1.53, 1.85, 1.47, 1.85, 10272, 38], [\"HOTH\", \"2021-01-04 09:00:00+00:00\", 2.37, 2.39, 2.25, 2.25, 2736, 17], [\"HSBC\", \"2021-01-04 09:00:00+00:00\", 25.89, 25.89, 25.89, 25.89, 1, 1], [\"HSTO\", \"2021-01-04 09:00:00+00:00\", 0.77, 0.79, 0.77, 0.77, 1357, 6], [\"HUYA\", \"2021-01-04 09:00:00+00:00\", 19.83, 19.83, 19.8, 19.8, 13, 2], [\"HYLN\", \"2021-01-04 09:00:00+00:00\", 16.4, 16.4, 16.3, 16.3, 16, 3], [\"HZNP\", \"2021-01-04 09:00:00+00:00\", 73.15, 73.15, 73.15, 73.15, 3, 1], [\"IAU\", \"2021-01-04 09:00:00+00:00\", 18.41, 18.41, 18.4, 18.4, 210, 5], [\"IBB\", \"2021-01-04 09:00:00+00:00\", 151.54, 151.54, 151.54, 151.54, 12, 1], [\"IBIO\", \"2021-01-04 09:00:00+00:00\", 1.05, 1.05, 1.05, 1.05, 1208, 5], [\"IBM\", \"2021-01-04 09:00:00+00:00\", 126.0, 126.3, 126.0, 126.3, 35, 4], [\"ICL\", \"2021-01-04 09:00:00+00:00\", 5.06, 5.06, 5.06, 5.06, 400, 1], [\"ICLN\", \"2021-01-04 09:00:00+00:00\", 28.4, 28.4, 28.4, 28.4, 600, 2], [\"IDEX\", \"2021-01-04 09:00:00+00:00\", 2.03, 2.05, 2.02, 2.05, 2959, 15], [\"ILMN\", \"2021-01-04 09:00:00+00:00\", 370.75, 370.75, 370.75, 370.75, 4, 1], [\"IMAB\", \"2021-01-04 09:00:00+00:00\", 47.15, 47.15, 47.15, 47.15, 30, 1], [\"INFY\", \"2021-01-04 09:00:00+00:00\", 17.46, 17.46, 17.46, 17.46, 360, 1], [\"INO\", \"2021-01-04 09:00:00+00:00\", 8.81, 8.81, 8.81, 8.81, 215, 3], [\"INSG\", \"2021-01-04 09:00:00+00:00\", 15.41, 15.41, 15.41, 15.41, 50, 1], [\"INTC\", \"2021-01-04 09:00:00+00:00\", 49.87, 49.87, 49.56, 49.83, 301, 14], [\"INUV\", \"2021-01-04 09:00:00+00:00\", 0.4529, 0.4529, 0.4529, 0.4529, 2400, 1], [\"IPDN\", \"2021-01-04 09:00:00+00:00\", 2.45, 2.69, 2.45, 2.59, 1507, 9], [\"IPI\", \"2021-01-04 09:00:00+00:00\", 26.0, 26.0, 26.0, 26.0, 51, 2], [\"IPOC\", \"2021-01-04 09:00:00+00:00\", 17.1, 17.5, 17.0, 17.5, 2161, 26], [\"IPOC.WS\", \"2021-01-04 09:00:00+00:00\", 4.25, 4.25, 4.25, 4.25, 1300, 2], [\"IPOF\", \"2021-01-04 09:00:00+00:00\", 12.4, 12.4, 12.3, 12.3, 100, 2], [\"IQ\", \"2021-01-04 09:00:00+00:00\", 17.5, 17.59, 17.5, 17.5, 435, 5], [\"IRBO\", \"2021-01-04 09:00:00+00:00\", 39.94, 39.94, 39.94, 39.94, 10, 1], [\"IRM\", \"2021-01-04 09:00:00+00:00\", 29.49, 30.0, 29.49, 30.0, 415, 4], [\"IVA\", \"2021-01-04 09:00:00+00:00\", 14.63, 14.63, 14.63, 14.63, 3, 1], [\"IWM\", \"2021-01-04 09:00:00+00:00\", 197.82, 198.09, 197.8, 198.09, 16378, 49], [\"IYJ\", \"2021-01-04 09:00:00+00:00\", 96.8, 96.8, 96.8, 96.8, 210, 1], [\"IZEA\", \"2021-01-04 09:00:00+00:00\", 1.97, 1.97, 1.82, 1.82, 314, 2], [\"JAGX\", \"2021-01-04 09:00:00+00:00\", 0.89, 0.91, 0.86, 0.9, 109643, 37], [\"JD\", \"2021-01-04 09:00:00+00:00\", 88.0, 88.0, 88.0, 88.0, 575, 4], [\"JDST\", \"2021-01-04 09:00:00+00:00\", 8.83, 9.05, 8.83, 8.86, 4273, 14], [\"JE\", \"2021-01-04 09:00:00+00:00\", 4.68, 4.68, 4.68, 4.68, 25, 2], [\"JETS\", \"2021-01-04 09:00:00+00:00\", 22.53, 22.53, 22.53, 22.53, 464, 2], [\"JG\", \"2021-01-04 09:00:00+00:00\", 3.81, 3.81, 3.81, 3.81, 1548, 4], [\"JKS\", \"2021-01-04 09:00:00+00:00\", 64.1, 65.0, 64.1, 65.0, 126, 3], [\"JMIA\", \"2021-01-04 09:00:00+00:00\", 40.13, 40.13, 40.13, 40.13, 1, 1], [\"JNCE\", \"2021-01-04 09:00:00+00:00\", 7.5, 7.5, 7.5, 7.5, 65, 1], [\"JNJ\", \"2021-01-04 09:00:00+00:00\", 157.51, 158.0, 157.49, 157.49, 116, 4], [\"JNK\", \"2021-01-04 09:00:00+00:00\", 109.0, 109.0, 109.0, 109.0, 2, 1], [\"JNUG\", \"2021-01-04 09:00:00+00:00\", 129.37, 132.4, 127.84, 129.13, 4166, 16], [\"JPM\", \"2021-01-04 09:00:00+00:00\", 127.35, 127.5, 127.15, 127.5, 6, 3], [\"JWN\", \"2021-01-04 09:00:00+00:00\", 32.45, 32.45, 32.45, 32.45, 30, 1], [\"K\", \"2021-01-04 09:00:00+00:00\", 62.5, 62.5, 62.5, 62.5, 2, 2], [\"KALA\", \"2021-01-04 09:00:00+00:00\", 6.94, 6.94, 6.94, 6.94, 200, 1], [\"KBA\", \"2021-01-04 09:00:00+00:00\", 46.42, 46.42, 46.42, 46.42, 400, 1], [\"KGC\", \"2021-01-04 09:00:00+00:00\", 7.6, 7.6, 7.6, 7.6, 15, 2], [\"KHC\", \"2021-01-04 09:00:00+00:00\", 34.69, 34.87, 34.69, 34.87, 507, 2], [\"KL\", \"2021-01-04 09:00:00+00:00\", 41.68, 42.38, 41.68, 42.38, 125, 2], [\"KNDI\", \"2021-01-04 09:00:00+00:00\", 6.81, 7.1, 6.8, 7.1, 1030, 9], [\"KO\", \"2021-01-04 09:00:00+00:00\", 54.87, 54.87, 54.87, 54.87, 60, 1], [\"KODK\", \"2021-01-04 09:00:00+00:00\", 8.12, 8.35, 8.1, 8.35, 6, 4], [\"KOSS\", \"2021-01-04 09:00:00+00:00\", 3.31, 3.31, 3.31, 3.31, 5, 1], [\"KPTI\", \"2021-01-04 09:00:00+00:00\", 15.6, 15.6, 15.6, 15.6, 10, 1], [\"KR\", \"2021-01-04 09:00:00+00:00\", 31.85, 31.85, 31.85, 31.85, 10, 1], [\"KRKR\", \"2021-01-04 09:00:00+00:00\", 2.79, 2.79, 2.79, 2.79, 30, 1], [\"KXIN\", \"2021-01-04 09:00:00+00:00\", 3.7, 3.7, 3.69, 3.69, 234, 3], [\"LAC\", \"2021-01-04 09:00:00+00:00\", 12.5, 12.5, 12.5, 12.5, 300, 1], [\"LAZR\", \"2021-01-04 09:00:00+00:00\", 33.99, 34.0, 33.5, 34.0, 411, 7], [\"LGVW\", \"2021-01-04 09:00:00+00:00\", 20.0, 20.0, 20.0, 20.0, 30, 1], [\"LI\", \"2021-01-04 09:00:00+00:00\", 29.71, 30.44, 29.7, 30.44, 28393, 64], [\"LIT\", \"2021-01-04 09:00:00+00:00\", 62.6, 64.0, 62.6, 64.0, 9, 2], [\"LIZI\", \"2021-01-04 09:00:00+00:00\", 3.81, 3.81, 3.75, 3.81, 563, 3], [\"LMND\", \"2021-01-04 09:00:00+00:00\", 124.0, 124.0, 122.33, 122.33, 35, 5], [\"LMT\", \"2021-01-04 09:00:00+00:00\", 357.9, 357.9, 357.9, 357.9, 7, 1], [\"LODE\", \"2021-01-04 09:00:00+00:00\", 1.03, 1.03, 1.03, 1.03, 1, 1], [\"LOGI\", \"2021-01-04 09:00:00+00:00\", 98.88, 99.0, 98.88, 99.0, 301, 4], [\"LRCX\", \"2021-01-04 09:00:00+00:00\", 475.0, 475.0, 475.0, 475.0, 7, 2], [\"LSF\", \"2021-01-04 09:00:00+00:00\", 47.31, 47.31, 47.31, 47.31, 10, 1], [\"LU\", \"2021-01-04 09:00:00+00:00\", 14.2, 14.2, 14.2, 14.2, 20, 2], [\"LULU\", \"2021-01-04 09:00:00+00:00\", 348.1, 348.1, 348.1, 348.1, 1, 1], [\"LVS\", \"2021-01-04 09:00:00+00:00\", 59.99, 59.99, 59.99, 59.99, 5, 1], [\"LYFT\", \"2021-01-04 09:00:00+00:00\", 49.21, 49.21, 49.21, 49.21, 10, 1], [\"LYG\", \"2021-01-04 09:00:00+00:00\", 1.92, 1.92, 1.92, 1.92, 1, 1], [\"M\", \"2021-01-04 09:00:00+00:00\", 11.31, 11.5, 11.3, 11.3, 201, 5], [\"MA\", \"2021-01-04 09:00:00+00:00\", 356.93, 356.93, 356.0, 356.0, 63, 6], [\"MAC\", \"2021-01-04 09:00:00+00:00\", 10.67, 10.67, 10.67, 10.67, 624, 8], [\"MARA\", \"2021-01-04 09:00:00+00:00\", 12.2, 13.48, 12.2, 13.45, 34274, 244], [\"MARK\", \"2021-01-04 09:00:00+00:00\", 1.9, 1.9, 1.9, 1.9, 25, 1], [\"MAXR\", \"2021-01-04 09:00:00+00:00\", 38.7, 38.7, 38.7, 38.7, 20, 1], [\"MBIO\", \"2021-01-04 09:00:00+00:00\", 3.95, 3.95, 3.87, 3.87, 6, 2], [\"MBT\", \"2021-01-04 09:00:00+00:00\", 9.19, 9.19, 9.19, 9.19, 65, 1], [\"MCD\", \"2021-01-04 09:00:00+00:00\", 215.16, 215.6, 215.16, 215.6, 195, 5], [\"METX\", \"2021-01-04 09:00:00+00:00\", 2.1, 2.1, 2.1, 2.1, 482, 6], [\"MEXX\", \"2021-01-04 09:00:00+00:00\", 63.66, 63.66, 63.66, 63.66, 3, 1], [\"MFA\", \"2021-01-04 09:00:00+00:00\", 3.95, 3.95, 3.95, 3.95, 100, 1], [\"MFGP\", \"2021-01-04 09:00:00+00:00\", 5.95, 5.95, 5.95, 5.95, 205, 2], [\"MFH\", \"2021-01-04 09:00:00+00:00\", 3.4, 3.4, 3.4, 3.4, 10, 1], [\"MGA\", \"2021-01-04 09:00:00+00:00\", 70.78, 70.78, 70.78, 70.78, 2, 1], [\"MGM\", \"2021-01-04 09:00:00+00:00\", 31.4, 31.4, 31.4, 31.4, 200, 1], [\"MGNI\", \"2021-01-04 09:00:00+00:00\", 30.47, 30.47, 30.47, 30.47, 45, 2], [\"MMM\", \"2021-01-04 09:00:00+00:00\", 175.07, 176.0, 175.07, 176.0, 57, 2], [\"MNSO\", \"2021-01-04 09:00:00+00:00\", 26.39, 26.39, 26.39, 26.39, 45, 2], [\"MO\", \"2021-01-04 09:00:00+00:00\", 41.2, 41.2, 41.2, 41.2, 420, 1], [\"MOMO\", \"2021-01-04 09:00:00+00:00\", 14.0, 14.0, 14.0, 14.0, 10, 1], [\"MOR\", \"2021-01-04 09:00:00+00:00\", 29.47, 29.47, 29.47, 29.47, 18, 1], [\"MOS\", \"2021-01-04 09:00:00+00:00\", 23.13, 23.13, 23.13, 23.13, 2, 1], [\"MP\", \"2021-01-04 09:00:00+00:00\", 32.0, 32.17, 32.0, 32.17, 150, 2], [\"MPW\", \"2021-01-04 09:00:00+00:00\", 21.85, 21.85, 21.85, 21.85, 2, 1], [\"MRK\", \"2021-01-04 09:00:00+00:00\", 82.8, 82.8, 82.8, 82.8, 250, 8], [\"MRNA\", \"2021-01-04 09:00:00+00:00\", 106.5, 107.0, 106.11, 106.83, 1602, 14], [\"MRO\", \"2021-01-04 09:00:00+00:00\", 7.0, 7.0, 7.0, 7.0, 300, 11], [\"MSFT\", \"2021-01-04 09:00:00+00:00\", 222.75, 223.0, 222.75, 222.93, 221, 6], [\"MSTR\", \"2021-01-04 09:00:00+00:00\", 412.22, 412.22, 410.0, 410.0, 52, 2], [\"MT\", \"2021-01-04 09:00:00+00:00\", 23.79, 23.79, 23.79, 23.79, 2, 1], [\"MTC\", \"2021-01-04 09:00:00+00:00\", 1.47, 1.47, 1.45, 1.45, 85, 2], [\"MTEST.A\", \"2021-01-04 09:00:00+00:00\", 10.59985, 14.795835, 10.149222, 10.149222, 888, 8], [\"MTLS\", \"2021-01-04 09:00:00+00:00\", 54.61, 54.61, 54.61, 54.61, 1, 1], [\"MTNB\", \"2021-01-04 09:00:00+00:00\", 1.43, 1.43, 1.43, 1.43, 8, 2], [\"MVIS\", \"2021-01-04 09:00:00+00:00\", 5.44, 5.44, 5.44, 5.44, 1303, 8], [\"MXC\", \"2021-01-04 09:00:00+00:00\", 5.68, 5.68, 5.68, 5.68, 45, 2], [\"MYY\", \"2021-01-04 09:00:00+00:00\", 29.23, 29.23, 29.23, 29.23, 175, 1], [\"NAKD\", \"2021-01-04 09:00:00+00:00\", 0.2, 0.2, 0.195, 0.195, 7655, 12], [\"NARI\", \"2021-01-04 09:00:00+00:00\", 90.0, 90.0, 90.0, 90.0, 100, 1], [\"NCLH\", \"2021-01-04 09:00:00+00:00\", 25.7, 25.7, 25.7, 25.7, 371, 1], [\"NCTY\", \"2021-01-04 09:00:00+00:00\", 3.77, 5.51, 3.77, 5.51, 34171, 87], [\"NDRA\", \"2021-01-04 09:00:00+00:00\", 0.77, 0.77, 0.77, 0.77, 550, 1], [\"NEE\", \"2021-01-04 09:00:00+00:00\", 77.77, 77.77, 77.77, 77.77, 30, 1], [\"NEM\", \"2021-01-04 09:00:00+00:00\", 62.0, 62.47, 62.0, 62.0, 460, 6], [\"NETE\", \"2021-01-04 09:00:00+00:00\", 13.93, 13.93, 13.93, 13.93, 2, 1], [\"NFLX\", \"2021-01-04 09:00:00+00:00\", 539.68, 540.73, 539.68, 540.1, 74, 12], [\"NGA\", \"2021-01-04 09:00:00+00:00\", 18.49, 18.49, 18.49, 18.49, 8, 2], [\"NGG\", \"2021-01-04 09:00:00+00:00\", 60.42, 60.42, 60.42, 60.42, 12, 1], [\"NIO\", \"2021-01-04 09:00:00+00:00\", 49.04, 50.35, 49.04, 50.31, 122495, 431], [\"NIU\", \"2021-01-04 09:00:00+00:00\", 28.3, 28.4, 28.3, 28.4, 120, 2], [\"NKE\", \"2021-01-04 09:00:00+00:00\", 142.14, 142.48, 142.14, 142.48, 448, 5]];\n",
       "\n",
       "        // Define the dt_args\n",
       "        let dt_args = {\"layout\": {\"topStart\": \"pageLength\", \"topEnd\": \"search\", \"bottomStart\": \"info\", \"bottomEnd\": \"paging\"}, \"order\": [], \"warn_on_selected_rows_not_rendered\": true};\n",
       "        dt_args[\"data\"] = data;\n",
       "\n",
       "        \n",
       "        new DataTable(table, dt_args);\n",
       "    });\n",
       "</script>\n"
      ],
      "text/plain": [
       "<IPython.core.display.HTML object>"
      ]
     },
     "metadata": {},
     "output_type": "display_data"
    }
   ],
   "source": [
    "aggs_df = aggs_table.slice(length=1000).to_pandas()\n",
    "show(aggs_df)"
   ]
  },
  {
   "cell_type": "code",
   "execution_count": 10,
   "id": "30ca65e4-6886-475e-877e-5b699f74310a",
   "metadata": {},
   "outputs": [
    {
     "data": {
      "text/plain": [
       "76084591"
      ]
     },
     "execution_count": 10,
     "metadata": {},
     "output_type": "execute_result"
    }
   ],
   "source": [
    "len(trades_table)"
   ]
  },
  {
   "cell_type": "code",
   "execution_count": 12,
   "id": "050948ab-241a-4984-88f4-5611723e4ab7",
   "metadata": {},
   "outputs": [
    {
     "data": {
      "text/plain": [
       "pyarrow.Table\n",
       "ticker: string not null\n",
       "conditions: string not null\n",
       "correction: string not null\n",
       "exchange: int8 not null\n",
       "id: string not null\n",
       "participant_timestamp: timestamp[ns, tz=UTC] not null\n",
       "price: double not null\n",
       "sequence_number: int64 not null\n",
       "sip_timestamp: timestamp[ns, tz=UTC] not null\n",
       "size: int64 not null\n",
       "tape: int8 not null\n",
       "trf_id: int64 not null\n",
       "trf_timestamp: timestamp[ns, tz=UTC] not null\n",
       "foo: int64\n",
       "----\n",
       "ticker: [[\"A\",\"A\",\"A\",\"A\",\"A\",...,\"A\",\"A\",\"A\",\"A\",\"A\"],[\"A\",\"A\",\"A\",\"A\",\"A\",...,\"AA\",\"AA\",\"AA\",\"AA\",\"AA\"],...,[\"ZVO\",\"ZVO\",\"ZVO\",\"ZVO\",\"ZVO\",...,\"ZYNE\",\"ZYNE\",\"ZYNE\",\"ZYNE\",\"ZYNE\"],[\"ZYNE\",\"ZYNE\",\"ZYNE\",\"ZYNE\",\"ZYNE\",...,\"ZYXI\",\"ZYXI\",\"ZYXI\",\"ZYXI\",\"ZYXI\"]]\n",
       "conditions: [[\"12,37\",\"12,37\",\"12,37\",\"12,37\",\"12,37\",...,\"37\",\"14,41\",\"14,37,41\",\"14,41\",\"14,37,41\"],[\"14,37,41\",\"14,37,41\",\"14,37,41\",\"14,37,41\",\"14,41\",...,\"\",\"\",\"14,41\",\"14,41\",\"14,37,41\"],...,[\"37\",\"37\",\"\",\"\",\"37\",...,\"37\",\"37\",\"37\",\"14,37,41\",\"37\"],[\"\",\"37\",\"37\",\"37\",\"37\",...,\"12,37\",\"12,37\",\"12,37\",\"12,37\",\"12,37\"]]\n",
       "correction: [[\"0\",\"0\",\"0\",\"0\",\"0\",...,\"0\",\"0\",\"0\",\"0\",\"0\"],[\"0\",\"0\",\"0\",\"0\",\"0\",...,\"0\",\"0\",\"0\",\"0\",\"0\"],...,[\"0\",\"0\",\"0\",\"0\",\"0\",...,\"0\",\"0\",\"0\",\"0\",\"0\"],[\"0\",\"0\",\"0\",\"0\",\"0\",...,\"0\",\"0\",\"0\",\"0\",\"0\"]]\n",
       "exchange: [[8,8,11,11,8,...,3,7,10,10,12],[12,12,12,19,18,...,4,4,10,10,19],...,[4,4,4,4,4,...,4,4,4,8,4],[4,4,4,4,4,...,4,4,4,12,4]]\n",
       "id: [[\"52983525027903\",\"52983525027904\",\"52983525097782\",\"52983525097783\",\"52983525028213\",...,\"52983526807125\",\"52983525170493\",\"52983543903537\",\"52983543903538\",\"62879752866388\"],[\"62879752866389\",\"62879752866390\",\"62879752866391\",\"52983525563969\",\"52983525162055\",...,\"71675274279239\",\"71675274279240\",\"52983525097796\",\"52983525097797\",\"52983525031743\"],...,[\"104\",\"105\",\"106\",\"244\",\"245\",...,\"602\",\"603\",\"604\",\"57\",\"605\"],[\"606\",\"607\",\"608\",\"214\",\"609\",...,\"1418\",\"1419\",\"1420\",\"1207\",\"1421\"]]\n",
       "participant_timestamp: [[2021-01-04 12:00:00.064978000Z,2021-01-04 12:00:00.064978000Z,2021-01-04 12:02:37.005064448Z,2021-01-04 12:02:37.005064448Z,2021-01-04 12:04:53.386710000Z,...,2021-01-04 18:00:56.738834432Z,2021-01-04 18:01:00.508083000Z,2021-01-04 18:01:05.577185536Z,2021-01-04 18:01:06.817933056Z,2021-01-04 18:01:06.817907556Z],[2021-01-04 18:01:06.817907556Z,2021-01-04 18:01:06.817907556Z,2021-01-04 18:01:06.817907556Z,2021-01-04 18:01:06.818018000Z,2021-01-04 18:01:06.818025000Z,...,2021-01-04 14:31:08.026000000Z,2021-01-04 14:31:08.015000000Z,2021-01-04 14:31:10.062005504Z,2021-01-04 14:31:10.062005504Z,2021-01-04 14:31:10.061808000Z],...,[2021-01-04 16:55:18.025000000Z,2021-01-04 16:55:18.025000000Z,2021-01-04 16:55:18.025000000Z,2021-01-04 16:55:18.025000000Z,2021-01-04 16:55:18.025000000Z,...,2021-01-04 15:36:35.622000000Z,2021-01-04 15:36:37.335000000Z,2021-01-04 15:36:37.484000000Z,2021-01-04 15:36:55.131373000Z,2021-01-04 15:37:11.665000000Z],[2021-01-04 15:37:11.665000000Z,2021-01-04 15:37:17.327000000Z,2021-01-04 15:37:17.965000000Z,2021-01-04 15:37:21.949000000Z,2021-01-04 15:37:45.405000000Z,...,2021-01-04 21:43:33.000000000Z,2021-01-04 21:43:33.000000000Z,2021-01-04 21:50:19.812000000Z,2021-01-04 22:40:39.474860343Z,2021-01-04 22:44:49.443000000Z]]\n",
       "price: [[122,122,118.5,118.5,118.56,...,117.64,117.64,117.66,117.68,117.68],[117.68,117.68,117.68,117.68,117.68,...,23.935,23.935,23.96,23.97,23.96],...,[4.55,4.55,4.55,4.55,4.55,...,3.32,3.32,3.325,3.32,3.32],[3.32,3.32,3.33,3.31,3.32,...,13.88,13.88,13.88,13.72,13.88]]\n",
       "sequence_number: [[4231,4232,4545,4546,4650,...,993868,994300,994521,994556,994559],[994560,994561,994562,994563,994564,...,35138,35139,35219,35220,35221],...,[2658193,2658194,2658195,2658203,2658204,...,1488382,1488655,1488715,1493078,1497772],[1497773,1499055,1499253,1500115,1505707,...,5950743,5950744,5955406,5966917,5967607]]\n",
       "sip_timestamp: [[2021-01-04 12:00:00.070650112Z,2021-01-04 12:00:00.070654976Z,2021-01-04 12:02:37.005111296Z,2021-01-04 12:02:37.005111296Z,2021-01-04 12:04:53.386980608Z,...,2021-01-04 18:00:56.738859520Z,2021-01-04 18:01:00.508328704Z,2021-01-04 18:01:05.577231104Z,2021-01-04 18:01:06.817980160Z,2021-01-04 18:01:06.818250240Z],[2021-01-04 18:01:06.818255104Z,2021-01-04 18:01:06.818260736Z,2021-01-04 18:01:06.818267136Z,2021-01-04 18:01:06.818267136Z,2021-01-04 18:01:06.818275328Z,...,2021-01-04 14:31:09.340456192Z,2021-01-04 14:31:09.340546048Z,2021-01-04 14:31:10.062031104Z,2021-01-04 14:31:10.062034688Z,2021-01-04 14:31:10.062049536Z],...,[2021-01-04 16:55:18.027713225Z,2021-01-04 16:55:18.027841263Z,2021-01-04 16:55:18.028120146Z,2021-01-04 16:55:18.134625612Z,2021-01-04 16:55:18.137225029Z,...,2021-01-04 15:36:35.624657456Z,2021-01-04 15:36:37.337438276Z,2021-01-04 15:36:37.486757783Z,2021-01-04 15:36:55.131580457Z,2021-01-04 15:37:11.666268257Z],[2021-01-04 15:37:11.666741865Z,2021-01-04 15:37:17.329773539Z,2021-01-04 15:37:17.967418714Z,2021-01-04 15:37:21.950376764Z,2021-01-04 15:37:45.407732458Z,...,2021-01-04 21:43:33.113982432Z,2021-01-04 21:43:33.114939017Z,2021-01-04 21:50:20.891800289Z,2021-01-04 22:40:39.474878692Z,2021-01-04 22:44:49.445641631Z]]\n",
       "size: [[5,3,1,2,69,...,27,100,20,102,16],[1,3,5,2,101,...,607,400,700,410,90],...,[24,80,100,108,24,...,1,1,1,13,16],[4984,25,1,9,1,...,3,3,84,1,20]]\n",
       "..."
      ]
     },
     "execution_count": 12,
     "metadata": {},
     "output_type": "execute_result"
    }
   ],
   "source": [
    "tt = trades_table.append_column('foo', pa.array([123] * len(trades_table)))\n",
    "tt"
   ]
  },
  {
   "cell_type": "code",
   "execution_count": null,
   "id": "f574f889-d43e-4301-a6e1-b089d7f9db47",
   "metadata": {},
   "outputs": [],
   "source": []
  }
 ],
 "metadata": {
  "kernelspec": {
   "display_name": "Python 3 (ipykernel)",
   "language": "python",
   "name": "python3"
  },
  "language_info": {
   "codemirror_mode": {
    "name": "ipython",
    "version": 3
   },
   "file_extension": ".py",
   "mimetype": "text/x-python",
   "name": "python",
   "nbconvert_exporter": "python",
   "pygments_lexer": "ipython3",
   "version": "3.11.10"
  }
 },
 "nbformat": 4,
 "nbformat_minor": 5
}
