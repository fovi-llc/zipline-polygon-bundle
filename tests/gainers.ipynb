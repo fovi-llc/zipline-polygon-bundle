{
 "cells": [
  {
   "cell_type": "code",
   "execution_count": 1,
   "id": "b9e282f4-9311-465e-bb86-54075314c68f",
   "metadata": {},
   "outputs": [
    {
     "data": {
      "text/plain": [
       "True"
      ]
     },
     "execution_count": 1,
     "metadata": {},
     "output_type": "execute_result"
    }
   ],
   "source": [
    "%load_ext dotenv\n",
    "%dotenv -o\n",
    "\n",
    "import os\n",
    "not not os.environ[\"POLYGON_API_KEY\"]"
   ]
  },
  {
   "cell_type": "code",
   "execution_count": 2,
   "id": "e90fed78-7b98-4deb-8338-0126a3ca283a",
   "metadata": {},
   "outputs": [],
   "source": [
    "from zipline_polygon_bundle.config import PolygonConfig\n",
    "from zipline_polygon_bundle import date_to_path, trades_schema, cast_trades, custom_aggs_schema, custom_aggs_partitioning\n",
    "\n",
    "from typing import Iterator, Tuple\n",
    "\n",
    "import pandas as pd\n",
    "\n",
    "import pyarrow as pa\n",
    "from pyarrow import dataset as pa_ds\n",
    "from pyarrow import compute as pa_compute\n",
    "from pyarrow import parquet as pa_parquet\n",
    "\n",
    "from fsspec.implementations.arrow import ArrowFSWrapper\n",
    "\n",
    "import os\n",
    "\n",
    "import datetime\n",
    "import pandas_market_calendars\n",
    "\n",
    "from itables import show"
   ]
  },
  {
   "cell_type": "code",
   "execution_count": 3,
   "id": "6af35027-80ca-49b1-bb6f-d62b9c8a9950",
   "metadata": {},
   "outputs": [
    {
     "name": "stdout",
     "output_type": "stream",
     "text": [
      "config.minute_aggs_dir='/media/mirror/files.polygon.io/flatfiles/us_stocks_sip/minute_aggs_v1'\n",
      "config.trades_dir='/media/mirror/files.polygon.io/flatfiles/us_stocks_sip/trades_v1'\n",
      "config.custom_aggs_dir='/home/jovyan/data/60sec_aggs'\n",
      "config.aggs_dir='/home/jovyan/data/60sec_aggs'\n",
      "config.by_ticker_dir='/home/jovyan/data/60sec_aggs_by_ticker'\n"
     ]
    }
   ],
   "source": [
    "if not \"CUSTOM_ASSET_FILES_DIR\" in os.environ:\n",
    "    os.environ[\"CUSTOM_ASSET_FILES_DIR\"]= \"/home/jovyan/data\"\n",
    "\n",
    "config = PolygonConfig(\n",
    "    environ=os.environ,\n",
    "    calendar_name=\"NYSE\",\n",
    "    start_date=\"2021-01-01\",\n",
    "    end_date=\"2021-01-08\",\n",
    "    agg_time=\"1min\",\n",
    ")\n",
    "\n",
    "print(f\"{config.minute_aggs_dir=}\")\n",
    "print(f\"{config.trades_dir=}\")\n",
    "print(f\"{config.custom_aggs_dir=}\")\n",
    "print(f\"{config.aggs_dir=}\")\n",
    "print(f\"{config.by_ticker_dir=}\")"
   ]
  },
  {
   "cell_type": "code",
   "execution_count": 4,
   "id": "314b00c7-69ee-46eb-ba9e-054052eea823",
   "metadata": {},
   "outputs": [
    {
     "data": {
      "text/plain": [
       "ticker: string not null\n",
       "volume: int64 not null\n",
       "open: double not null\n",
       "close: double not null\n",
       "high: double not null\n",
       "low: double not null\n",
       "window_start: timestamp[ns, tz=UTC] not null\n",
       "transactions: int64 not null\n",
       "date: date32[day] not null\n",
       "year: uint16 not null\n",
       "month: uint8 not null"
      ]
     },
     "execution_count": 4,
     "metadata": {},
     "output_type": "execute_result"
    }
   ],
   "source": [
    "aggs_ds = pa_ds.dataset(config.custom_aggs_dir, schema=custom_aggs_schema(), partitioning=custom_aggs_partitioning())\n",
    "aggs_ds.schema"
   ]
  },
  {
   "cell_type": "code",
   "execution_count": 5,
   "id": "29a1e198-e885-49a1-9115-80ac07555ef8",
   "metadata": {},
   "outputs": [
    {
     "data": {
      "text/plain": [
       "{}"
      ]
     },
     "execution_count": 5,
     "metadata": {},
     "output_type": "execute_result"
    }
   ],
   "source": [
    "pa_ds.get_partition_keys(aggs_ds.partition_expression)"
   ]
  },
  {
   "cell_type": "code",
   "execution_count": 9,
   "id": "a56b4776-09db-4d08-8e09-9ef6957165d8",
   "metadata": {},
   "outputs": [
    {
     "name": "stdout",
     "output_type": "stream",
     "text": [
      "fragment.partition_expression=<pyarrow.compute.Expression (((year == 2017) and (month == 1)) and (date == 2017-01-03))>\n",
      "pa_ds.get_partition_keys(fragment.partition_expression)={'date': datetime.date(2017, 1, 3), 'month': 1, 'year': 2017}\n",
      "fragment.partition_expression=<pyarrow.compute.Expression (((year == 2017) and (month == 1)) and (date == 2017-01-04))>\n",
      "pa_ds.get_partition_keys(fragment.partition_expression)={'date': datetime.date(2017, 1, 4), 'month': 1, 'year': 2017}\n",
      "fragment.partition_expression=<pyarrow.compute.Expression (((year == 2017) and (month == 1)) and (date == 2017-01-05))>\n",
      "pa_ds.get_partition_keys(fragment.partition_expression)={'date': datetime.date(2017, 1, 5), 'month': 1, 'year': 2017}\n",
      "fragment.partition_expression=<pyarrow.compute.Expression (((year == 2017) and (month == 1)) and (date == 2017-01-06))>\n",
      "pa_ds.get_partition_keys(fragment.partition_expression)={'date': datetime.date(2017, 1, 6), 'month': 1, 'year': 2017}\n"
     ]
    }
   ],
   "source": [
    "for fragment in aggs_ds.get_fragments():\n",
    "    print(f\"{fragment.partition_expression=}\")\n",
    "    print(f\"{pa_ds.get_partition_keys(fragment.partition_expression)=}\")\n",
    "    # print(f\"{fragment.partition_expression.get_partition_values()=}\")\n",
    "    # print(f\"{fragment.physical_schema=}\")\n"
   ]
  },
  {
   "cell_type": "code",
   "execution_count": 10,
   "id": "6964368c-2f0c-4925-a5bb-9e9fe21b3250",
   "metadata": {},
   "outputs": [
    {
     "name": "stdout",
     "output_type": "stream",
     "text": [
      "fragment.partition_expression=<pyarrow.compute.Expression (((year == 2017) and (month == 1)) and (date == 2017-01-03))>\n",
      "pa_ds.get_partition_keys(fragment.partition_expression)={'date': datetime.date(2017, 1, 3), 'month': 1, 'year': 2017}\n",
      "table.slice(length=1)=pyarrow.Table\n",
      "ticker: string not null\n",
      "volume: int64 not null\n",
      "open: double not null\n",
      "close: double not null\n",
      "high: double not null\n",
      "low: double not null\n",
      "window_start: timestamp[ns, tz=UTC] not null\n",
      "transactions: int64 not null\n",
      "----\n",
      "ticker: [[\"AAL\"]]\n",
      "volume: [[82]]\n",
      "open: [[46.6]]\n",
      "close: [[46.6]]\n",
      "high: [[46.6]]\n",
      "low: [[46.6]]\n",
      "window_start: [[2017-01-03 09:00:00.000000000Z]]\n",
      "transactions: [[2]]\n",
      "table.schema=ticker: string not null\n",
      "volume: int64 not null\n",
      "open: double not null\n",
      "close: double not null\n",
      "high: double not null\n",
      "low: double not null\n",
      "window_start: timestamp[ns, tz=UTC] not null\n",
      "transactions: int64 not null\n",
      "fragment.partition_expression=<pyarrow.compute.Expression (((year == 2017) and (month == 1)) and (date == 2017-01-04))>\n",
      "pa_ds.get_partition_keys(fragment.partition_expression)={'date': datetime.date(2017, 1, 4), 'month': 1, 'year': 2017}\n",
      "table.slice(length=1)=pyarrow.Table\n",
      "ticker: string not null\n",
      "volume: int64 not null\n",
      "open: double not null\n",
      "close: double not null\n",
      "high: double not null\n",
      "low: double not null\n",
      "window_start: timestamp[ns, tz=UTC] not null\n",
      "transactions: int64 not null\n",
      "----\n",
      "ticker: [[\"AAPL\"]]\n",
      "volume: [[30]]\n",
      "open: [[116.37]]\n",
      "close: [[116.37]]\n",
      "high: [[116.37]]\n",
      "low: [[116.37]]\n",
      "window_start: [[2017-01-04 09:00:00.000000000Z]]\n",
      "transactions: [[1]]\n",
      "table.schema=ticker: string not null\n",
      "volume: int64 not null\n",
      "open: double not null\n",
      "close: double not null\n",
      "high: double not null\n",
      "low: double not null\n",
      "window_start: timestamp[ns, tz=UTC] not null\n",
      "transactions: int64 not null\n",
      "fragment.partition_expression=<pyarrow.compute.Expression (((year == 2017) and (month == 1)) and (date == 2017-01-05))>\n",
      "pa_ds.get_partition_keys(fragment.partition_expression)={'date': datetime.date(2017, 1, 5), 'month': 1, 'year': 2017}\n",
      "table.slice(length=1)=pyarrow.Table\n",
      "ticker: string not null\n",
      "volume: int64 not null\n",
      "open: double not null\n",
      "close: double not null\n",
      "high: double not null\n",
      "low: double not null\n",
      "window_start: timestamp[ns, tz=UTC] not null\n",
      "transactions: int64 not null\n",
      "----\n",
      "ticker: [[\"ABB\"]]\n",
      "volume: [[130]]\n",
      "open: [[21.29]]\n",
      "close: [[21.29]]\n",
      "high: [[21.29]]\n",
      "low: [[21.29]]\n",
      "window_start: [[2017-01-05 09:00:00.000000000Z]]\n",
      "transactions: [[1]]\n",
      "table.schema=ticker: string not null\n",
      "volume: int64 not null\n",
      "open: double not null\n",
      "close: double not null\n",
      "high: double not null\n",
      "low: double not null\n",
      "window_start: timestamp[ns, tz=UTC] not null\n",
      "transactions: int64 not null\n",
      "fragment.partition_expression=<pyarrow.compute.Expression (((year == 2017) and (month == 1)) and (date == 2017-01-06))>\n",
      "pa_ds.get_partition_keys(fragment.partition_expression)={'date': datetime.date(2017, 1, 6), 'month': 1, 'year': 2017}\n",
      "table.slice(length=1)=pyarrow.Table\n",
      "ticker: string not null\n",
      "volume: int64 not null\n",
      "open: double not null\n",
      "close: double not null\n",
      "high: double not null\n",
      "low: double not null\n",
      "window_start: timestamp[ns, tz=UTC] not null\n",
      "transactions: int64 not null\n",
      "----\n",
      "ticker: [[\"ABX\"]]\n",
      "volume: [[3000]]\n",
      "open: [[17.28]]\n",
      "close: [[17.28]]\n",
      "high: [[17.28]]\n",
      "low: [[17.28]]\n",
      "window_start: [[2017-01-06 09:00:00.000000000Z]]\n",
      "transactions: [[4]]\n",
      "table.schema=ticker: string not null\n",
      "volume: int64 not null\n",
      "open: double not null\n",
      "close: double not null\n",
      "high: double not null\n",
      "low: double not null\n",
      "window_start: timestamp[ns, tz=UTC] not null\n",
      "transactions: int64 not null\n"
     ]
    }
   ],
   "source": [
    "for fragment in aggs_ds.get_fragments():\n",
    "    print(f\"{fragment.partition_expression=}\")\n",
    "    print(f\"{pa_ds.get_partition_keys(fragment.partition_expression)=}\")\n",
    "    # print(f\"{fragment.physical_schema=}\")\n",
    "    table = fragment.to_table()\n",
    "    print(f\"{table.slice(length=1)=}\")\n",
    "    print(f\"{table.schema=}\")"
   ]
  },
  {
   "cell_type": "code",
   "execution_count": null,
   "id": "badc202b-9a92-41b9-a08b-50205409a4d6",
   "metadata": {},
   "outputs": [],
   "source": []
  }
 ],
 "metadata": {
  "kernelspec": {
   "display_name": "Python 3 (ipykernel)",
   "language": "python",
   "name": "python3"
  },
  "language_info": {
   "codemirror_mode": {
    "name": "ipython",
    "version": 3
   },
   "file_extension": ".py",
   "mimetype": "text/x-python",
   "name": "python",
   "nbconvert_exporter": "python",
   "pygments_lexer": "ipython3",
   "version": "3.11.10"
  }
 },
 "nbformat": 4,
 "nbformat_minor": 5
}
