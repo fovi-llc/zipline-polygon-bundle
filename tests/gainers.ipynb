{
 "cells": [
  {
   "cell_type": "code",
   "execution_count": 1,
   "id": "b9e282f4-9311-465e-bb86-54075314c68f",
   "metadata": {},
   "outputs": [
    {
     "data": {
      "text/plain": [
       "True"
      ]
     },
     "execution_count": 1,
     "metadata": {},
     "output_type": "execute_result"
    }
   ],
   "source": [
    "%load_ext dotenv\n",
    "%dotenv -o\n",
    "\n",
    "import os\n",
    "not not os.environ[\"POLYGON_API_KEY\"]"
   ]
  },
  {
   "cell_type": "code",
   "execution_count": 2,
   "id": "e90fed78-7b98-4deb-8338-0126a3ca283a",
   "metadata": {},
   "outputs": [],
   "source": [
    "from zipline_polygon_bundle.config import PolygonConfig\n",
    "from zipline_polygon_bundle import date_to_path, trades_schema, cast_trades, custom_aggs_schema, custom_aggs_partitioning\n",
    "\n",
    "from typing import Iterator, Tuple\n",
    "\n",
    "import pandas as pd\n",
    "\n",
    "import pyarrow as pa\n",
    "from pyarrow import dataset as pa_ds\n",
    "from pyarrow import compute as pa_compute\n",
    "from pyarrow import parquet as pa_parquet\n",
    "\n",
    "from fsspec.implementations.arrow import ArrowFSWrapper\n",
    "\n",
    "import os\n",
    "\n",
    "import datetime\n",
    "import pandas_market_calendars\n",
    "\n",
    "from itables import show"
   ]
  },
  {
   "cell_type": "code",
   "execution_count": 13,
   "id": "6af35027-80ca-49b1-bb6f-d62b9c8a9950",
   "metadata": {},
   "outputs": [
    {
     "name": "stdout",
     "output_type": "stream",
     "text": [
      "config.minute_aggs_dir='/media/mirror/files.polygon.io/flatfiles/us_stocks_sip/minute_aggs_v1'\n",
      "config.trades_dir='/media/mirror/files.polygon.io/flatfiles/us_stocks_sip/trades_v1'\n",
      "config.custom_aggs_dir='/home/jovyan/data/60sec_aggs'\n",
      "config.aggs_dir='/home/jovyan/data/60sec_aggs'\n",
      "config.by_ticker_dir='/home/jovyan/data/60sec_aggs_by_ticker'\n"
     ]
    }
   ],
   "source": [
    "if not \"CUSTOM_ASSET_FILES_DIR\" in os.environ:\n",
    "    os.environ[\"CUSTOM_ASSET_FILES_DIR\"]= \"/home/jovyan/data\"\n",
    "\n",
    "config = PolygonConfig(\n",
    "    environ=os.environ,\n",
    "    calendar_name=\"NYSE\",\n",
    "    start_date=\"2021-01-01\",\n",
    "    end_date=\"2021-01-08\",\n",
    "    agg_time=\"1min\",\n",
    ")\n",
    "\n",
    "pd.set_option('display.width', 250)\n",
    "\n",
    "print(f\"{config.minute_aggs_dir=}\")\n",
    "print(f\"{config.trades_dir=}\")\n",
    "print(f\"{config.custom_aggs_dir=}\")\n",
    "print(f\"{config.aggs_dir=}\")\n",
    "print(f\"{config.by_ticker_dir=}\")"
   ]
  },
  {
   "cell_type": "code",
   "execution_count": 4,
   "id": "314b00c7-69ee-46eb-ba9e-054052eea823",
   "metadata": {},
   "outputs": [
    {
     "data": {
      "text/plain": [
       "ticker: string not null\n",
       "volume: int64 not null\n",
       "open: double not null\n",
       "close: double not null\n",
       "high: double not null\n",
       "low: double not null\n",
       "window_start: timestamp[ns, tz=UTC] not null\n",
       "transactions: int64 not null\n",
       "date: date32[day] not null\n",
       "year: uint16 not null\n",
       "month: uint8 not null"
      ]
     },
     "execution_count": 4,
     "metadata": {},
     "output_type": "execute_result"
    }
   ],
   "source": [
    "aggs_ds = pa_ds.dataset(config.custom_aggs_dir, schema=custom_aggs_schema(), partitioning=custom_aggs_partitioning())\n",
    "aggs_ds.schema"
   ]
  },
  {
   "cell_type": "code",
   "execution_count": 5,
   "id": "29a1e198-e885-49a1-9115-80ac07555ef8",
   "metadata": {},
   "outputs": [
    {
     "data": {
      "text/plain": [
       "{}"
      ]
     },
     "execution_count": 5,
     "metadata": {},
     "output_type": "execute_result"
    }
   ],
   "source": [
    "pa_ds.get_partition_keys(aggs_ds.partition_expression)"
   ]
  },
  {
   "cell_type": "code",
   "execution_count": 9,
   "id": "a56b4776-09db-4d08-8e09-9ef6957165d8",
   "metadata": {},
   "outputs": [
    {
     "name": "stdout",
     "output_type": "stream",
     "text": [
      "fragment.partition_expression=<pyarrow.compute.Expression (((year == 2017) and (month == 1)) and (date == 2017-01-03))>\n",
      "pa_ds.get_partition_keys(fragment.partition_expression)={'date': datetime.date(2017, 1, 3), 'month': 1, 'year': 2017}\n",
      "fragment.partition_expression=<pyarrow.compute.Expression (((year == 2017) and (month == 1)) and (date == 2017-01-04))>\n",
      "pa_ds.get_partition_keys(fragment.partition_expression)={'date': datetime.date(2017, 1, 4), 'month': 1, 'year': 2017}\n",
      "fragment.partition_expression=<pyarrow.compute.Expression (((year == 2017) and (month == 1)) and (date == 2017-01-05))>\n",
      "pa_ds.get_partition_keys(fragment.partition_expression)={'date': datetime.date(2017, 1, 5), 'month': 1, 'year': 2017}\n",
      "fragment.partition_expression=<pyarrow.compute.Expression (((year == 2017) and (month == 1)) and (date == 2017-01-06))>\n",
      "pa_ds.get_partition_keys(fragment.partition_expression)={'date': datetime.date(2017, 1, 6), 'month': 1, 'year': 2017}\n"
     ]
    }
   ],
   "source": [
    "for fragment in aggs_ds.get_fragments():\n",
    "    print(f\"{fragment.partition_expression=}\")\n",
    "    print(f\"{pa_ds.get_partition_keys(fragment.partition_expression)=}\")\n",
    "    # print(f\"{fragment.partition_expression.get_partition_values()=}\")\n",
    "    # print(f\"{fragment.physical_schema=}\")\n"
   ]
  },
  {
   "cell_type": "code",
   "execution_count": 19,
   "id": "6964368c-2f0c-4925-a5bb-9e9fe21b3250",
   "metadata": {},
   "outputs": [
    {
     "name": "stdout",
     "output_type": "stream",
     "text": [
      "fragment.partition_expression=<pyarrow.compute.Expression (((year == 2017) and (month == 1)) and (date == 2017-01-03))>\n",
      "pa_ds.get_partition_keys(fragment.partition_expression)={'date': datetime.date(2017, 1, 3), 'month': 1, 'year': 2017}\n",
      "<class 'pandas.core.frame.DataFrame'>\n",
      "RangeIndex: 1545399 entries, 0 to 1545398\n",
      "Data columns (total 8 columns):\n",
      " #   Column        Non-Null Count    Dtype              \n",
      "---  ------        --------------    -----              \n",
      " 0   ticker        1545399 non-null  object             \n",
      " 1   volume        1545399 non-null  int64              \n",
      " 2   open          1545399 non-null  float64            \n",
      " 3   close         1545399 non-null  float64            \n",
      " 4   high          1545399 non-null  float64            \n",
      " 5   low           1545399 non-null  float64            \n",
      " 6   window_start  1545399 non-null  datetime64[ns, EST]\n",
      " 7   transactions  1545399 non-null  int64              \n",
      "dtypes: datetime64[ns, EST](1), float64(4), int64(2), object(1)\n",
      "memory usage: 94.3+ MB\n",
      "df['window_start'].min()=Timestamp('2017-01-03 04:00:00-0500', tz='EST')\n",
      "df['window_start'].max()=Timestamp('2017-01-03 20:00:00-0500', tz='EST')\n",
      "        ticker  volume      open     close      high       low              window_start  transactions\n",
      "0          AAL      82   46.6000   46.6000   46.6000   46.6000 2017-01-03 04:00:00-05:00             2\n",
      "1         AAPL      43  116.0000  115.9000  116.0000  115.9000 2017-01-03 04:00:00-05:00             4\n",
      "2          ABX     240   16.0900   16.0900   16.0900   16.0900 2017-01-03 04:00:00-05:00             1\n",
      "3         ADSK     900   74.0000   74.0000   74.0000   74.0000 2017-01-03 04:00:00-05:00             5\n",
      "4          AMD     100   11.4500   11.4500   11.4500   11.4500 2017-01-03 04:00:00-05:00             1\n",
      "...        ...     ...       ...       ...       ...       ...                       ...           ...\n",
      "1545394    YXI     100   26.6700   26.6700   26.6700   26.6700 2017-01-03 20:00:00-05:00             2\n",
      "1545395    YYY     131   18.6000   18.6000   18.6000   18.6000 2017-01-03 20:00:00-05:00             1\n",
      "1545396   ZMLP     125   19.1087   19.1087   19.1087   19.1087 2017-01-03 20:00:00-05:00             1\n",
      "1545397   ZROZ     141  109.4811  109.4811  109.4811  109.4811 2017-01-03 20:00:00-05:00             1\n",
      "1545398    ZSL     100   37.0100   37.0100   37.0100   37.0100 2017-01-03 20:00:00-05:00             1\n",
      "\n",
      "[1545399 rows x 8 columns]\n",
      "\n",
      "fragment.partition_expression=<pyarrow.compute.Expression (((year == 2017) and (month == 1)) and (date == 2017-01-04))>\n",
      "pa_ds.get_partition_keys(fragment.partition_expression)={'date': datetime.date(2017, 1, 4), 'month': 1, 'year': 2017}\n",
      "<class 'pandas.core.frame.DataFrame'>\n",
      "RangeIndex: 1512525 entries, 0 to 1512524\n",
      "Data columns (total 8 columns):\n",
      " #   Column        Non-Null Count    Dtype              \n",
      "---  ------        --------------    -----              \n",
      " 0   ticker        1512525 non-null  object             \n",
      " 1   volume        1512525 non-null  int64              \n",
      " 2   open          1512525 non-null  float64            \n",
      " 3   close         1512525 non-null  float64            \n",
      " 4   high          1512525 non-null  float64            \n",
      " 5   low           1512525 non-null  float64            \n",
      " 6   window_start  1512525 non-null  datetime64[ns, EST]\n",
      " 7   transactions  1512525 non-null  int64              \n",
      "dtypes: datetime64[ns, EST](1), float64(4), int64(2), object(1)\n",
      "memory usage: 92.3+ MB\n",
      "df['window_start'].min()=Timestamp('2017-01-04 04:00:00-0500', tz='EST')\n",
      "df['window_start'].max()=Timestamp('2017-01-04 20:00:00-0500', tz='EST')\n",
      "        ticker  volume      open     close      high       low              window_start  transactions\n",
      "0         AAPL      30  116.3700  116.3700  116.3700  116.3700 2017-01-04 04:00:00-05:00             1\n",
      "1          AAU     320    1.0000    1.0000    1.0000    1.0000 2017-01-04 04:00:00-05:00             1\n",
      "2           AU      32   11.1800   11.1800   11.1800   11.1800 2017-01-04 04:00:00-05:00             1\n",
      "3          BAC    2500   22.5700   22.6300   22.6300   22.5700 2017-01-04 04:00:00-05:00             9\n",
      "4         BIDU     300  170.0200  170.0200  170.0200  170.0200 2017-01-04 04:00:00-05:00             5\n",
      "...        ...     ...       ...       ...       ...       ...                       ...           ...\n",
      "1512520    YXI     100   26.3500   26.3500   26.3500   26.3500 2017-01-04 20:00:00-05:00             1\n",
      "1512521    YYY     270   18.6900   18.6900   18.6900   18.6900 2017-01-04 20:00:00-05:00             1\n",
      "1512522   ZMLP     200   19.3999   19.3999   19.3999   19.3999 2017-01-04 20:00:00-05:00             1\n",
      "1512523   ZROZ     100  109.9000  109.9000  109.9000  109.9000 2017-01-04 20:00:00-05:00             1\n",
      "1512524    ZSL     100   36.3400   36.3400   36.3400   36.3400 2017-01-04 20:00:00-05:00             1\n",
      "\n",
      "[1512525 rows x 8 columns]\n",
      "\n",
      "fragment.partition_expression=<pyarrow.compute.Expression (((year == 2017) and (month == 1)) and (date == 2017-01-05))>\n",
      "pa_ds.get_partition_keys(fragment.partition_expression)={'date': datetime.date(2017, 1, 5), 'month': 1, 'year': 2017}\n",
      "<class 'pandas.core.frame.DataFrame'>\n",
      "RangeIndex: 1477447 entries, 0 to 1477446\n",
      "Data columns (total 8 columns):\n",
      " #   Column        Non-Null Count    Dtype              \n",
      "---  ------        --------------    -----              \n",
      " 0   ticker        1477447 non-null  object             \n",
      " 1   volume        1477447 non-null  int64              \n",
      " 2   open          1477447 non-null  float64            \n",
      " 3   close         1477447 non-null  float64            \n",
      " 4   high          1477447 non-null  float64            \n",
      " 5   low           1477447 non-null  float64            \n",
      " 6   window_start  1477447 non-null  datetime64[ns, EST]\n",
      " 7   transactions  1477447 non-null  int64              \n",
      "dtypes: datetime64[ns, EST](1), float64(4), int64(2), object(1)\n",
      "memory usage: 90.2+ MB\n",
      "df['window_start'].min()=Timestamp('2017-01-05 04:00:00-0500', tz='EST')\n",
      "df['window_start'].max()=Timestamp('2017-01-05 20:00:00-0500', tz='EST')\n",
      "        ticker  volume      open     close      high       low              window_start  transactions\n",
      "0          ABB     130   21.2900   21.2900   21.2900   21.2900 2017-01-05 04:00:00-05:00             1\n",
      "1          ABX     200   16.6800   16.6900   16.6900   16.6800 2017-01-05 04:00:00-05:00             2\n",
      "2           AG     100    8.6200    8.6200    8.6200    8.6200 2017-01-05 04:00:00-05:00             1\n",
      "3          AUY     383    3.1100    3.1100    3.1100    3.1100 2017-01-05 04:00:00-05:00             3\n",
      "4          AXP     100   76.3700   76.3700   76.3700   76.3700 2017-01-05 04:00:00-05:00             1\n",
      "...        ...     ...       ...       ...       ...       ...                       ...           ...\n",
      "1477442    YYY     100   18.7000   18.7000   18.7000   18.7000 2017-01-05 20:00:00-05:00             1\n",
      "1477443   ZMLP     500   19.3845   19.3845   19.3845   19.3845 2017-01-05 20:00:00-05:00             1\n",
      "1477444   ZROZ     163  112.5901  112.5901  112.5901  112.5901 2017-01-05 20:00:00-05:00             1\n",
      "1477445    ZSL     100   35.5900   35.5900   35.5900   35.5900 2017-01-05 20:00:00-05:00             1\n",
      "1477446   ZSML     106   25.4500   25.4500   25.4500   25.4500 2017-01-05 20:00:00-05:00             1\n",
      "\n",
      "[1477447 rows x 8 columns]\n",
      "\n",
      "fragment.partition_expression=<pyarrow.compute.Expression (((year == 2017) and (month == 1)) and (date == 2017-01-06))>\n",
      "pa_ds.get_partition_keys(fragment.partition_expression)={'date': datetime.date(2017, 1, 6), 'month': 1, 'year': 2017}\n",
      "<class 'pandas.core.frame.DataFrame'>\n",
      "RangeIndex: 1422243 entries, 0 to 1422242\n",
      "Data columns (total 8 columns):\n",
      " #   Column        Non-Null Count    Dtype              \n",
      "---  ------        --------------    -----              \n",
      " 0   ticker        1422243 non-null  object             \n",
      " 1   volume        1422243 non-null  int64              \n",
      " 2   open          1422243 non-null  float64            \n",
      " 3   close         1422243 non-null  float64            \n",
      " 4   high          1422243 non-null  float64            \n",
      " 5   low           1422243 non-null  float64            \n",
      " 6   window_start  1422243 non-null  datetime64[ns, EST]\n",
      " 7   transactions  1422243 non-null  int64              \n",
      "dtypes: datetime64[ns, EST](1), float64(4), int64(2), object(1)\n",
      "memory usage: 86.8+ MB\n",
      "df['window_start'].min()=Timestamp('2017-01-06 04:00:00-0500', tz='EST')\n",
      "df['window_start'].max()=Timestamp('2017-01-06 20:00:00-0500', tz='EST')\n",
      "        ticker  volume    open   close    high     low              window_start  transactions\n",
      "0          ABX    3000   17.28   17.28   17.28   17.28 2017-01-06 04:00:00-05:00             4\n",
      "1          AUO     320    3.85    3.87    3.87    3.85 2017-01-06 04:00:00-05:00             2\n",
      "2          AXP       1   75.00   75.00   75.00   75.00 2017-01-06 04:00:00-05:00             1\n",
      "3         BABA     200   94.00   94.00   94.00   94.00 2017-01-06 04:00:00-05:00             3\n",
      "4          BAC     153   22.68   22.68   22.68   22.68 2017-01-06 04:00:00-05:00             1\n",
      "...        ...     ...     ...     ...     ...     ...                       ...           ...\n",
      "1422238    YXI     100   26.19   26.19   26.19   26.19 2017-01-06 20:00:00-05:00             1\n",
      "1422239    YYY     200   18.73   18.73   18.73   18.73 2017-01-06 20:00:00-05:00             1\n",
      "1422240   ZMLP     200   19.49   19.49   19.49   19.49 2017-01-06 20:00:00-05:00             1\n",
      "1422241   ZROZ     347  110.86  110.86  110.86  110.86 2017-01-06 20:00:00-05:00             2\n",
      "1422242    ZSL     100   36.05   36.05   36.05   36.05 2017-01-06 20:00:00-05:00             1\n",
      "\n",
      "[1422243 rows x 8 columns]\n",
      "\n"
     ]
    }
   ],
   "source": [
    "for fragment in aggs_ds.get_fragments():\n",
    "    print(f\"{fragment.partition_expression=}\")\n",
    "    print(f\"{pa_ds.get_partition_keys(fragment.partition_expression)=}\")\n",
    "    # print(f\"{fragment.physical_schema=}\")\n",
    "    table = fragment.to_table()\n",
    "    # print(f\"{table.slice(length=1)=}\")\n",
    "    # print(f\"{table.schema=}\")\n",
    "    # print(f\"{table=}\")\n",
    "    df = table.to_pandas()\n",
    "    df['window_start'] = df['window_start'].dt.tz_convert('EST')\n",
    "    df.info()\n",
    "    print(f\"{df['window_start'].min()=}\")\n",
    "    print(f\"{df['window_start'].max()=}\")\n",
    "    print(df)\n",
    "    print()"
   ]
  },
  {
   "cell_type": "code",
   "execution_count": null,
   "id": "badc202b-9a92-41b9-a08b-50205409a4d6",
   "metadata": {},
   "outputs": [],
   "source": []
  }
 ],
 "metadata": {
  "kernelspec": {
   "display_name": "Python 3 (ipykernel)",
   "language": "python",
   "name": "python3"
  },
  "language_info": {
   "codemirror_mode": {
    "name": "ipython",
    "version": 3
   },
   "file_extension": ".py",
   "mimetype": "text/x-python",
   "name": "python",
   "nbconvert_exporter": "python",
   "pygments_lexer": "ipython3",
   "version": "3.11.10"
  }
 },
 "nbformat": 4,
 "nbformat_minor": 5
}
